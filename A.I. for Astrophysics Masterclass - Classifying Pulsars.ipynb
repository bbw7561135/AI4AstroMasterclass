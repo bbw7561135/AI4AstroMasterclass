{
 "cells": [
  {
   "cell_type": "markdown",
   "metadata": {},
   "source": [
    "---\n",
    "\n",
    "# A.I. for Astrophysics Masterclass - Classifying Pulsars\n",
    "\n",
    "A Jupyter notebook containing a machine learning tutorial for Pulsar classification. The notebook was written to support a masterclass delivered to students at Edge Hill University on November 14th 2019.\n",
    "\n",
    "Version 1.0 (28/10/2019)\n",
    "\n",
    "---\n",
    "\n",
    "## Author\n",
    "\n",
    "[Dr. Robert Lyon](mailto:robert.lyon@edgehill.ac.uk)\n",
    "\n",
    "[Lecturer](https://www.edgehill.ac.uk/computerscience/people/academic-staff/robert-lyon/) @ Edge Hill University, [Department of Computer Science](https://www.edgehill.ac.uk/computerscience/). \n",
    "\n",
    "Also see [www.scienceguyrob.com](www.scienceguyrob.com).\n",
    "\n",
    "If using/editing this resource, please cite it appropriately using the DOI: .\n",
    "\n",
    "<br/>\n",
    "\n",
    "Remember if you find this resource useful, you can let me know via social media [<img src=\"https://github.com/scienceguyrob/AI4AstroMasterclass/raw/master/media/images/general/TwitterLogoBlue.png\" width=\"30\">](https://twitter.com/scienceguyrob?lang=en)\n",
    "                                                                   \n",
    "---\n",
    "\n",
    "## License\n",
    "The code and the contents of this notebook are released under the [GNU GENERAL PUBLIC LICENSE](https://www.gnu.org/licenses/gpl-3.0.en.html), Version 3, 29 June 2007. Any videos linked to are exempt from this, please check the license provided by the video content owners if you would like to use them. If reusing this material, please cite it appropriately.\n",
    "\n",
    "---\n",
    "\n",
    "## <a id=\"Contents\"></a> Table of Contents\n",
    "\n",
    "1. [Introduction](#Introduction)\n",
    "\n",
    "    1.1 [Who is this for?](#who)\n",
    "    \n",
    "    1.2 [Aims](#aims)\n",
    "    \n",
    "    1.3 [Tools](#tools)\n",
    "    \n",
    "    1.4 [Using this Resource](#using)\n",
    "    \n",
    "      * [Introducing Notebooks](#introducingnotebooks)\n",
    "      \n",
    "      * [Using this Notebook](#usingthisnotebook)\n",
    "      \n",
    "      * [Using Google Colab](#usinggooglecolab)\n",
    "      \n",
    "      * [Your own Environment](#ownenvironment)\n",
    "        \n",
    "2. [Python Primer](#PythonPrimer)\n",
    "\n",
    "    2.1 [Comments](#PythonComments)\n",
    "    \n",
    "    2.2 [Variables](#PythonVariables)\n",
    "    \n",
    "    2.3 [Casting](#PythonCasting)\n",
    "    \n",
    "    2.4 [Strings](#PythonStrings)\n",
    "    \n",
    "    2.5 [Immutability](#PythonImmutability)\n",
    "    \n",
    "    2.6 [Indentation](#PythonIndentation)\n",
    "    \n",
    "    2.7 [Lists](#PythonLists)\n",
    "    \n",
    "    2.8 [Dictionaries](#PythonDictionaries)\n",
    "    \n",
    "    2.9 [Python Operators](#PythonOperators)\n",
    "    \n",
    "    2.10 [If-Else](#PythonIfElse)\n",
    "     \n",
    "    2.11 [While Loops](#PythonWhile)\n",
    "    \n",
    "    2.12 [For Loops](#PythonFor)\n",
    "    \n",
    "    2.13 [Functions](#PythonFunctions)\n",
    "    \n",
    "    2.14 [Scope](#PythonScope)\n",
    "\n",
    "3. [A.I. and Machine Learning](#aiandml)\n",
    "\n",
    "    3.1 [Overview](#mloverview)\n",
    "    \n",
    "    3.2 [Applications of Machine Learning](#aiapplications)\n",
    "    \n",
    "    3.3 [Importance of Machine Learning](#importanceofml)\n",
    "    \n",
    "    3.4 [Learning and Experience](#learningexplained)\n",
    "    \n",
    "    3.5 [Classification](#classification)\n",
    "    \n",
    "    3.6 [Automated Learning](#mlkeyconcepts)\n",
    "    \n",
    "      * [Generative Learning](#generative)\n",
    "      \n",
    "      * [Discriminative Learning](#discriminative)\n",
    "      \n",
    "      * [Unsupervised Learning](#unsupervised)\n",
    "      \n",
    "      * [Evaluation](#evaluation)\n",
    "      \n",
    "    3.7 [Summary](#mlsummary)\n",
    "\n",
    "\n",
    "4. [Masterclass](#masterclass)\n",
    "\n",
    "    4.1 [Data Introduction](#dataintro)\n",
    "    \n",
    "    4.2 [Plotting Data](#dataplots)\n",
    "    \n",
    "    4.3 [Standardising Data](#datastandardising)\n",
    "    \n",
    "    4.4 [Pulsar Data](#pulsardata)\n",
    "    \n",
    "    4.5 [datapreprocessing](#datapreprocessing)\n",
    "    \n",
    "    4.6 [Feature Extraction](#featureextraction)\n",
    "\n",
    "    4.7 [Building Training and Test sets](#buildingtrainandtest)\n",
    "    \n",
    "    4.8 [Building Classifiers](#builingclassifiers)\n",
    "    \n",
    "    4.9 [Evaluating Classifiers](#evaluatingclassifiers)\n",
    "    \n",
    "5. [References](#references)\n",
    "---"
   ]
  },
  {
   "cell_type": "markdown",
   "metadata": {},
   "source": [
    "## <a id=\"Introduction\"></a>1. Introduction\n",
    "\n",
    "In this \"masterclass\" we'll use techniques from the field of Artificial Intelligence (A.I.), to process real telescope data with the aim of accurately categorising [variable stars](https://en.wikipedia.org/wiki/Variable_star). In doing this you’ll begin to understand how A.I. can be applied in the real-world. You’ll also become comfortable building your own basic machine learning workflows in Python. You may even pick up some astrophysics knowledge along the way, which I hope you'll find interesting. It is worth noting that the content below is designed to be delivered in person, alongside supporting presentation slides. However, I've provided lots of additional material below to make the content accessible to those not attending the masterclass, enabling off-line participation.\n",
    "\n",
    "<br/>\n"
   ]
  },
  {
   "cell_type": "markdown",
   "metadata": {},
   "source": [
    "\n",
    "### <a id=\"who\"></a>1.1 Who is this tutorial for?\n",
    "\n",
    "The content below was written for complete novices. It makes no assumptions regarding prior knowledge or programming experience. This makes it suitable for first year undergraduates studying Computing, Data Science, or even Physics/Astrophysics.\n",
    "\n",
    "<br/>\n"
   ]
  },
  {
   "cell_type": "markdown",
   "metadata": {},
   "source": [
    "### <a id=\"aims\"></a>1.2 Aims\n",
    "\n",
    "This tutorial has some ambitious aims:\n",
    "\n",
    "* to introduce students to the basic ideas underpinning artificial intelligence and machine learning.\n",
    "* to teach students the Python skills required to build basic machine learning pipelines with [Scikit-learn](https://scikit-learn.org/stable/) (a Python based machine learning library). This **will** require some self-study if a complete newcomer to Python.\n",
    "* to teach students how to:\n",
    "    * read in data from file resources.\n",
    "    * pre-process data for use by machine learning algorithms.\n",
    "    * extract features from data (and some basic feature extraction concepts).\n",
    "    * train, test and apply basic machine learning models.\n",
    "    \n",
    "<br/>\n"
   ]
  },
  {
   "cell_type": "markdown",
   "metadata": {},
   "source": [
    "### <a id=\"tools\"></a>1.3 Tools\n",
    "Python 3.6 code provided in this [Jupyter notebook](https://jupyter.org/). To make full use of the notebook, you'll require the following Python libraries:\n",
    "\n",
    "* [Imbalanced-Learn](https://imbalanced-learn.readthedocs.io/en/stable/)\n",
    "* [Numpy](https://numpy.org/)\n",
    "* [Matplotlib](https://matplotlib.org/)\n",
    "* [Pandas](https://pandas.pydata.org/)\n",
    "* [Scikit-learn](https://scikit-learn.org/stable/)\n",
    "* [Scipy](https://www.scipy.org/)\n",
    "\n",
    "<br/>"
   ]
  },
  {
   "cell_type": "markdown",
   "metadata": {},
   "source": [
    "### <a id=\"using\"></a>1.4 Using this Resource\n",
    "The following sections explain how to use this resource in more detail.\n",
    "\n",
    "<br/>\n"
   ]
  },
  {
   "cell_type": "markdown",
   "metadata": {},
   "source": [
    "#### <a id=\"introducingnotebooks\"></a> 1.4.1 Introducing Notebooks\n",
    "\n",
    "The resource you're currently reading is called an [IPython](https://en.wikipedia.org/wiki/IPython) notebook. IPython notebooks, or just notebooks for short, are documents that contain executable code mixed with rich text. The code and text is contained within separate executable 'cells'. Their contents can be displayed (text cells) or code run (code cells) upon execution. \n",
    "\n",
    "<br/>\n",
    "\n",
    "Notebooks are 'interactive' resources. That is, you can execute cells independently, in any order, in an interactive fashion.  This is significantly different from writing regular code where,\n",
    "\n",
    "1. you'd write your code in a single file.\n",
    "2. you'd compile it (or interpret it in Python/Java etc).\n",
    "3. you'd execute it (which happens sequentially line by line). \n",
    "\n",
    "The notebook provides a wrapper that hides these steps. When you execute code in a cell, the code is passed to the Python interpreter and executed. Crucially, the variables and functions defined in a cell become available to all other cells after execution. By combining cells, you can then build complex applications. But the main reason we use notebooks is because they are great for teaching. I can provide text explaining the code, then you can execute the code for yourself, seeing the results in real-time. If this doesn't make sense yet don't worry - examples will be provided to make things clearer.\n",
    "\n",
    "<br/>\n"
   ]
  },
  {
   "cell_type": "markdown",
   "metadata": {},
   "source": [
    "#### <a id=\"usingthisnotebook\"></a> 1.4.2 Using this Notebook\n",
    "\n",
    "There are two main ways you can execute this notebook's contents.\n",
    "\n",
    "1. [Google Colab](https://colab.research.google.com/) - this is the default option for those attending the masterclass in person. Can also be used by those that didn't attend (no access restrictions).\n",
    "2. Your own install of [Jupyter Notebooks](https://jupyter.org/) - those that don't wish to use the Google Colab environment can use their own Jupyter install. However, if taking this option, you'll have to ensure you install the required libraries ([Imbalanced-Learn](https://imbalanced-learn.readthedocs.io/en/stable/), [Numpy](https://numpy.org/), [Matplotlib](https://matplotlib.org/), [Pandas](https://pandas.pydata.org/), [Scikit-learn](https://scikit-learn.org/stable/), [Scipy](https://www.scipy.org/)).\n",
    "\n",
    "\n",
    "More details regarding each option are provided in the sections below.\n",
    "\n",
    "<br/>"
   ]
  },
  {
   "cell_type": "markdown",
   "metadata": {},
   "source": [
    "#### <a id=\"usinggooglecolab\"></a>1.4.3 Using Google Colab\n",
    "\n",
    "[Google Collaboratory](https://colab.research.google.com/) (Google Colab, or just Colab) provides an online development environment. It contains all the tools necessary to write and execute Python programs. To use the Collaboratory you’ll need a google account, e.g. a Gmail Account. When you login to the Collaboratory, it creates a cloud computer just for you. \n",
    "\n",
    "1. Open Google Chrome **(Colab only runs in Chrome, [download](https://www.google.com/chrome/) Chrome if needed)**.\n",
    "2. Login to the Google Colab environment using a valid Google account ([create one](https://accounts.google.com) if you don't have a Google account).\n",
    "3. Next create **your** own copy of this resource. That way you can edit it any way you please. To do this, click the **\"File\"** menu at the top of the screen.\n",
    "4. Click the menu option that says **\"Download .ipynb\"**. This will download the notebook resource to your personal computer.\n",
    "5. Once the download has completed, rename the downloaded file so you know what it is - for example, *\"my work.ipynb\"*. **Keep** the file extension **\".ipynb\"** in the file name.\n",
    "6. Now upload the renamed file to the Colab environment so you can edit/run it. To do this, click the **\"File\"** menu, then click **\"Upload Notebook\"**. Use the file chooser that appears, to select your file.\n",
    "7. The notebook should load into your browser window. This is now **your** notebook. Any changes made will not impact anybody else.\n",
    "8. The notebook is made up of cells. To run the code inside the cells, we must **\"execute\"** these cells. This is easy to do. Simply hover your mouse over the left most end of a cell containing code. A small **\"play\"** button will appear. Click this play button to execute the code. \n",
    "\n",
    "<br/>\n",
    "\n",
    "I advise that you step through each cell in this notebook slowly, at your own pace. Once you understand each cell, move on. This is important, as each cell builds upon the next. Remember, each cell is supposed to be executed in turn - from the top to the bottom of the notebook. So, keep that in mind!\n",
    "\n",
    "<br/>\n",
    "\n",
    "The cell below contains code that loads a YouTube video that explains a little more about Google Colab. Mostly how to use it. Execute the cell below, then watch the video before proceeding.\n"
   ]
  },
  {
   "cell_type": "code",
   "execution_count": 7,
   "metadata": {},
   "outputs": [
    {
     "data": {
      "text/html": [
       "\n",
       "        <iframe\n",
       "            width=\"560\"\n",
       "            height=\"315\"\n",
       "            src=\"https://www.youtube.com/embed/inN8seMm7UI\"\n",
       "            frameborder=\"0\"\n",
       "            allowfullscreen\n",
       "        ></iframe>\n",
       "        "
      ],
      "text/plain": [
       "<IPython.lib.display.IFrame at 0x7f8ee81b4f98>"
      ]
     },
     "execution_count": 7,
     "metadata": {},
     "output_type": "execute_result"
    }
   ],
   "source": [
    "# You may be wondering why there is code in this cell. This is needed to\n",
    "# to show video resources.\n",
    "#\n",
    "# You see, Colab notebooks weren't written with displaying videos in mind. But, \n",
    "# we can import a Python package that allows us to do this. That's what I \n",
    "# do here:\n",
    "\n",
    "from IPython.display import IFrame\n",
    "# Then the code below actually shows the video. Don't worry about understanding\n",
    "# this code. I just include this explanation for the curious.\n",
    "IFrame(src='https://www.youtube.com/embed/inN8seMm7UI', width=560, height=315)\n"
   ]
  },
  {
   "cell_type": "markdown",
   "metadata": {},
   "source": [
    "<br/>\n",
    "\n",
    "#### <a id=\"ownenvironment\"></a>1.4.4 Your own Environment\n",
    "There are a few different ways to setup a working notebook environment. Unfortunately, I don't have time to cover them all! If determined to avoid the Colab, there is one approach that I suggest you take - this involves installing [Anaconda](https://www.anaconda.com/). For those who already have anaconda, instructions for creating a suitable environment are provided below.\n",
    "\n",
    "**Don't currently have Anaconda**\n",
    "\n",
    "1. Download the appropriate version of Anaconda from the [download site](https://www.anaconda.com/distribution/).\n",
    "2. Run the installer and follow the install instructions provided [here](https://docs.anaconda.com/anaconda/install/).\n",
    "3. Once Anaconda is successfully installed, you need to create a conda environment.\n",
    "4. Open the Anaconda Prompt on Windows or the Mac/Linux Terminal as appropriate.\n",
    "5. At the prompt/terminal run the command: ```conda create -n ai4astromc python=3.6 anaconda```\n",
    "6. At the prompt/terminal activate the new environment via the command: ```activate ai4astromc```\n",
    "7. At the prompt/terminal we can install the required packages via the command: ```conda install numpy scipy matplotlib pandas numba jupyter scikit-learn```\n",
    "8. When prompted by the package installer press: ```Y```\n",
    "9. At the prompt/terminal we install the final package required via the command:```conda install -c conda-forge imbalanced-learn```\n",
    "10. When prompted by the package installer press: ```Y```\n",
    "11. Download this notebook from the Google Colab site. Save the notebook to somewhere on your local machine. The tag ```<DIR>``` represents the absolute path to the directory containing the notebook file. You'll need to update the directory path depending on where you saved the file (e.g. on Windows this might be ```C:\\Users\\rob\\Downloads``` or on Mac/Linux it might be ```/users/rob/downloads```).\n",
    "12. At the prompt/terminal, navigate to the directory ```<DIR>``` containing this notebook. On Mac or Linux you can do this via the ```cd``` terminal command. I believe the same command can be used in the Anaconda Prompt on Windows.\n",
    "3. When inside the directory ```<DIR>```, run the command ```jupyter notebook``` at the prompt/terminal. When the Jupyter UI loads in your default web browser, load this notebook by double clicking it in the navigation pane on the left-hand side.  Remember: before starting Jupyter notebooks, ensure you have activated the correct Python environment by running the command in step 6 above.\n",
    "\n",
    "\n",
    "**Have Anaconda already**\n",
    "1. At the Anaconda Prompt in Windows or the Mac/Linux terminal, run the command: ```conda create -n ai4astromc python=3.6 anaconda```\n",
    "2. At the prompt/terminal activate this environment via the command: ```activate ai4astromc```\n",
    "3. At the prompt/terminal we install the required packages via the command: ```conda install numpy scipy matplotlib pandas numba jupyter scikit-learn```\n",
    "4. When prompted, press: ```Y```\n",
    "5. At the prompt/terminal we install the final package required via the command:```conda install -c conda-forge imbalanced-learn```\n",
    "6. When prompted by the package installer press: ```Y```\n",
    "7. Download this notebook from the Google Colab site. Save the notebook to somewhere on your local machine. The tag ```<DIR>``` represents the absolute path to the directory containing the notebook file. You'll need to update the directory path depending on where you saved the file (e.g. on Windows this might be ```C:\\Users\\rob\\Downloads``` or on Mac/Linux it might be ```/users/rob/downloads```).\n",
    "8. At the prompt/terminal, navigate to the directory ```<DIR>``` containing this notebook. On Mac or Linux you can do this via the ```cd``` terminal command. I believe the same command can be used in the Anaconda Prompt on Windows.\n",
    "9. When inside the directory ```<DIR>```, run the command ```jupyter notebook``` at the prompt/terminal. When the Jupyter UI loads in your default web browser, load this notebook by double clicking it in the navigation pane on the left-hand side.  Remember: before starting Jupyter notebooks, ensure you have activated the correct Python environment by running the command in step 6 above.\n",
    "\n",
    "\n",
    "The video below will help you get to know Jupyter notebooks, and teach you how to load resources.\n"
   ]
  },
  {
   "cell_type": "code",
   "execution_count": 8,
   "metadata": {},
   "outputs": [
    {
     "data": {
      "text/html": [
       "\n",
       "        <iframe\n",
       "            width=\"560\"\n",
       "            height=\"315\"\n",
       "            src=\"https://www.youtube.com/embed/3C9E2yPBw7s\"\n",
       "            frameborder=\"0\"\n",
       "            allowfullscreen\n",
       "        ></iframe>\n",
       "        "
      ],
      "text/plain": [
       "<IPython.lib.display.IFrame at 0x7f8ee81b41d0>"
      ]
     },
     "execution_count": 8,
     "metadata": {},
     "output_type": "execute_result"
    }
   ],
   "source": [
    "from IPython.display import IFrame\n",
    "# Then the code below actually shows the video. Don't worry about understanding\n",
    "# this code. I just include this explanation for the curious.\n",
    "IFrame(src='https://www.youtube.com/embed/3C9E2yPBw7s', width=560, height=315)"
   ]
  },
  {
   "cell_type": "markdown",
   "metadata": {},
   "source": [
    "<br/>\n",
    "\n",
    "[Back to table of contents.](#Contents)\n",
    "\n",
    "---"
   ]
  },
  {
   "cell_type": "markdown",
   "metadata": {},
   "source": [
    "## <a id=\"PythonPrimer\"></a>2. Python Primer\n",
    "\n",
    "This section provides a quick Primer for Python - if you're familiar with Python already, head to section 3.\n",
    "\n",
    "Programming involves writing instructions that orchestrate the actions of a computer and its hardware components. The instructions are written with the aim of accomplishing a specific goal or task. You know this, but what does it mean? \n",
    "How is it achieved? We don’t need to delve too deep into computer science to gain a solid understanding.\n",
    "\n",
    "<br/>\n",
    "\n",
    "\n",
    "When you write code, you’re providing instructions that can control a [CPU]. Although CPUs are complex devices, we can think of them as simple input/output boxes. They accept input in the form of machine code and produce machine code outputs. To control the CPU, the code you write must be turned into “Machine Code”.  The CPU reads the machine code, and ultimately does as it’s told! For those who are interested, [this video](https://www.youtube.com/watch?v=FkeRMQzD-0Y) explains machine code in a little more detail.\n",
    "\n",
    "\n",
    "<br/>\n",
    "\n",
    "How does the code you're about to write link to this? Well, the code you write has to be converted into machine code. This conversion can be achieved in two ways - either via compilation, or interpretation.\n",
    "\n",
    "**Compiled Programming Languages** \n",
    "\n",
    "Some computer programming languages are known as [compiled](https://en.wikipedia.org/wiki/Compiled_language). For each type of CPU, a tool called a compiler is created, that understands its machine code. When you write a piece of code, it is stored in a source code file. This file is then passed to the compiler. The compiler goes through the code file line by line and translates it to machine code. This produces an executable file, that a CPU can run. Languages like ```C``` and ```C++``` are compiled.\n",
    "\n",
    "**Interpreted Programming Languages** \n",
    "\n",
    "Some computer programming languages are known as [interpreted](https://en.wikipedia.org/wiki/Interpreted_language). For each type of CPU, a tool called an interpreter is created, that understands its machine code. When you write a piece of code, it is stored in a source code file. This file is then passed to the interpreter. The interpreter goes through the code file line by line and translates it to machine code. This produces an executable file, that a CPU can run. Some interpreted languages are special, in that they can be interpreted on the fly. That is, you don’t need to interpret an entire source code file to create machine code.  You can interpret single lines of code as you write them if needed. Languages like ```Python``` and ```Ruby``` are interpreted. [This video](https://www.youtube.com/watch?v=I1f45REi3k4) covers the difference between compiled and interpreted in a little more detail.\n",
    "\n",
    "**Python**\n",
    "Here we're going to be writing [Python 3](https://en.wikipedia.org/wiki/Python_(programming_language)) code. Thus, we'll need an interpreter capable of running Python code. The Google Colab environment provides this for us. Or if you're using Anaconda and Jupyter notebooks, you'll be using a Python environment and interpreter that you've setup on your own machine.\n",
    "\n",
    "<br/>\n",
    "\n",
    "There are many advantages and disadvantages to Python being interpreted. \n",
    "\n",
    "<br/>\n",
    "\n",
    "|Advantages | Disadvantages|\n",
    "|-----------|--------------|\n",
    "|The ability to create variables without explaining what they contain (e.g. are variables numbers or strings).|We can’t control where variables are put in memory, making it difficult to write super-efficient programs.|\n",
    "|The ability to create variables without worrying where they are stored in memory.|Interpreting Python code is slow compared to compiling code – this means Python programs do not run as fast as programs compiled in other languages.|\n",
    "|The ability to run individual python commands without having to build entire programs.|Because we don’t explicitly tell Python what types our variables are, we can introduce unexpected errors if we’re not careful.|\n",
    "|The ability to run Python code on any machine with an interpreter (platform independence).||\n",
    "\n",
    "<br/>\n",
    "\n",
    "\n",
    "Perhaps you've already written Python code. If not, it's important that we learn from the start to write clear, concise, and easy to maintain code. To help us do this there is a set of standards, some might say guidelines, for writing “good” Python code. The standard was created when a Python Enhancement Proposal (PEP) was approved. PEP 8 defined coding standards which I strongly encourage you to adopt. The code we write here will adhere to this standard as closely as possible – but if you’re ever in doubt about coding styles or conventions – check [the standard](https://www.python.org/dev/peps/pep-0008/).\n",
    "\n",
    "<br/>\n"
   ]
  },
  {
   "cell_type": "markdown",
   "metadata": {},
   "source": [
    "### <a id=\"PythonComments\"></a>2.1. Comments\n",
    "\n",
    "Why do we comment our code? There are a variety of important reasons.\n",
    "\n",
    "* To explain how it works.\n",
    "* To make it easier to read.\n",
    "* To help make the code easier to maintain, for those who didn’t write it.\n",
    "\n",
    "It is important to write informative, succinct comments. There are two types of comment:\n",
    "\n",
    "  * In-line comments\n",
    "  * And Block comments\n",
    "\n",
    "<br/>\n",
    "\n",
    "The hash (#) symbol is used to start a comment. The python interpreter ignores any text following the hash symbol in code.\n",
    "\n",
    "<br/>\n",
    "\n",
    "An **in-line comment** explains a single line of code. It may explain the purpose of the line or provide important information and pointers. Such comments should be used only when required. \n",
    "\n",
    "<br/>\n",
    "\n",
    "A **block comment** explains one or more lines of code. Blocks can spread over multiple lines if required, depending on the complexity of the code. If a comment needs more than one paragraph, split the comment up using an empty comment line. \n",
    "\n",
    "\n",
    "Follow the cells below and execute them as you go. The code cells will contain comments that explain how/why things are done. Looking through the cells for yourself will get you into the habit of reading code early on."
   ]
  },
  {
   "cell_type": "code",
   "execution_count": 46,
   "metadata": {
    "colab": {
     "base_uri": "https://localhost:8080/",
     "height": 68
    },
    "colab_type": "code",
    "id": "0qyJIH2kIdUV",
    "outputId": "49761337-a970-4fc9-f94f-c0ccc23d4ac8"
   },
   "outputs": [
    {
     "name": "stdout",
     "output_type": "stream",
     "text": [
      "Position of R:  0\n",
      "Position of o:  1\n",
      "Position of b:  2\n"
     ]
    }
   ],
   "source": [
    "# This is a single line comment.\n",
    "\n",
    "# Comment that explains the code below. Here we simply add two numbers.\n",
    "number_1 = 10\n",
    "number_2 = 15\n",
    "result = number_1 + number_2\n",
    "\n",
    "# Now we have a multiline comment. I often use these to explain code that\n",
    "# may not be clear. Ideally, we keep such comments succinct. However, I'll \n",
    "# break that rule for educational purposes in this notebook.\n",
    "#\n",
    "# Below is some code that checks if a character is in a string. If it is\n",
    "# present, it returns the index corresponding to the position in the string\n",
    "# where the character was found. For example, if we have the following String:\n",
    "#\n",
    "# \"Rob\"\n",
    "#\n",
    "# Then we can view the strings as a collection of characters with specific \n",
    "# positions, or indexes, in the string, e.g.\n",
    "#\n",
    "# index:   0  1  2\n",
    "#          |  |  |\n",
    "#          v  v  v\n",
    "#        \" R  o  b \" \n",
    "#\n",
    "# So, if asking for the index of the character \"R\" in the string, the index\n",
    "# will be zero.\n",
    "text = \"Rob\"\n",
    "print(\"Position of R: \", text.find('R'))\n",
    "print(\"Position of o: \", text.find('o'))\n",
    "print(\"Position of b: \", text.find('b'))\n"
   ]
  },
  {
   "cell_type": "markdown",
   "metadata": {
    "colab_type": "text",
    "id": "Ybiv8zkLmrge"
   },
   "source": [
    "Can you comment the code below? What would you say to explain the code? The answer is provided in a few cells down - but don't look right away!"
   ]
  },
  {
   "cell_type": "code",
   "execution_count": 47,
   "metadata": {
    "colab": {
     "base_uri": "https://localhost:8080/",
     "height": 102
    },
    "colab_type": "code",
    "id": "Fhss4NNlnA0s",
    "outputId": "7cbda580-13e6-4583-dce8-12e5eb9ef4fe"
   },
   "outputs": [
    {
     "name": "stdout",
     "output_type": "stream",
     "text": [
      "number_1 now even: 2\n",
      "number_1 now even: 4\n",
      "number_1 now even: 6\n",
      "number_1 now even: 8\n",
      "number_1 now even: 10\n"
     ]
    }
   ],
   "source": [
    "number_1 = 0\n",
    "number_2 = 10\n",
    "\n",
    "while number_1 < number_2:\n",
    "  number_1 +=1\n",
    "  \n",
    "  if number_1 % 2 == 0:\n",
    "    \n",
    "    print(\"number_1 now even:\", number_1)"
   ]
  },
  {
   "cell_type": "markdown",
   "metadata": {
    "colab_type": "text",
    "id": "VM_2MNFtnBTD"
   },
   "source": [
    "My comments are below. Different people will write comments in different ways. That's ok, so long as the key pieces of information are conveyed."
   ]
  },
  {
   "cell_type": "code",
   "execution_count": 48,
   "metadata": {
    "colab": {
     "base_uri": "https://localhost:8080/",
     "height": 119
    },
    "colab_type": "code",
    "id": "sZkvvd3mnBqq",
    "outputId": "6c0b582b-79f4-449a-dea2-f4e764049faf"
   },
   "outputs": [
    {
     "name": "stdout",
     "output_type": "stream",
     "text": [
      "number_1 now even: 0\n",
      "number_1 now even: 2\n",
      "number_1 now even: 4\n",
      "number_1 now even: 6\n",
      "number_1 now even: 8\n",
      "number_1 now even: 10\n"
     ]
    }
   ],
   "source": [
    "# Some simple code that prints out the even numbers between\n",
    "# the variables number_1 and number_2. The values of these\n",
    "# variables can be altered as required.\n",
    "number_1 = -1\n",
    "number_2 = 10\n",
    "\n",
    "# While number_1 is less than number_2\n",
    "while number_1 < number_2:\n",
    "  number_1 +=1 # increment the value of number_1 by 1.\n",
    "  \n",
    "  # If number_1 is even, print that out.\n",
    "  if number_1 % 2 == 0:\n",
    "    \n",
    "    print(\"number_1 now even:\", number_1)"
   ]
  },
  {
   "cell_type": "markdown",
   "metadata": {},
   "source": [
    "Before we proceed, the main types of comment you can use in Python are summarised in the cell below."
   ]
  },
  {
   "cell_type": "code",
   "execution_count": null,
   "metadata": {
    "colab": {},
    "colab_type": "code",
    "id": "QU74UvFy35NM"
   },
   "outputs": [],
   "source": [
    "# This is a single line comment in Python.\n",
    "\n",
    "\n",
    "'''\n",
    "This is also a multi-line comment in python.\n",
    "But we use these sorts of comments to document\n",
    "specific parts of the code. We'll address this later.\n",
    "'''\n"
   ]
  },
  {
   "cell_type": "markdown",
   "metadata": {
    "colab_type": "text",
    "id": "yUMGn9RaIdp1"
   },
   "source": [
    "<br/>\n",
    "\n",
    "[Back to table of contents.](#Contents)\n",
    "\n",
    "---"
   ]
  },
  {
   "cell_type": "markdown",
   "metadata": {
    "colab_type": "text",
    "id": "gtHa5IVCdCck"
   },
   "source": [
    "### <a id=\"PythonVariables\">2.2 Variables\n",
    "\n",
    "Variables can be thought of as storage boxes kept in computer memory. The Python interpreter takes care of exactly where in memory that is. We use variables to store all sorts of useful information in our programs. \n",
    "\n",
    "<br/>\n",
    "\n",
    "The Python interpreter figures out what \"type\" variables are, for us automatically. It is up to us as programmers to ensure we don’t mix the types, in ways that aren’t intended. \n",
    "\n",
    "<br/>\n",
    "\n",
    "Here's a summary of the variable types you should know so far.\n",
    "\n",
    "<br/>\n",
    "\n",
    "\n",
    "| Type   | Examples                      | Python Code Example that creates the variable |\n",
    "|--------|-------------------------------|---------------------|\n",
    "|Integer |… -2, -1, 0, 1, 2 …            | x = 1               |\n",
    "|Float   |… -2.1, -1.4, 0.01, 1.2, 2.8...| x = 0.5675          |\n",
    "|String  |hello                          | x = “hello”         |\n",
    "|Boolean |TRUE or FALSE                  | x = True            |\n",
    "\n",
    "\n",
    "<br/>\n",
    "\n",
    "Below is a video which discusses variables in more detail. Please watch this before you continue.\n"
   ]
  },
  {
   "cell_type": "code",
   "execution_count": 54,
   "metadata": {
    "colab": {
     "base_uri": "https://localhost:8080/",
     "height": 336
    },
    "colab_type": "code",
    "id": "MMlEuXEZjCEo",
    "outputId": "deef9505-18be-4d15-8ffd-4294f4f89eee"
   },
   "outputs": [
    {
     "data": {
      "text/html": [
       "\n",
       "        <iframe\n",
       "            width=\"560\"\n",
       "            height=\"315\"\n",
       "            src=\"https://www.youtube.com/embed/cQT33yu9pY8\"\n",
       "            frameborder=\"0\"\n",
       "            allowfullscreen\n",
       "        ></iframe>\n",
       "        "
      ],
      "text/plain": [
       "<IPython.lib.display.IFrame at 0x7fa5b844b198>"
      ]
     },
     "execution_count": 54,
     "metadata": {},
     "output_type": "execute_result"
    }
   ],
   "source": [
    "from IPython.display import IFrame\n",
    "# Then the code below actually shows the video. Don't worry about understanding\n",
    "# this code. I just include this explanation for the curious.\n",
    "IFrame(src='https://www.youtube.com/embed/cQT33yu9pY8', width=560, height=315)"
   ]
  },
  {
   "cell_type": "markdown",
   "metadata": {
    "colab_type": "text",
    "id": "IpudLqlVq9I8"
   },
   "source": [
    "Now we've watched the video, let’s explore variables in more detail - and tackle some challenges. Read through the cell below and execute it when ready - remember to follow the comments for guidance too."
   ]
  },
  {
   "cell_type": "code",
   "execution_count": 49,
   "metadata": {
    "colab": {
     "base_uri": "https://localhost:8080/",
     "height": 68
    },
    "colab_type": "code",
    "id": "zSTfx8j1bID3",
    "outputId": "9eae6b89-b0ff-4952-d6c9-95954b097ef1"
   },
   "outputs": [
    {
     "name": "stdout",
     "output_type": "stream",
     "text": [
      "Type of variable 'number_1':  <class 'int'>\n",
      "ID of variable 'number_1':  4533384832\n",
      "ID of variable 'number_1' after updating:  4533384864\n"
     ]
    }
   ],
   "source": [
    "# Let's create some variables, and play with the standard library methods \n",
    "# available to us.\n",
    "#\n",
    "# The code below creates an integer variable. Remember, integers are\n",
    "# whole numbers (e.g. -1, 0, 1 etc.).\n",
    "number_1 = 1\n",
    "\n",
    "# We can verify the data type of the variable using the type() command:\n",
    "print(\"Type of variable 'number_1': \", type(number_1))\n",
    "\n",
    "# We can also obtain unique identifier for the variable too. To do this we use\n",
    "# the id() command. When a variable is created, it is assigned a unique \n",
    "# identifier by the Python interpreter. This allows the variable to be\n",
    "# tracked and managed appropriately in memory. The ID is a bit like a national\n",
    "# insurance number. Better yet, think of the ID as a pointer to a variable that\n",
    "# is stored in memory somewhere.\n",
    "print(\"ID of variable 'number_1': \", id(number_1))\n",
    "\n",
    "\n",
    "# Now let's try and change the value of number_1\n",
    "number_1 = 2\n",
    "\n",
    "# What impact does this have on the variable ID?\n",
    "print(\"ID of variable 'number_1' after updating: \", id(number_1))\n"
   ]
  },
  {
   "cell_type": "markdown",
   "metadata": {
    "colab_type": "text",
    "id": "_bseV_a_1TQ-"
   },
   "source": [
    "We can see above that changing the value of the variable *number_1* from 1 to 2, changed it's identifier. So, what happened here? Well, changing the variable created a new variable. This new variable is stored in a different location in memory, which the updated ID points to. What happens if we try and change the value back?"
   ]
  },
  {
   "cell_type": "code",
   "execution_count": 50,
   "metadata": {
    "colab": {
     "base_uri": "https://localhost:8080/",
     "height": 34
    },
    "colab_type": "code",
    "id": "jACmSzmx1UDs",
    "outputId": "8c9da1dc-7533-4456-9efb-6cf836ee666d"
   },
   "outputs": [
    {
     "name": "stdout",
     "output_type": "stream",
     "text": [
      "ID of variable 'number_1' after changing back:  4533384832\n"
     ]
    }
   ],
   "source": [
    "# Now let's try and change the value of number_1 back to 1\n",
    "number_1 = 1\n",
    "\n",
    "# What impact does this have on the variable ID? Compare the value of\n",
    "# the ID to the value first reported above.\n",
    "print(\"ID of variable 'number_1' after changing back: \", id(number_1))\n"
   ]
  },
  {
   "cell_type": "markdown",
   "metadata": {
    "colab_type": "text",
    "id": "z9w509uM2rxN"
   },
   "source": [
    "We find that the ID has returned to the original value outputted. This shows that the original value of *number_1* is still in memory, and now we're simply pointing back to it. This becomes important in situations where we need to write efficient programs that use as little memory as possible - for example, when writing applications for mobile devices. So be aware of the variables you declare and how much memory you're using. Only use the variables you actually need. Now we explore some other variables."
   ]
  },
  {
   "cell_type": "code",
   "execution_count": 51,
   "metadata": {
    "colab": {
     "base_uri": "https://localhost:8080/",
     "height": 68
    },
    "colab_type": "code",
    "id": "T1On8BrC2sMT",
    "outputId": "6853f005-44c3-41c7-c9f4-f74c9a4b5cb5"
   },
   "outputs": [
    {
     "name": "stdout",
     "output_type": "stream",
     "text": [
      "Type of variable 'number_1':  <class 'float'>\n",
      "Type of variable 'text':  <class 'str'>\n",
      "Length of variable 'text':  8\n"
     ]
    }
   ],
   "source": [
    "# The code below creates a floating-point variable (a float). Remember, floats\n",
    "# are numbers with fractional components (e.g. -1.21, 0.001, 1.483 etc.).\n",
    "number_1 = 1.999\n",
    "\n",
    "# We can verify the data type of the variable using the type() command:\n",
    "print(\"Type of variable 'number_1': \", type(number_1))\n",
    "\n",
    "# The code below creates a string variable (a str). Remember, strings\n",
    "# are just textual variables.\n",
    "text = \"a string\"\n",
    "\n",
    "# We can verify the data type of the variable using the type() command:\n",
    "print(\"Type of variable 'text': \", type(text))\n",
    "\n",
    "# Strings support other functions, which can tell us something about their \n",
    "# characteristics. One such function is the len() command. It returns the\n",
    "# length of the string. \n",
    "print(\"Length of variable 'text': \", len(text))\n"
   ]
  },
  {
   "cell_type": "markdown",
   "metadata": {
    "colab_type": "text",
    "id": "hqqdoSwbHSxI"
   },
   "source": [
    "There's a handy function *isinstance()* that can help you determine what type a variable is."
   ]
  },
  {
   "cell_type": "code",
   "execution_count": 52,
   "metadata": {
    "colab": {
     "base_uri": "https://localhost:8080/",
     "height": 85
    },
    "colab_type": "code",
    "id": "FUcaLt5sHgwN",
    "outputId": "45ecbf77-db0c-4638-c35e-a2519c8c4991"
   },
   "outputs": [
    {
     "name": "stdout",
     "output_type": "stream",
     "text": [
      "Is 'text' of the string type?:  True\n",
      "Is 'number_1' of the int type?:  True\n",
      "Is 'number_2' of the float type?:  True\n",
      "Is 'number_1' of the float type?:  False\n"
     ]
    }
   ],
   "source": [
    "text = \"string\"\n",
    "number_1 = 1\n",
    "number_2 = 1.0\n",
    "\n",
    "print(\"Is 'text' of the string type?: \", isinstance(text,str))\n",
    "print(\"Is 'number_1' of the int type?: \", isinstance(number_1,int))\n",
    "print(\"Is 'number_2' of the float type?: \", isinstance(number_2,float))\n",
    "print(\"Is 'number_1' of the float type?: \", isinstance(number_1,float))"
   ]
  },
  {
   "cell_type": "markdown",
   "metadata": {
    "colab_type": "text",
    "id": "nR7puR-YMOI0"
   },
   "source": [
    "<br/>\n",
    "\n",
    "[Back to table of contents.](#Contents)\n",
    "\n",
    "---"
   ]
  },
  {
   "cell_type": "markdown",
   "metadata": {
    "colab_type": "text",
    "id": "W5j39NKtg0n1"
   },
   "source": [
    "### <a id=\"PythonCasting\">2.3. Casting\n",
    "\n",
    "We can convert variables to other data types by '[casting](https://en.wikipedia.org/wiki/Type_conversion)' them. This process is straightforward but may seem confusing at first. Please watch the video below before you continue."
   ]
  },
  {
   "cell_type": "code",
   "execution_count": 55,
   "metadata": {
    "colab": {
     "base_uri": "https://localhost:8080/",
     "height": 336
    },
    "colab_type": "code",
    "id": "seGkGzZng3Xk",
    "outputId": "9ce99307-73cc-4a7e-94f1-9751710c830c"
   },
   "outputs": [
    {
     "data": {
      "text/html": [
       "\n",
       "        <iframe\n",
       "            width=\"560\"\n",
       "            height=\"315\"\n",
       "            src=\"https://www.youtube.com/embed/ALvbltAPOcI\"\n",
       "            frameborder=\"0\"\n",
       "            allowfullscreen\n",
       "        ></iframe>\n",
       "        "
      ],
      "text/plain": [
       "<IPython.lib.display.IFrame at 0x7fa5b844b390>"
      ]
     },
     "execution_count": 55,
     "metadata": {},
     "output_type": "execute_result"
    }
   ],
   "source": [
    "from IPython.display import IFrame\n",
    "# Then the code below actually shows the video. Don't worry about understanding\n",
    "# this code. I just include this explanation for the curious.\n",
    "IFrame(src='https://www.youtube.com/embed/ALvbltAPOcI', width=560, height=315)"
   ]
  },
  {
   "cell_type": "markdown",
   "metadata": {
    "colab_type": "text",
    "id": "gY_WIiklmwC6"
   },
   "source": [
    "Now we apply our understanding of casting. Read through the code below then execute it."
   ]
  },
  {
   "cell_type": "code",
   "execution_count": 56,
   "metadata": {
    "colab": {
     "base_uri": "https://localhost:8080/",
     "height": 85
    },
    "colab_type": "code",
    "id": "6nNo_rS_mwmQ",
    "outputId": "f513d321-0a03-49a8-c5d0-a8032b7a493b"
   },
   "outputs": [
    {
     "name": "stdout",
     "output_type": "stream",
     "text": [
      "Type of variable 'number_1':  <class 'int'>  Value: 1\n",
      "Type of variable 'number_2':  <class 'float'>  Value: 1.0\n",
      "Type of variable 'text':  <class 'str'>  Value: 1\n",
      "Type of variable 'number_1':  <class 'int'>  Value: 1\n"
     ]
    }
   ],
   "source": [
    "# First, we declare an integer variable, and print out it's details.\n",
    "number_1 = 1\n",
    "print(\"Type of variable 'number_1': \", type(number_1), \" Value:\", number_1)\n",
    "\n",
    "\n",
    "# Now we cast the integer variable to a float and print out it's details.\n",
    "number_2 = float(number_1)\n",
    "print(\"Type of variable 'number_2': \", type(number_2), \" Value:\", number_2)\n",
    "\n",
    "\n",
    "# Alternatively, we can cast the integer to a string.\n",
    "text = str(number_1)\n",
    "print(\"Type of variable 'text': \", type(text), \" Value:\", text)\n",
    "\n",
    "# We can always convert back from a string type to an integer type.\n",
    "number_1 = int(text)\n",
    "print(\"Type of variable 'number_1': \", type(number_1), \" Value:\", number_1)\n"
   ]
  },
  {
   "cell_type": "markdown",
   "metadata": {
    "colab_type": "text",
    "id": "dnmts5GDDfel"
   },
   "source": [
    "In the cell above we have some examples of casting. Everything is easy and straightforward. But things can become difficult when trying to cast numerical values as shown in the cell below."
   ]
  },
  {
   "cell_type": "code",
   "execution_count": 57,
   "metadata": {
    "colab": {
     "base_uri": "https://localhost:8080/",
     "height": 51
    },
    "colab_type": "code",
    "id": "SywoBcr6DgAU",
    "outputId": "2d2eeb8d-7924-4a87-979a-767423ac055c"
   },
   "outputs": [
    {
     "name": "stdout",
     "output_type": "stream",
     "text": [
      "Type of variable 'number_1':  <class 'float'>  Value: 1.6732\n",
      "Type of variable 'number_1':  <class 'float'>  Value: 1\n"
     ]
    }
   ],
   "source": [
    "# When casting floats to integers we lose the fractional components.\n",
    "# For example,...\n",
    "number_1 = 1.6732\n",
    "print(\"Type of variable 'number_1': \", type(number_1), \" Value:\", number_1)\n",
    "\n",
    "# Now cast inside the print statement.\n",
    "print(\"Type of variable 'number_1': \", type(number_1), \" Value:\", int(number_1))\n",
    "\n",
    "# When the print statement above runs, we loose the .6732, and the variable is\n",
    "# rounded down to the nearest whole integer."
   ]
  },
  {
   "cell_type": "markdown",
   "metadata": {
    "colab_type": "text",
    "id": "saeEWQXp9K2v"
   },
   "source": [
    "You might think that this isn't a big issue - after all, just ensure we cast types correctly, and the problems go away. In principle this is true, but sometimes we can get unexpected behaviours when casting. Or we may have input data that we need to cast, but can't without some extra processing. Let’s explore some of these issues below."
   ]
  },
  {
   "cell_type": "code",
   "execution_count": 58,
   "metadata": {
    "colab": {
     "base_uri": "https://localhost:8080/",
     "height": 34
    },
    "colab_type": "code",
    "id": "MuQAsNQv9juF",
    "outputId": "637d01ec-9d8e-45f3-e13d-a0360ac9fcc0"
   },
   "outputs": [
    {
     "name": "stdout",
     "output_type": "stream",
     "text": [
      "Type of variable 'number_1':  <class 'float'>  Value: 1.0\n"
     ]
    }
   ],
   "source": [
    "# What type is the variable declared below?\n",
    "number_1 = 1 * 1.0\n",
    "\n",
    "# When running this print statement, we find that Python has automatically\n",
    "# determined that the variable is a float. Which is great.\n",
    "print(\"Type of variable 'number_1': \", type(number_1), \" Value:\", number_1)"
   ]
  },
  {
   "cell_type": "markdown",
   "metadata": {
    "colab_type": "text",
    "id": "5lAnnWmb-9wK"
   },
   "source": [
    "However sometimes when casting we encounter errors (the error that happens when running the code below is expected!)."
   ]
  },
  {
   "cell_type": "code",
   "execution_count": 59,
   "metadata": {
    "colab": {
     "base_uri": "https://localhost:8080/",
     "height": 232
    },
    "colab_type": "code",
    "id": "yyOeIEuv_DPj",
    "outputId": "6c8e9384-121d-470e-a208-92909fd84ecc"
   },
   "outputs": [
    {
     "name": "stdout",
     "output_type": "stream",
     "text": [
      "Type of variable 'text':  <class 'str'>  Value: 1.0\n",
      "Casting 'text' to an integer type...\n"
     ]
    },
    {
     "ename": "ValueError",
     "evalue": "invalid literal for int() with base 10: '1.0'",
     "output_type": "error",
     "traceback": [
      "\u001b[0;31m---------------------------------------------------------------------------\u001b[0m",
      "\u001b[0;31mValueError\u001b[0m                                Traceback (most recent call last)",
      "\u001b[0;32m<ipython-input-59-2982c0d362f5>\u001b[0m in \u001b[0;36m<module>\u001b[0;34m\u001b[0m\n\u001b[1;32m      5\u001b[0m \u001b[0mprint\u001b[0m\u001b[0;34m(\u001b[0m\u001b[0;34m\"Type of variable 'text': \"\u001b[0m\u001b[0;34m,\u001b[0m \u001b[0mtype\u001b[0m\u001b[0;34m(\u001b[0m\u001b[0mtext\u001b[0m\u001b[0;34m)\u001b[0m\u001b[0;34m,\u001b[0m \u001b[0;34m\" Value:\"\u001b[0m\u001b[0;34m,\u001b[0m \u001b[0mtext\u001b[0m\u001b[0;34m)\u001b[0m\u001b[0;34m\u001b[0m\u001b[0;34m\u001b[0m\u001b[0m\n\u001b[1;32m      6\u001b[0m \u001b[0mprint\u001b[0m\u001b[0;34m(\u001b[0m\u001b[0;34m\"Casting 'text' to an integer type...\"\u001b[0m\u001b[0;34m)\u001b[0m\u001b[0;34m\u001b[0m\u001b[0;34m\u001b[0m\u001b[0m\n\u001b[0;32m----> 7\u001b[0;31m \u001b[0mnumber_1\u001b[0m \u001b[0;34m=\u001b[0m \u001b[0mint\u001b[0m\u001b[0;34m(\u001b[0m\u001b[0mtext\u001b[0m\u001b[0;34m)\u001b[0m\u001b[0;34m\u001b[0m\u001b[0;34m\u001b[0m\u001b[0m\n\u001b[0m",
      "\u001b[0;31mValueError\u001b[0m: invalid literal for int() with base 10: '1.0'"
     ]
    }
   ],
   "source": [
    "# Let's try something different with strings.\n",
    "text = \"1.0\" # We can see this is a string containing a float\n",
    "\n",
    "# Well we can cast this to an int, right?\n",
    "print(\"Type of variable 'text': \", type(text), \" Value:\", text)\n",
    "print(\"Casting 'text' to an integer type...\")\n",
    "number_1 = int(text)"
   ]
  },
  {
   "cell_type": "markdown",
   "metadata": {
    "colab_type": "text",
    "id": "TR7viUiy_E0h"
   },
   "source": [
    "Above we find that we can't directly cast a string containing a float, to an integer. We encounter an error when we try this. The error \"invalid literal for int() with base 10: '1.0' \" is basically telling us that the value 1.0 is not an integer, thus can't be stored in an integer variable - even though we tried to do the conversion using casting. How to fix this? How about you try that for yourself - the answer is provided below."
   ]
  },
  {
   "cell_type": "code",
   "execution_count": null,
   "metadata": {
    "colab": {},
    "colab_type": "code",
    "id": "VsTSWSTg_mqv"
   },
   "outputs": [],
   "source": [
    "# Try and convert this text variable:\n",
    "text = \"1.0\"\n",
    "\n",
    "# To an integer please. Store it in the variable number_1. Print\n",
    "# out this variable, and also print out it's type.\n",
    "print(\"Casting 'text' to an integer type...\")"
   ]
  },
  {
   "cell_type": "markdown",
   "metadata": {
    "colab_type": "text",
    "id": "0eIo4u-p_nfl"
   },
   "source": [
    "**Solution**"
   ]
  },
  {
   "cell_type": "code",
   "execution_count": 60,
   "metadata": {
    "colab": {
     "base_uri": "https://localhost:8080/",
     "height": 68
    },
    "colab_type": "code",
    "id": "UZsflx0y_nyk",
    "outputId": "903b0a49-676a-4bdf-ff0c-9fa8731b13e9"
   },
   "outputs": [
    {
     "name": "stdout",
     "output_type": "stream",
     "text": [
      "Type of variable 'text':  <class 'str'>  Value: 1.0\n",
      "Casting 'text' to an integer type...\n",
      "Type of variable 'number_1':  <class 'int'>  Value: 1\n"
     ]
    }
   ],
   "source": [
    "# Here's our text variable.\n",
    "text = \"1.0\"\n",
    "\n",
    "# Confirm some details about the variable.\n",
    "print(\"Type of variable 'text': \", type(text), \" Value:\", text)\n",
    "print(\"Casting 'text' to an integer type...\")\n",
    "\n",
    "# Well we can cast this to an int, right?\n",
    "number_1 = int(float(text))\n",
    "\n",
    "# Now print it out.\n",
    "print(\"Type of variable 'number_1': \", type(number_1), \" Value:\", number_1)"
   ]
  },
  {
   "cell_type": "markdown",
   "metadata": {
    "colab_type": "text",
    "id": "Xrph8eN8AqXH"
   },
   "source": [
    "Here's another example you may not have thought about. Suppose we want to work out the average of some numbers. Let's try this and see what happens."
   ]
  },
  {
   "cell_type": "code",
   "execution_count": 61,
   "metadata": {
    "colab": {
     "base_uri": "https://localhost:8080/",
     "height": 85
    },
    "colab_type": "code",
    "id": "YozrHkm3A3rS",
    "outputId": "e841b653-119f-498b-d6cd-7d884a055b12"
   },
   "outputs": [
    {
     "name": "stdout",
     "output_type": "stream",
     "text": [
      "Sum of x:  36\n",
      "Items in x:  8\n",
      "Mean of x is:  4.5\n",
      "Type of 'mean' <class 'float'>\n"
     ]
    }
   ],
   "source": [
    "# Here we have some integer numbers.\n",
    "x = [1 ,2, 3, 4, 5, 6, 7, 8]\n",
    "\n",
    "# We can use the sum function to add up the numbers in the list.\n",
    "total = sum(x)\n",
    "\n",
    "print(\"Sum of x: \", total)\n",
    "\n",
    "# Now we know we can obtain the average (the arithmetic mean) by dividing the\n",
    "# sum, by the number of numbers found in x. In this case, there are 8 numbers.\n",
    "# We can count the numbers in x using the in-built len() function.\n",
    "items = len(x)\n",
    "print(\"Items in x: \", items)\n",
    "\n",
    "# So now we work out the average as you might expect. Note I call the variable\n",
    "# mean, as we are computing the arithmetic mean (aka the average).\n",
    "mean = total / items\n",
    "print(\"Mean of x is: \", mean)\n",
    "print(\"Type of 'mean'\", type(mean))"
   ]
  },
  {
   "cell_type": "markdown",
   "metadata": {
    "colab_type": "text",
    "id": "filcktolA4AY"
   },
   "source": [
    "Here we can see that when we calculated the mean, we divided an integer value (total), by another integer value (items). This created a float variable with the answer.\n",
    "\n",
    "\n",
    "<br/>\n",
    "\n",
    "In previous versions of Python (before Python 3), this same code would have returned an integer value of 4. This wouldn't be correct, as the answer is 4.5. \n",
    "\n",
    "<br/>\n",
    "\n",
    "Python 3 has been improved to help stop such mistakes from happening. However, I'm telling you about them, as perhaps one day you'll be asked to work with older Python code. In Python 2, to get the correct answer you would have to explicitly cast the variables like so:\n",
    "\n",
    "\n",
    "\n",
    "```\n",
    "mean = float(total) / float(items)\n",
    "```\n",
    "\n"
   ]
  },
  {
   "cell_type": "markdown",
   "metadata": {
    "colab_type": "text",
    "id": "ZOYYZnrKMtwx"
   },
   "source": [
    "<br/>\n",
    "\n",
    "[Back to table of contents.](#Contents)\n",
    "\n",
    "---"
   ]
  },
  {
   "cell_type": "markdown",
   "metadata": {
    "colab_type": "text",
    "id": "mkd5JzMajo8O"
   },
   "source": [
    "### <a id=\"PythonStrings\"> 2.4. Strings\n",
    "\n",
    "String variables store textual information. You already know that you can print them:\n",
    "\n",
    "```\n",
    "print(“A string”)\n",
    "```\n",
    "\n",
    "You may know that you can access individual characters in the string using the following notation:\n",
    "\n",
    "\n",
    "```\n",
    "text = “Hello”\n",
    "print(text[0]) # Prints out ‘H’\n",
    "```\n",
    "\n",
    "\n",
    "You may also know you can access whole parts of strings using “slicing”. We can do this with the following notation:\n",
    "\n",
    "```\n",
    "print(text[0:2]) # Prints out ‘He’\n",
    "```\n",
    "\n",
    "Watch the following video describing strings before you continue. \n",
    "\n"
   ]
  },
  {
   "cell_type": "code",
   "execution_count": 62,
   "metadata": {
    "colab": {
     "base_uri": "https://localhost:8080/",
     "height": 336
    },
    "colab_type": "code",
    "id": "_lBuATj6ju4t",
    "outputId": "f2434b9a-553e-41b5-f0c3-f56abbdfd029"
   },
   "outputs": [
    {
     "data": {
      "text/html": [
       "\n",
       "        <iframe\n",
       "            width=\"560\"\n",
       "            height=\"315\"\n",
       "            src=\"https://www.youtube.com/embed/Ctqi5Y4X-jA\"\n",
       "            frameborder=\"0\"\n",
       "            allowfullscreen\n",
       "        ></iframe>\n",
       "        "
      ],
      "text/plain": [
       "<IPython.lib.display.IFrame at 0x7fa5b844b518>"
      ]
     },
     "execution_count": 62,
     "metadata": {},
     "output_type": "execute_result"
    }
   ],
   "source": [
    "from IPython.display import IFrame\n",
    "# Then the code below actually shows the video. Don't worry about understanding\n",
    "# this code. I just include this explanation for the curious.\n",
    "IFrame(src='https://www.youtube.com/embed/Ctqi5Y4X-jA', width=560, height=315)"
   ]
  },
  {
   "cell_type": "markdown",
   "metadata": {
    "colab_type": "text",
    "id": "_lWxlHYwFS6s"
   },
   "source": [
    "We can interact with some strings in the cell below. Read the code, then run it when ready."
   ]
  },
  {
   "cell_type": "code",
   "execution_count": 63,
   "metadata": {
    "colab": {
     "base_uri": "https://localhost:8080/",
     "height": 119
    },
    "colab_type": "code",
    "id": "n5tH8vG64R3m",
    "outputId": "c60561b0-3ec0-4456-c7c3-0a1e76c1a11e"
   },
   "outputs": [
    {
     "name": "stdout",
     "output_type": "stream",
     "text": [
      "hello\n",
      "1\n",
      "<class 'int'>\n",
      "3\n",
      "12\n",
      "My name is: Rob  My employer is: Edge Hill University\n"
     ]
    }
   ],
   "source": [
    "# We can print string literals.\n",
    "print(\"hello\")\n",
    "\n",
    "# We can print numbers.\n",
    "print(1)\n",
    "\n",
    "# We can print the output of functions\n",
    "print(type(1))\n",
    "\n",
    "# We can get the print statement to evaluate code for us.\n",
    "print(1+2)\n",
    "\n",
    "# We can get the print statement to combine strings.\n",
    "print(\"1\" + \"2\")\n",
    "\n",
    "# We can get the print out more complicated messages.\n",
    "name = \"Rob\"\n",
    "employer = \"Edge Hill University\"\n",
    "\n",
    "# Note here we use commas to add together (concatenate) strings.\n",
    "print(\"My name is:\", name, \" My employer is:\", employer)"
   ]
  },
  {
   "cell_type": "markdown",
   "metadata": {
    "colab_type": "text",
    "id": "ZZuYXB5DFjjg"
   },
   "source": [
    "We can see above we can create and print strings in a variety ways. But you may be interested to know that strings are not like most other variables - strings are actually objects in Python. They act a little bit like some other objects you'll learn about soon, that what we call lists or arrays. Read through the code below to find out more."
   ]
  },
  {
   "cell_type": "code",
   "execution_count": 64,
   "metadata": {
    "colab": {
     "base_uri": "https://localhost:8080/",
     "height": 119
    },
    "colab_type": "code",
    "id": "OSbt7Je35On8",
    "outputId": "3eab4b34-bd53-4a19-ee3a-536c5e9e5a03"
   },
   "outputs": [
    {
     "name": "stdout",
     "output_type": "stream",
     "text": [
      "Here's what the text contains Rob\n",
      "Printing element 0 returns: R\n",
      "Printing element 2 returns: b\n",
      "The length of the array is:  Rob\n",
      "Slicing positions 0 to 1 gives us:  R\n",
      "Slicing positions 1 to 2 gives us:  o\n"
     ]
    }
   ],
   "source": [
    "# Strings - we all know about simple strings. For example,\n",
    "\n",
    "text = \"I am a string variable\"\n",
    "\n",
    "'''\n",
    "But what's interesting is that Strings are arrays. What is an array?\n",
    "An array is a data structure that can store data. An array of length\n",
    "1 contains exactly 1 piece of information. An array of length 2 contains\n",
    "2 pieces and so on. We can represent strings simply, to help our understanding:\n",
    "\n",
    "[] is an empty array\n",
    "\n",
    "['1'] is an array containing 1 'element' (data item), which in this case is a\n",
    "      string literal containing the character '1'.\n",
    "      \n",
    "[1,2,3] is an array containing three numerical values, 1, 2, and 3.\n",
    "\n",
    "Arrays are 'indexed' - that is, each element in the array has a number\n",
    "corresponding to it. For example...\n",
    "\n",
    "Index =    0     1     2\n",
    "           |     |     |\n",
    "           v     v     v\n",
    "         [ 1  ,  2  ,  3]\n",
    "         \n",
    "\n",
    "Notice the indexing starts with 0. So the first element in any array, is\n",
    "at an index of zero. How does this relate to strings?\n",
    "'''\n",
    "\n",
    "# Here's a string, which we now know is an array of items\n",
    "text = \"Rob\"\n",
    "\n",
    "# We can print the whole array\n",
    "print(\"Here's what the text contains\", text)\n",
    "\n",
    "# Or we can print just a specific element of an array\n",
    "print(\"Printing element 0 returns:\", text[0])\n",
    "\n",
    "# Or \n",
    "print(\"Printing element 2 returns:\", text[2])\n",
    "\n",
    "# We can also obtain the length of the array.\n",
    "print(\"The length of the array is: \",text)\n",
    "\n",
    "# We can also 'slice' an array. This allows us to return a portion\n",
    "# of the string array, for example:\n",
    "print(\"Slicing positions 0 to 1 gives us: \", text[0:1])\n",
    "\n",
    "# or what about...\n",
    "print(\"Slicing positions 1 to 2 gives us: \", text[1:2])\n",
    "\n",
    "# Execute this cell once you get here.\n"
   ]
  },
  {
   "cell_type": "markdown",
   "metadata": {
    "colab_type": "text",
    "id": "dKA8rhcoGmLM"
   },
   "source": [
    "Above we learned that strings are stored like arrays in memory. Each character in the string can be uniquely identified by it's index location, in the array. But what happens when we try to access an index that may not exist? Read through the cell below, then run it to find out."
   ]
  },
  {
   "cell_type": "code",
   "execution_count": 65,
   "metadata": {
    "colab": {
     "base_uri": "https://localhost:8080/",
     "height": 198
    },
    "colab_type": "code",
    "id": "qIrkuNTcGmfx",
    "outputId": "af0933eb-09af-4774-f2d0-a3b796b6469b"
   },
   "outputs": [
    {
     "ename": "IndexError",
     "evalue": "string index out of range",
     "output_type": "error",
     "traceback": [
      "\u001b[0;31m---------------------------------------------------------------------------\u001b[0m",
      "\u001b[0;31mIndexError\u001b[0m                                Traceback (most recent call last)",
      "\u001b[0;32m<ipython-input-65-f342ab645c32>\u001b[0m in \u001b[0;36m<module>\u001b[0;34m\u001b[0m\n\u001b[1;32m      9\u001b[0m \u001b[0mtext\u001b[0m \u001b[0;34m=\u001b[0m \u001b[0;34m\"Rob\"\u001b[0m\u001b[0;34m\u001b[0m\u001b[0;34m\u001b[0m\u001b[0m\n\u001b[1;32m     10\u001b[0m \u001b[0;34m\u001b[0m\u001b[0m\n\u001b[0;32m---> 11\u001b[0;31m \u001b[0mprint\u001b[0m\u001b[0;34m(\u001b[0m\u001b[0mtext\u001b[0m\u001b[0;34m[\u001b[0m\u001b[0;36m3\u001b[0m\u001b[0;34m]\u001b[0m\u001b[0;34m)\u001b[0m\u001b[0;34m\u001b[0m\u001b[0;34m\u001b[0m\u001b[0m\n\u001b[0m",
      "\u001b[0;31mIndexError\u001b[0m: string index out of range"
     ]
    }
   ],
   "source": [
    "'''\n",
    "What happens if we try to reference an element outside of the array? \n",
    "Well, we get an error message. When we reference an element outside of an\n",
    "array, we're asking the Python interpreter to return some information that\n",
    "isn't there - all it can do is return an error. For example...\n",
    "'''\n",
    "\n",
    "# Here's a string, which we now know is an array of items\n",
    "text = \"Rob\"\n",
    "\n",
    "print(text[3])\n"
   ]
  },
  {
   "cell_type": "markdown",
   "metadata": {
    "colab_type": "text",
    "id": "MXoIGf5IEO11"
   },
   "source": [
    "Above we got an \"index out of range\" error. This is Python's way of telling you that you've tried to access part of an array that doesn't exist. Get familiar with error messages like that. But can we stop them from occurring? Read the cell below, then run it when you think you understand what will happen."
   ]
  },
  {
   "cell_type": "code",
   "execution_count": 66,
   "metadata": {
    "colab": {
     "base_uri": "https://localhost:8080/",
     "height": 34
    },
    "colab_type": "code",
    "id": "-wEDEyw5EPGE",
    "outputId": "b108bc2d-6b7d-423b-a77e-0ab97c2cf2dd"
   },
   "outputs": [
    {
     "name": "stdout",
     "output_type": "stream",
     "text": [
      "That index points outside of the array, I can't return that value!\n"
     ]
    }
   ],
   "source": [
    "'''\n",
    "Get familiar with error messages - us programmers\n",
    "encounter them on a daily basis. Don't see them as negative outcomes. See them\n",
    "as a way of learning to improve your code. Each error you fix, the better\n",
    "it gets! For instance, in the future we could write something like the \n",
    "following:\n",
    "'''\n",
    "\n",
    "# Store the index we want to obtain the value at.\n",
    "index = 3\n",
    "\n",
    "# Create the text.\n",
    "text = \"Rob\"\n",
    "\n",
    "# Check that the index is inside the array - if it isn't return an error\n",
    "# message. This is an error message of our own creation, not an error raised\n",
    "# by the Python interpreter telling us we made a mistake. \n",
    "if index >= len(text):\n",
    "  print(\"That index points outside of the array, I can't return that value!\")\n",
    "else:\n",
    "  # We can print the index as it is less than the array length.\n",
    "  print(\"The character as position: \", index , \" is: \", text[index])\n"
   ]
  },
  {
   "cell_type": "markdown",
   "metadata": {
    "colab_type": "text",
    "id": "0WFn7IwWEVNI"
   },
   "source": [
    "What happens in the code above if the index is less than zero? Modify the code so that,\n",
    "\n",
    "\n",
    "```\n",
    "index = 0\n",
    "```\n",
    "\n",
    "Then run the code. You encounter an error again. Can you fix this? Edit the cell below and try to make it work. A solution is provided further down the notebook (below the code cell) - but only check the solution if you’re really stuck!"
   ]
  },
  {
   "cell_type": "code",
   "execution_count": null,
   "metadata": {
    "colab": {
     "base_uri": "https://localhost:8080/",
     "height": 129
    },
    "colab_type": "code",
    "id": "gBxvo0fIEVtX",
    "outputId": "9912ea6b-f23b-4f3b-9c46-a946318a189b"
   },
   "outputs": [
    {
     "ename": "SyntaxError",
     "evalue": "ignored",
     "output_type": "error",
     "traceback": [
      "\u001b[0;36m  File \u001b[0;32m\"<ipython-input-12-ed41e604a2b1>\"\u001b[0;36m, line \u001b[0;32m6\u001b[0m\n\u001b[0;31m    test_index = ?\u001b[0m\n\u001b[0m                 ^\u001b[0m\n\u001b[0;31mSyntaxError\u001b[0m\u001b[0;31m:\u001b[0m invalid syntax\n"
     ]
    }
   ],
   "source": [
    "'''\n",
    "Edit for yourself...\n",
    "'''\n",
    "\n",
    "# Store the index we want to obtain the value at.\n",
    "test_index = ?\n",
    "\n",
    "# Create the text.\n",
    "text = \"Rob\"\n",
    "\n",
    "# Check that the index is inside the array - if it isn't return an error\n",
    "# message, but we don't actually encounter an error\n",
    "if test_index >= len(text):\n",
    "  print(\"That index points outside of the array, I can't return that value!\")\n",
    "else:\n",
    "  print(\"The character as position: \", test_index , \" is: \", text[test_index])"
   ]
  },
  {
   "cell_type": "markdown",
   "metadata": {
    "colab_type": "text",
    "id": "uIyQMLVjIOrQ"
   },
   "source": [
    "**Solution**"
   ]
  },
  {
   "cell_type": "code",
   "execution_count": 67,
   "metadata": {
    "colab": {
     "base_uri": "https://localhost:8080/",
     "height": 102
    },
    "colab_type": "code",
    "id": "k2vQFNOIE314",
    "outputId": "f1eb526f-38ac-4b7f-d864-12a4050f2525"
   },
   "outputs": [
    {
     "name": "stdout",
     "output_type": "stream",
     "text": [
      "That index points outside of the array, I can't return that value!\n",
      "The character as position:  1  is:  l\n",
      "Is  1  inside the array?  True\n",
      "That index points outside of the array, I can't return that value!\n",
      "Is  6  inside the array?  False\n"
     ]
    }
   ],
   "source": [
    "'''\n",
    "Solution\n",
    "'''\n",
    "\n",
    "# Store the index we want to obtain the value at.\n",
    "# Edit this value to test that it works.\n",
    "test_index = 3\n",
    "\n",
    "# Create the text.\n",
    "text = \"Rob\"\n",
    "\n",
    "# Check that the index is inside the array - if it isn't return an error\n",
    "# message, but we don't actually encounter an error\n",
    "if test_index >= len(text) or test_index < 0:\n",
    "  print(\"That index points outside of the array, I can't return that value!\")\n",
    "else:\n",
    "  print(\"The character as position: \", test_index , \" is: \", text[test_index])\n",
    "  \n",
    "  \n",
    "'''\n",
    "For those who like a challenge - how about trying to understand what I do below.\n",
    "Here I create a function that can check if any index is outside of any specified\n",
    "string array.\n",
    "'''\n",
    "\n",
    "def isInside(index, text):\n",
    "  if index >= len(text) or index < 0:\n",
    "    print(\"That index points outside of the array, I can't return that value!\")\n",
    "    return False\n",
    "  else:\n",
    "    print(\"The character as position: \", index , \" is: \", text[test_index])\n",
    "    return True\n",
    "  \n",
    "\n",
    "array = \"Hello\"\n",
    "index = 1\n",
    "\n",
    "print(\"Is \", index , \" inside the array? \", isInside(index, array))\n",
    "\n",
    "index = 6\n",
    "\n",
    "print(\"Is \", index , \" inside the array? \", isInside(index, array))\n"
   ]
  },
  {
   "cell_type": "markdown",
   "metadata": {
    "colab_type": "text",
    "id": "T1y_PJreLMlV"
   },
   "source": [
    "Strings have lots of other useful functions associated with them. Some of these are summarised in the table below. \n",
    "\n",
    "|Method|Description|\n",
    "|------|-----------|\n",
    "|capitalize()|Converts first character to Capital Letter|\n",
    "|center()|Pads string with specified character|\n",
    "|count()|returns occurrences of substring in string|\n",
    "|endswith()|Checks if String Ends with the Specified Suffix|\n",
    "|find()|Returns the index of first occurrence of substring|\n",
    "|isalnum()|Checks Alphanumeric Character|\n",
    "|isalpha()|Checks if All Characters are Alphabets|\n",
    "|islower()|Checks if all Alphabets in a String are Lowercase|\n",
    "|isnumeric()|Checks Numeric Characters|\n",
    "|isupper()|returns if all characters are uppercase characters|\n",
    "|lower()|returns lowercased string|\n",
    "|upper()|returns uppercased string|\n",
    "|replace()|Replaces Substring Inside|\n",
    "|split()|Splits String from Left|\n",
    "|rsplit()|Splits String From Right|\n",
    "|startswith()|Checks if String Starts with the Specified String|\n",
    "|len()|Returns Length of an Object|\n",
    "\n",
    "In the cell below we explore how to use these. Read through the code first, then execute it. Is the output what you expected?"
   ]
  },
  {
   "cell_type": "code",
   "execution_count": 68,
   "metadata": {
    "colab": {
     "base_uri": "https://localhost:8080/",
     "height": 187
    },
    "colab_type": "code",
    "id": "CPn5t63QOPr7",
    "outputId": "0f7bbc91-6bfe-4854-88be-b8a09cdb5f8a"
   },
   "outputs": [
    {
     "name": "stdout",
     "output_type": "stream",
     "text": [
      "The initial string is:  user1001@somecoolsite.com\n",
      "Counting the @ symbols in the string:  1\n",
      "Does the string end in .com?:  True\n",
      "Find the index of first 'r' char in the string:  3\n",
      "Is the string alpha numeric?:  False\n",
      "Are all the characters in the string letters?:  False\n",
      "Is the string lower case?:  True\n",
      "Is the string entirely numeric:  False\n",
      "Are all the characters uppercase?:  False\n",
      "Does the string start with 'user'?:  True\n"
     ]
    }
   ],
   "source": [
    "# Suppose we have this string\n",
    "email = \"user1001@somecoolsite.com\"\n",
    "print(\"The initial string is: \", email)\n",
    "\n",
    "\n",
    "# Lets test some string functions out on it, to see what happens.\n",
    "\n",
    "# returns occurrences of substring in string\n",
    "print(\"Counting the @ symbols in the string: \", email.count('@'))\n",
    "\n",
    "# Checks if String Ends with the Specified Suffix\n",
    "print(\"Does the string end in .com?: \", email.endswith('.com'))\n",
    "\n",
    "# Returns the index of first occurrence of substring\n",
    "print(\"Find the index of first 'r' char in the string: \", email.find('r'))\n",
    "\n",
    "# Checks Alphanumeric Character\n",
    "print(\"Is the string alpha numeric?: \", email.isalnum())\n",
    "\n",
    "# Checks if All Characters are Alphabets\n",
    "print(\"Are all the characters in the string letters?: \", email.isalpha())\n",
    "\n",
    "# Checks if all Alphabets in a String are Lowercase\n",
    "print(\"Is the string lower case?: \", email.islower())\n",
    "\n",
    "# Checks Numeric Characters\n",
    "print(\"Is the string entirely numeric: \", email.isnumeric())\n",
    "\n",
    "# returns if all characters are uppercase characters\n",
    "print(\"Are all the characters uppercase?: \", email.isupper())\n",
    "\n",
    "# Checks if String Starts with the Specified String\n",
    "print(\"Does the string start with 'user'?: \", email.startswith('user'))\n",
    "\n"
   ]
  },
  {
   "cell_type": "markdown",
   "metadata": {
    "colab_type": "text",
    "id": "zhfQTmp-TQyR"
   },
   "source": [
    "The code above doesn't alter the string or create new strings from it. It just provides information relating to the string that can be very useful. The code below shows how to generate some new strings, from the input string. Read through the code, then execute it."
   ]
  },
  {
   "cell_type": "code",
   "execution_count": 69,
   "metadata": {
    "colab": {
     "base_uri": "https://localhost:8080/",
     "height": 187
    },
    "colab_type": "code",
    "id": "24l4MagRTgOg",
    "outputId": "2aa10456-65fa-4fac-e755-cdca237b6483"
   },
   "outputs": [
    {
     "name": "stdout",
     "output_type": "stream",
     "text": [
      "The initial string is:  user1001@somecoolsite.com\n",
      "Capitalised first character:  User1001@somecoolsite.com\n",
      "Padding with the # char:  user1001@somecoolsite.com\n",
      "Converted to lowercase:  user1001@somecoolsite.com\n",
      "Converted to uppercase:  USER1001@SOMECOOLSITE.COM\n",
      "The text 'user' replaced with 'person':  person1001@somecoolsite.com\n",
      "\n",
      "Splitting the string into two on the '@' symbol:  ['user1001', 'somecoolsite.com']\n",
      "The variable created by splitting is not a string:  <class 'list'>\n",
      "Length of the new list:  2\n"
     ]
    }
   ],
   "source": [
    "# Suppose we have the same string again.\n",
    "email = \"user1001@somecoolsite.com\"\n",
    "print(\"The initial string is: \", email)\n",
    "\n",
    "# We can now create new strings from this input using\n",
    "# a variety of standard in-built string methods. \n",
    "\n",
    "# Converts first character to Capital Letter\n",
    "email_updated = email.capitalize()\n",
    "print(\"Capitalised first character: \", email_updated) \n",
    "\n",
    "# Pads string with specified character\n",
    "email_updated = email.center(5,\"#\")\n",
    "print(\"Padding with the # char: \", email_updated)\n",
    "\n",
    "# returns lowercased string\n",
    "email_updated = email.lower()\n",
    "print(\"Converted to lowercase: \", email_updated)\n",
    "\n",
    "# returns uppercased string\n",
    "email_updated = email.upper()\n",
    "print(\"Converted to uppercase: \", email_updated)\n",
    "\n",
    "# Replaces Substring Inside\n",
    "email_updated = email.replace('user','person')\n",
    "print(\"The text 'user' replaced with 'person': \", email_updated)\n",
    "\n",
    "# Splits String from Left\n",
    "email_updated = email.split('@')\n",
    "print(\"\\nSplitting the string into two on the '@' symbol: \", email_updated)\n",
    "print(\"The variable created by splitting is not a string: \", type(email_updated))\n",
    "print(\"Length of the new list: \", len(email_updated))\n",
    "\n"
   ]
  },
  {
   "cell_type": "markdown",
   "metadata": {
    "colab_type": "text",
    "id": "tQVCwwPeOXn6"
   },
   "source": [
    "How about trying to solve some string challenges using those methods. Here's a list of things I'd like you to try.\n",
    "\n",
    "1. Get the first character in string, print it out.\n",
    "2. Get the last character in string, print it out.\n",
    "3. Get the middle word in string, print it out.\n",
    "4. Use slicing to get the substring \"awe\" from the input.\n",
    "5. Return the first index of the '_' character in the string.\n",
    "6. Return the last index of the '_' character in the string.\n",
    "\n",
    "Try to do this in the cell below. A solution is provided further down."
   ]
  },
  {
   "cell_type": "code",
   "execution_count": null,
   "metadata": {
    "colab": {},
    "colab_type": "code",
    "id": "RTOI0eE-OYwM"
   },
   "outputs": [],
   "source": [
    "# Here's the string to use:\n",
    "text = \"testing_your_awesome_python_skills\"\n",
    "\n",
    "# Write your code here."
   ]
  },
  {
   "cell_type": "markdown",
   "metadata": {
    "colab_type": "text",
    "id": "gJcVHJFUOQIP"
   },
   "source": [
    "**Solution**"
   ]
  },
  {
   "cell_type": "code",
   "execution_count": 70,
   "metadata": {
    "colab": {
     "base_uri": "https://localhost:8080/",
     "height": 119
    },
    "colab_type": "code",
    "id": "jwQj_9b7OQvF",
    "outputId": "28ac678c-1c44-4981-e761-5b59a8cfb294"
   },
   "outputs": [
    {
     "name": "stdout",
     "output_type": "stream",
     "text": [
      "First character: t\n",
      "Last character: s\n",
      "Middle word: awesome\n",
      "Getting 'awe': awe\n",
      "First index of '_': 7\n",
      "Last index of '_': 27\n"
     ]
    }
   ],
   "source": [
    "# Here's the string to use:\n",
    "text = \"testing_your_awesome_python_skills\"\n",
    "\n",
    "# 1. Get the first character in string, print it out.\n",
    "print(\"First character:\", text[0])\n",
    "\n",
    "# 2. Get the last character in string, print it out.\n",
    "print(\"Last character:\", text[len(text)-1])\n",
    "\n",
    "# 3. Get the middle word in string, print it out.\n",
    "words = text.split('_')\n",
    "print(\"Middle word:\", words[2])\n",
    "\n",
    "# 4. Use slicing to get the substring \"awe\" from the input.\n",
    "# Well, I already have the middle word which obtained above.\n",
    "# So I just need to get the first three characters from that string.\n",
    "print(\"Getting 'awe':\", words[2][0:3])\n",
    "\n",
    "# 5. Return the first index of the '_' character in the string.\n",
    "print(\"First index of '_':\", text.index('_'))\n",
    "\n",
    "# 6. Return the last index of the '_' character in the string.\n",
    "print(\"Last index of '_':\", text.rindex('_'))"
   ]
  },
  {
   "cell_type": "markdown",
   "metadata": {
    "colab_type": "text",
    "id": "9cUQQSqPMkbA"
   },
   "source": [
    "<br/>\n",
    "\n",
    "[Back to table of contents.](#Contents)\n",
    "\n",
    "---\n"
   ]
  },
  {
   "cell_type": "markdown",
   "metadata": {
    "colab_type": "text",
    "id": "sEPI20t6dGYR"
   },
   "source": [
    "### <a id=\"PythonImmutability\">2.5. Immutability\n",
    "\n",
    "In Python, strings are immutable. This means that once they’re created, they can’t be changed. This may seem strange, as you probably feel like you’ve changed strings in your code.\n",
    "\n",
    "<br/>\n",
    "\n",
    "In reality all strings you create are put in memory and do not change. It’s important we know this, otherwise we might introduce errors into our code. Actually, many Python objects are immutable – but there are exceptions. We can see in the table below that booleans, integers, floats, strings and the frozen set class are immutable. \n",
    "\n",
    "<br/>\n",
    "\n",
    "\n",
    "| Type      | Immutable |\n",
    "|-----------|-----------|\n",
    "|Boolean    |  Yes      |\n",
    "|Int        |  Yes      |\n",
    "|Float      |  Yes      |\n",
    "|String     |  Yes      |\n",
    "|FrozenSet  |  Yes      |\n",
    "|List       |  No       |\n",
    "|Set        |  No       |\n",
    "|Dict       |  No       |\n",
    "\n",
    "<br/>\n",
    "\n",
    "Please watch the video below about immutable objects before you continue. If you have any trouble understanding the content, here are some links that may help too:\n",
    "\n",
    "[Link 1](https://dev.to/himankbhalla/why-should-i-care-about-immutables-in-python-4ofn)\n",
    "\n",
    "[Link 2](https://towardsdatascience.com/https-towardsdatascience-com-python-basics-mutable-vs-immutable-objects-829a0cb1530a)\n",
    "\n",
    "[Link 3](https://medium.com/@meghamohan/mutable-and-immutable-side-of-python-c2145cf72747)\n",
    "\n",
    "[Link 4](https://medium.com/@tyastropheus/tricky-python-i-memory-management-for-mutable-immutable-objects-21507d1e5b95)"
   ]
  },
  {
   "cell_type": "code",
   "execution_count": 71,
   "metadata": {
    "colab": {
     "base_uri": "https://localhost:8080/",
     "height": 336
    },
    "colab_type": "code",
    "id": "dNpVTPZav7pH",
    "outputId": "f21af9de-e98e-47b4-cc01-378be729d854"
   },
   "outputs": [
    {
     "data": {
      "text/html": [
       "\n",
       "        <iframe\n",
       "            width=\"560\"\n",
       "            height=\"315\"\n",
       "            src=\"https://www.youtube.com/embed/p9ppfvHv2Us\"\n",
       "            frameborder=\"0\"\n",
       "            allowfullscreen\n",
       "        ></iframe>\n",
       "        "
      ],
      "text/plain": [
       "<IPython.lib.display.IFrame at 0x7fa5b844bfd0>"
      ]
     },
     "execution_count": 71,
     "metadata": {},
     "output_type": "execute_result"
    }
   ],
   "source": [
    "from IPython.display import IFrame\n",
    "# Then the code below actually shows the video. Don't worry about understanding\n",
    "# this code. I just include this explanation for the curious.\n",
    "IFrame(src='https://www.youtube.com/embed/p9ppfvHv2Us', width=560, height=315)"
   ]
  },
  {
   "cell_type": "markdown",
   "metadata": {
    "colab_type": "text",
    "id": "xidyWlOeKXjT"
   },
   "source": [
    "Now we've watched the video, let's explore immutability for ourselves. We've already touched on immutability briefly so the code below may be familiar. Read through the code, then run it."
   ]
  },
  {
   "cell_type": "code",
   "execution_count": 72,
   "metadata": {
    "colab": {
     "base_uri": "https://localhost:8080/",
     "height": 136
    },
    "colab_type": "code",
    "id": "hNumKCe2f11x",
    "outputId": "db2a62d4-6e04-491c-da43-c657ebfe5cbd"
   },
   "outputs": [
    {
     "name": "stdout",
     "output_type": "stream",
     "text": [
      "ID of the variable 'x': 4533385056\n",
      "ID of the variable 'y': 4533385056\n",
      "x and y have the same ID - they point to the same place in memory.\n",
      "Value of y after x is updated: 8\n",
      "ID of the variable 'x': 4533388000\n",
      "ID of the variable 'y': 4533385056\n",
      "x and y do not have the same ID anymore.\n"
     ]
    }
   ],
   "source": [
    "# Example of immutability in action. First, we set the value of some\n",
    "# variable which we call x.\n",
    "x = 8\n",
    "\n",
    "# Then we set y equal to x. At this point, they should both point to\n",
    "# the same location in memory.\n",
    "y = x\n",
    "\n",
    "# Let's check that is the case.\n",
    "print(\"ID of the variable 'x':\", id(x))\n",
    "print(\"ID of the variable 'y':\", id(y))\n",
    "\n",
    "if id(x) == id(y):\n",
    "  print(\"x and y have the same ID - they point to the same place in memory.\")\n",
    "\n",
    "# Now lets change the value of x - what will happen to y?\n",
    "x = 100\n",
    "\n",
    "# Does the value of y change?\n",
    "print(\"Value of y after x is updated:\", y)\n",
    "\n",
    "# Let's recheck the IDs.\n",
    "print(\"ID of the variable 'x':\", id(x))\n",
    "print(\"ID of the variable 'y':\", id(y))\n",
    "\n",
    "if id(x) == id(y):\n",
    "  print(\"x and y have the same ID - they point to the same place in memory.\")\n",
    "else:\n",
    "  print(\"x and y do not have the same ID anymore.\")"
   ]
  },
  {
   "cell_type": "markdown",
   "metadata": {
    "colab_type": "text",
    "id": "7-b0ShOMYmY5"
   },
   "source": [
    "We've touched upon whats happening above before. When we try to update a variable directly, Python simply creates a brand new variable. There's another example of this below."
   ]
  },
  {
   "cell_type": "code",
   "execution_count": 73,
   "metadata": {
    "colab": {
     "base_uri": "https://localhost:8080/",
     "height": 68
    },
    "colab_type": "code",
    "id": "Nf8BX3O4YmwK",
    "outputId": "9adbbf1a-c9e3-4deb-ac67-734d2b6f7ea9"
   },
   "outputs": [
    {
     "name": "stdout",
     "output_type": "stream",
     "text": [
      "Id of the variable x:  4533387648\n",
      "Value of x is now:  90\n",
      "Id of the variable x:  4533387680\n"
     ]
    }
   ],
   "source": [
    "# More immutability.\n",
    "\n",
    "x = 89\n",
    "print(\"Id of the variable x: \",id(x))\n",
    "\n",
    "\n",
    "# Simply increase x by 1.\n",
    "x = 89 + 1\n",
    "\n",
    "print(\"Value of x is now: \", x)\n",
    "print(\"Id of the variable x: \",id(x))"
   ]
  },
  {
   "cell_type": "markdown",
   "metadata": {
    "colab_type": "text",
    "id": "VZX2r1JlYnDY"
   },
   "source": [
    "Immutability with simple strings and integer variables is relatively simple. But things get more complicated when dealing with lists - these are mutable (directly changeable). Read the code below, then run it, to see mutability in practice."
   ]
  },
  {
   "cell_type": "code",
   "execution_count": 74,
   "metadata": {
    "colab": {
     "base_uri": "https://localhost:8080/",
     "height": 85
    },
    "colab_type": "code",
    "id": "a4wQPCubhlzp",
    "outputId": "5626cb97-eeb8-4337-da7a-3f972a3cb190"
   },
   "outputs": [
    {
     "name": "stdout",
     "output_type": "stream",
     "text": [
      "Are the lists equal? True\n",
      "Are the lists the same object? False\n",
      "Are the lists equal? True\n",
      "Content of list_2:  [1, 2, 3, 4]\n"
     ]
    }
   ],
   "source": [
    "# Example equality check\n",
    "list_1 = [1, 2, 3]\n",
    "list_2 = [1, 2, 3]\n",
    "\n",
    "# Now check if the lists are equal to each other\n",
    "print(\"Are the lists equal?\", list_1 == list_2)\n",
    "\n",
    "# Above we should find that the lists are equal. But\n",
    "# are they the same object?\n",
    "print(\"Are the lists the same object?\", list_1 is list_2)\n",
    "\n",
    "\n",
    "# What happens if we set list_2 equal to list_1?\n",
    "list_2 = list_1         \n",
    "\n",
    "# Now check if the lists are equal to each other\n",
    "print(\"Are the lists equal?\", list_1 == list_2)\n",
    "\n",
    "# Now we'll change list_1 by appeding a new value to it.\n",
    "list_1.append(4)\n",
    "\n",
    "# Let's print out list_2.\n",
    "print(\"Content of list_2: \", list_2)   \n"
   ]
  },
  {
   "cell_type": "markdown",
   "metadata": {
    "colab_type": "text",
    "id": "4Ck1PdApiARf"
   },
   "source": [
    "Look through the code above again. Be sure you understand what's going on here.\n",
    "\n",
    "<br/>\n",
    "\n",
    "**Exceptions with Immutable Objects**\n",
    "\n",
    "While it is true that a new object is usually created each time we create a variable, or make references to an existing variable, there are few notable exceptions:\n",
    "\n",
    "* Some strings.\n",
    "* Integers between -5 and 256 (inclusive).\n",
    "* Empty immutable containers (e.g. lists, tuples).\n",
    "\n",
    "These exceptions arise as a result of some memory optimizations written into the Python interpreter. After all, if two variables refer to objects with the same value, why waste memory creating a new object for the second variable? Why not simply have the second variable refer to the same object in memory?\n",
    "\n",
    "<br/>\n",
    "\n",
    "Let’s look at some examples of these exceptions. Read through the code below and execute it when ready.\n"
   ]
  },
  {
   "cell_type": "code",
   "execution_count": 75,
   "metadata": {
    "colab": {},
    "colab_type": "code",
    "id": "lqbEZtq8iDRf"
   },
   "outputs": [
    {
     "name": "stdout",
     "output_type": "stream",
     "text": [
      "Are the strings equal? True\n",
      "Are the strings the same object? False\n",
      "Are the strings equal? True\n",
      "Are the strings the same object? True\n",
      "Are the numbers equal? True\n",
      "Are the numbers the same object? True\n",
      "Are the numbers equal? True\n",
      "Are the numbers the same object? False\n",
      "Are the numbers equal? True\n",
      "Are the tuples the same object? True\n",
      "Are the numbers equal? True\n",
      "Are the tuples the same object? False\n",
      "ID of the list we just created:  140350002572616\n",
      "ID of the list we just updated:  140349737851272\n"
     ]
    }
   ],
   "source": [
    "text_1 = \"python is cool!\"\n",
    "text_2 = \"python is cool!\"\n",
    "\n",
    "# Now check if the strings are equal to each other\n",
    "print(\"Are the strings equal?\", text_1 == text_2)\n",
    "\n",
    "# Above we should find that the strings are equal. But\n",
    "# are they the same object?\n",
    "print(\"Are the strings the same object?\", text_1 is text_2)\n",
    "\n",
    "\n",
    "text_1 = \"python\"\n",
    "text_2 = \"python\"\n",
    "\n",
    "# Now check if the strings are equal to each other\n",
    "print(\"Are the strings equal?\", text_1 == text_2)\n",
    "\n",
    "# Above we should find that the strings are equal. But\n",
    "# are they the same object?\n",
    "print(\"Are the strings the same object?\", text_1 is text_2)\n",
    "\n",
    "# The Python interpreter maintains an array of integers between -5 to 256 in\n",
    "# memory at all times. Hence, variables referring to an integer within this\n",
    "# range would be pointing to the same object that already exists in memory:\n",
    "\n",
    "# Let's test this by creating some variables.\n",
    "number_1 = 256\n",
    "number_2 = 256\n",
    "# Now check if the numbers are equal to each other\n",
    "print(\"Are the numbers equal?\", number_1 == number_2)\n",
    "\n",
    "# Above we should find that the numbers are equal. But\n",
    "# are they the same object?\n",
    "print(\"Are the numbers the same object?\", number_1 is number_2)\n",
    "\n",
    "\n",
    "# What about if the numbers sit outside the range specified?\n",
    "number_1 = 257\n",
    "number_2 = 257\n",
    "# Now check if the numbers are equal to each other\n",
    "print(\"Are the numbers equal?\", number_1 == number_2)\n",
    "\n",
    "# Above we should find that the numbers are equal. But\n",
    "# are they the same object?\n",
    "print(\"Are the numbers the same object?\", number_1 is number_2)\n",
    "\n",
    "\n",
    "# Empty objects\n",
    "tuple_1 = ()\n",
    "tuple_2 = ()\n",
    "\n",
    "# Now check if the tuples are equal to each other\n",
    "print(\"Are the numbers equal?\", tuple_1 == tuple_2)\n",
    "\n",
    "# Are they the same.\n",
    "print(\"Are the tuples the same object?\", tuple_1 is tuple_2)\n",
    "\n",
    "# Non-empty objects\n",
    "tuple_1 = (1,)\n",
    "tuple_2 = (1,)\n",
    "\n",
    "# Now check if the tuples are equal to each other\n",
    "print(\"Are the numbers equal?\", tuple_1 == tuple_2)\n",
    "\n",
    "# Are they the same.\n",
    "print(\"Are the tuples the same object?\", tuple_1 is tuple_2)\n",
    "\n",
    "\n",
    "# List operator immutability issues\n",
    "list_1 = [1, 2, 3]\n",
    "print(\"ID of the list we just created: \", id(list_1))\n",
    "\n",
    "# Now update the list using the addition operator.\n",
    "list_1 = list_1 + [4]\n",
    "print(\"ID of the list we just updated: \", id(list_1))\n",
    "\n",
    "# We just got a different object, even though lists are mutable. \n",
    "# But why does this happen? The answer lies in the subtle differences behind\n",
    "#the operators. The addition (+) operator calls the __add__ method (these are \n",
    "# methods automatically called instead of having to be explicitly invoked), \n",
    "# which does not modify either arguments. \n",
    "#\n",
    "# Hence, the expression list_1 + [4] creates a new object with the value:\n",
    "#\n",
    "# [1, 2, 3, 4]\n",
    "#\n",
    "# which list_1 on the left-hand side now refers to. On the other hand, the += \n",
    "# operator calls __iadd__, that modifies the arguments in place."
   ]
  },
  {
   "cell_type": "markdown",
   "metadata": {
    "colab_type": "text",
    "id": "bUTn-5u2NZrh"
   },
   "source": [
    "<br/>\n",
    "\n",
    "[Back to table of contents.](#Contents)\n",
    "\n",
    "---"
   ]
  },
  {
   "cell_type": "markdown",
   "metadata": {
    "colab_type": "text",
    "id": "Lp_LDJWwEYCc"
   },
   "source": [
    "### <a id=\"PythonIndentation\"> 2.6. Indentation\n",
    "All computer programming languages have some way of indicating where a line, or block of code, finishes. \n",
    "\n",
    "In Python, blocks of code are defined using indentation. The Python interpreter treats all text on a line as potential code (excluding comments). To separate code within a loop from code outside, all code within the while loop is indented using space characters. This indentation is done relative to the definition of the while loop.\n",
    "\n",
    "<br/>\n",
    "\n",
    "When writing your Python code, you may have encountered problems due to how your code was indented – maybe even errors. Most students new to Python struggle with indentation. But even experienced programmers can make indentation mistakes.\n",
    "\n",
    "<br/>\n",
    "\n",
    "Indentation in Python may not be something you've thought about. Perhaps you're using a text editor that takes care of any indentation issues for you. Nonetheless it is important to understand when you have a problem with indentation. Below are some examples of bad indentation. Read each example, then run it. Once you run it, check the output, and consider why the error occurred. If you can, fix the indentation before moving on."
   ]
  },
  {
   "cell_type": "code",
   "execution_count": 76,
   "metadata": {
    "colab": {
     "base_uri": "https://localhost:8080/",
     "height": 130
    },
    "colab_type": "code",
    "id": "yQ59CwDeEYaR",
    "outputId": "fd9a5740-284b-4e4a-ada3-167133dd68c2"
   },
   "outputs": [
    {
     "ename": "IndentationError",
     "evalue": "expected an indented block (<ipython-input-76-5f64a9c28837>, line 5)",
     "output_type": "error",
     "traceback": [
      "\u001b[0;36m  File \u001b[0;32m\"<ipython-input-76-5f64a9c28837>\"\u001b[0;36m, line \u001b[0;32m5\u001b[0m\n\u001b[0;31m    print(\"The variable 'number_2' is less than 'number_1'.\")\u001b[0m\n\u001b[0m        ^\u001b[0m\n\u001b[0;31mIndentationError\u001b[0m\u001b[0;31m:\u001b[0m expected an indented block\n"
     ]
    }
   ],
   "source": [
    "number_1 = 10\n",
    "number_2 = 0\n",
    "\n",
    "while number_2 < number_1:\n",
    "print(\"The variable 'number_2' is less than 'number_1'.\")\n",
    "number_2 += 2"
   ]
  },
  {
   "cell_type": "markdown",
   "metadata": {
    "colab_type": "text",
    "id": "RXfUmGP4ODqf"
   },
   "source": [
    "What about the version below?"
   ]
  },
  {
   "cell_type": "code",
   "execution_count": 78,
   "metadata": {
    "colab": {
     "base_uri": "https://localhost:8080/",
     "height": 130
    },
    "colab_type": "code",
    "id": "M41BPmhuOGJU",
    "outputId": "7a960339-6415-4062-af16-480eca7c49f0"
   },
   "outputs": [
    {
     "ename": "IndentationError",
     "evalue": "unindent does not match any outer indentation level (<tokenize>, line 6)",
     "output_type": "error",
     "traceback": [
      "\u001b[0;36m  File \u001b[0;32m\"<tokenize>\"\u001b[0;36m, line \u001b[0;32m6\u001b[0m\n\u001b[0;31m    number_2 += 2\u001b[0m\n\u001b[0m    ^\u001b[0m\n\u001b[0;31mIndentationError\u001b[0m\u001b[0;31m:\u001b[0m unindent does not match any outer indentation level\n"
     ]
    }
   ],
   "source": [
    "number_1 = 10\n",
    "number_2 = 0\n",
    "\n",
    "while number_2 < number_1:\n",
    "  print(\"The variable 'number_2' is less than 'number_1'.\")\n",
    " number_2 += 2"
   ]
  },
  {
   "cell_type": "markdown",
   "metadata": {
    "colab_type": "text",
    "id": "IitqcBiuNlAh"
   },
   "source": [
    "**Solution**"
   ]
  },
  {
   "cell_type": "code",
   "execution_count": 79,
   "metadata": {
    "colab": {
     "base_uri": "https://localhost:8080/",
     "height": 102
    },
    "colab_type": "code",
    "id": "pJKXIepQNkWS",
    "outputId": "66a3b51c-af8a-4742-8834-86055a26dbc6"
   },
   "outputs": [
    {
     "name": "stdout",
     "output_type": "stream",
     "text": [
      "The variable 'number_2' is less than 'number_1'.\n",
      "The variable 'number_2' is less than 'number_1'.\n",
      "The variable 'number_2' is less than 'number_1'.\n",
      "The variable 'number_2' is less than 'number_1'.\n",
      "The variable 'number_2' is less than 'number_1'.\n"
     ]
    }
   ],
   "source": [
    "number_1 = 10\n",
    "number_2 = 0\n",
    "\n",
    "while number_2 < number_1:\n",
    "  print(\"The variable 'number_2' is less than 'number_1'.\")\n",
    "  number_2 += 2"
   ]
  },
  {
   "cell_type": "markdown",
   "metadata": {
    "colab_type": "text",
    "id": "JLbWtskYEZ8G"
   },
   "source": [
    "<br/>\n",
    "\n",
    "[Back to table of contents.](#Contents)\n",
    "\n",
    "---"
   ]
  },
  {
   "cell_type": "markdown",
   "metadata": {
    "colab_type": "text",
    "id": "-4ekmLVIkCnM"
   },
   "source": [
    "### <a id=\"PythonLists\">2.7. Lists\n",
    "\n",
    "Python lists are mutable collections. Suppose we have the following list,\n",
    "\n",
    "```list = [‘r’, ‘o’, ‘b’, ‘!’]```\n",
    "\n",
    "As lists are mutable, we can change them without creating new objects. For example, if we run the following command,\n",
    "\n",
    "```list[3] = ‘.’```\n",
    "\n",
    "then we change the list directly.  There’s so much more you can do with lists. You can,\n",
    "\n",
    "* Add items to lists using the ```append()``` function.\n",
    "* Delete items from lists using the ```remove()``` function.\n",
    "* Add lists together with standard operators such as addition.\n",
    "* Use in-built functions to find the minimum or maximum elements in a list.\n",
    "* Count how many times an item occurs in a list.\n",
    "\n",
    "\n",
    "Please watch the video below before proceeding.\n",
    "\n",
    "\n",
    "\n",
    "\n"
   ]
  },
  {
   "cell_type": "code",
   "execution_count": 80,
   "metadata": {
    "colab": {
     "base_uri": "https://localhost:8080/",
     "height": 336
    },
    "colab_type": "code",
    "id": "zQ8-oE_2kEhS",
    "outputId": "fe179d56-c3eb-4028-c009-5b626b95db81"
   },
   "outputs": [
    {
     "data": {
      "text/html": [
       "\n",
       "        <iframe\n",
       "            width=\"560\"\n",
       "            height=\"315\"\n",
       "            src=\"https://www.youtube.com/embed/9OeznAkyQz4\"\n",
       "            frameborder=\"0\"\n",
       "            allowfullscreen\n",
       "        ></iframe>\n",
       "        "
      ],
      "text/plain": [
       "<IPython.lib.display.IFrame at 0x7fa5b8461320>"
      ]
     },
     "execution_count": 80,
     "metadata": {},
     "output_type": "execute_result"
    }
   ],
   "source": [
    "from IPython.display import IFrame\n",
    "# Then the code below actually shows the video. Don't worry about understanding\n",
    "# this code. I just include this explanation for the curious.\n",
    "IFrame(src='https://www.youtube.com/embed/9OeznAkyQz4', width=560, height=315)"
   ]
  },
  {
   "cell_type": "markdown",
   "metadata": {
    "colab_type": "text",
    "id": "4P6MTZ1KQVFA"
   },
   "source": [
    "No we can play with lists for ourselves. Read the cell below, then execute it."
   ]
  },
  {
   "cell_type": "code",
   "execution_count": 81,
   "metadata": {
    "colab": {
     "base_uri": "https://localhost:8080/",
     "height": 595
    },
    "colab_type": "code",
    "id": "weHaKvSnl7Sz",
    "outputId": "8a7d46c9-4621-4f22-f594-cb864f5a65d9"
   },
   "outputs": [
    {
     "name": "stdout",
     "output_type": "stream",
     "text": [
      "ID of list:  140349737852232\n",
      "Content of list:  ['a', 'b', 'c']\n",
      "ID of list:  140349737852232\n",
      "Content of list:  ['z', 'b', 'c']\n",
      "\n",
      "Content of list_1:\n",
      " ['z', 'b', 'c', 'this', 'that', 1]\n",
      "\n",
      "Content of list_1:\n",
      " ['z', 'b', 'c', 'that', 1]\n",
      "\n",
      "Content of list_1:\n",
      " ['z', 'b', 'c', 'that', 1, 'new', 'data']\n",
      "\n",
      "Counting occurrences of 'new' in list_1:\n",
      " 1\n",
      "\n",
      "Min list_1:\n",
      " 1\n",
      "\n",
      "Max list_1:\n",
      " 25\n",
      "\n",
      "Min list_1:\n",
      " a\n",
      "\n",
      "Max list_1:\n",
      " c\n",
      "\n",
      "Min list_1:\n",
      " a\n",
      "\n",
      "Max list_1:\n",
      " c\n"
     ]
    }
   ],
   "source": [
    "# Create a list\n",
    "list_1 = ['a','b', 'c']\n",
    "print(\"ID of list: \", id(list_1))\n",
    "print(\"Content of list: \", list_1)\n",
    "\n",
    "# Now change the list\n",
    "list_1[0] = 'z'\n",
    "print(\"ID of list: \", id(list_1))\n",
    "print(\"Content of list: \", list_1)\n",
    "\n",
    "# Add items to lists using the append() function.\n",
    "list_1.append(\"this\")\n",
    "list_1.append(\"that\")\n",
    "list_1.append(1)\n",
    "\n",
    "print(\"\\nContent of list_1:\\n\", list_1)\n",
    "\n",
    "\n",
    "# Delete items from lists using the remove() function.\n",
    "list_1.remove(\"this\")\n",
    "print(\"\\nContent of list_1:\\n\", list_1)\n",
    "\n",
    "# Add lists together with standard operators such as addition.\n",
    "list_1 += [\"new\", \"data\"]\n",
    "print(\"\\nContent of list_1:\\n\", list_1)\n",
    "\n",
    "# Count how many times an item occurs in a list.\n",
    "print(\"\\nCounting occurrences of 'new' in list_1:\\n\", list_1.count(\"new\"))\n",
    "\n",
    "\n",
    "# Lets make the list data numerical\n",
    "list_1 = [1,5,8,2,5,2,8,9,23,4,6,22,25,7,16]\n",
    "\n",
    "# Now we can use in-built functions to find the minimum or maximum\n",
    "# elements in a list.\n",
    "print(\"\\nMin list_1:\\n\", min(list_1))\n",
    "print(\"\\nMax list_1:\\n\", max(list_1))\n",
    "\n",
    "# You can find the min or max values in a character list.\n",
    "list_1 = ['a', 'b', 'c']\n",
    "print(\"\\nMin list_1:\\n\", min(list_1))\n",
    "print(\"\\nMax list_1:\\n\", max(list_1))\n",
    "\n",
    "# You can find the min or max values in a string list.\n",
    "list_1 = [\"a\", \"b\", \"c\"]\n",
    "print(\"\\nMin list_1:\\n\", min(list_1))\n",
    "print(\"\\nMax list_1:\\n\", max(list_1))\n",
    "\n",
    "\n",
    "# But don't try to find the min or max values in a mixed type list, \n",
    "# or you'll get an error! Try that for yourself below (uncomment\n",
    "# the code to run it).\n",
    "#list_1 = [1, \"a\", \"b\", \"c\"]\n",
    "#print(\"\\nMin list_1:\\n\", min(list_1))\n",
    "#print(\"\\nMax list_1:\\n\", max(list_1))\n"
   ]
  },
  {
   "cell_type": "markdown",
   "metadata": {
    "colab_type": "text",
    "id": "WnplxaOUEj16"
   },
   "source": [
    "<br/>\n",
    "\n",
    "[Back to table of contents.](#Contents)\n",
    "\n",
    "---"
   ]
  },
  {
   "cell_type": "markdown",
   "metadata": {
    "colab_type": "text",
    "id": "2Q4lXMbnElHA"
   },
   "source": [
    "### <a id=\"PythonDictionaries\">2.8. Dictionaries\n",
    "\n",
    "Python dictionaries are also mutable collections. They contain pairs of keys and values. Each key uniquely identifies a set of values in the dictionary. For example, here we have an integer key of 1, which points to a collection of string values. The keys don’t have to be strings, they could be some other type. The values could also be multiple strings.\n",
    "\n",
    "<br/>\n",
    "\n",
    "We can create dictionaries with simple commands:\n",
    "\n",
    "```dict = {“1”: “Rob!”}```\n",
    "\n",
    "We can change the dictionary directly:\n",
    "\n",
    "```dict[“1”] = “Rob.”```\n",
    "\n",
    "Or access dictionary elements:\n",
    "\n",
    "```print(dict[“1”])```\n",
    "\n",
    "Let's create some dictionaries for ourselves. Read the cell below and then execute it when ready.\n",
    "\n",
    "\n"
   ]
  },
  {
   "cell_type": "code",
   "execution_count": 82,
   "metadata": {
    "colab": {
     "base_uri": "https://localhost:8080/",
     "height": 204
    },
    "colab_type": "code",
    "id": "mzMl2BDGRKbn",
    "outputId": "741227fc-4a82-4306-fb6e-cfbc12e85c7b"
   },
   "outputs": [
    {
     "name": "stdout",
     "output_type": "stream",
     "text": [
      "dict_1['Name']:  Rob\n",
      "dict_1['Employer']:  Edge Hill University\n",
      "dict_1['ID']:  1\n",
      "Does 'dict_1' have the key -  test : False\n",
      "Does 'dict_1' have the key -  ID : True\n",
      "dict_1 has the keys:  dict_keys(['Name', 'Employer', 'ID'])\n",
      "The datatype for the keys variable:  <class 'dict_keys'>\n",
      "dict_1 items:\n",
      " dict_items([('Name', 'Rob'), ('Employer', 'Edge Hill University'), ('ID', 1)])\n",
      "dict_1 content:\n",
      " {}\n"
     ]
    }
   ],
   "source": [
    "# Create a dictionary. Remember the dictionary is populated\n",
    "# by key:value pairs.\n",
    "dict_1 = {'Name': 'Rob', 'Employer': \"Edge Hill University\", 'ID': 1}\n",
    "\n",
    "# Now print out some details using the keys to access the values.\n",
    "print(\"dict_1['Name']: \", dict_1['Name'])\n",
    "print(\"dict_1['Employer']: \", dict_1['Employer'])\n",
    "print(\"dict_1['ID']: \", dict_1['ID'])\n",
    "\n",
    "# We can do things like, check if a key is present in the dictionary.\n",
    "test_key = \"test\"\n",
    "print(\"Does 'dict_1' have the key - \", test_key, \":\", test_key in dict_1)\n",
    "test_key = \"ID\"\n",
    "print(\"Does 'dict_1' have the key - \", test_key, \":\", test_key in dict_1)\n",
    "\n",
    "# You can obtain all the keys in the dictionary.\n",
    "keys = dict_1.keys()\n",
    "\n",
    "# Now print the keys to show we have them:\n",
    "print(\"dict_1 has the keys: \", keys)\n",
    "print(\"The datatype for the keys variable: \", type(keys))\n",
    "\n",
    "# We can get all the dictionaries items.\n",
    "items = dict_1.items()\n",
    "print(\"dict_1 items:\\n\", items)\n",
    "\n",
    "# We can clear a dictionary of it's contents.\n",
    "dict_1.clear()\n",
    "print(\"dict_1 content:\\n\", dict_1)\n"
   ]
  },
  {
   "cell_type": "markdown",
   "metadata": {
    "colab_type": "text",
    "id": "pfPPUDqmEpH7"
   },
   "source": [
    "<br/>\n",
    "\n",
    "[Back to table of contents.](#Contents)\n",
    "\n",
    "---"
   ]
  },
  {
   "cell_type": "markdown",
   "metadata": {
    "colab_type": "text",
    "id": "IGA-Fi6pErc6"
   },
   "source": [
    "### <a id=\"PythonOperators\">2.9. Operators & Precedence\n",
    "\n",
    "There are many operators in Python. You might know some of them.\n",
    "\n",
    "<br/>\n",
    "\n",
    "There are logical operators such as: **not**, **and**, **or**.\n",
    "\n",
    "<br/>\n",
    "\n",
    "Equality operators such as: **is**, **is not**, **exactly equal to**, **not equal to**.\n",
    "\n",
    "<br/>\n",
    "\n",
    "Comparison operators such as: less than (<), less than or equal to (<=), greater than (>) and greater than or equal to (>=).\n",
    "\n",
    "<br/>\n",
    "\n",
    "Finally, there are arithmetic operators:\n",
    "\n",
    " Addition **+**, subtraction  **-** , multiplication *, and division /. \n",
    "\n",
    "\n",
    "It’s important to use operators correctly, otherwise you’ll get unexpected outputs. We can use brackets to force expressions to be evaluated in the order we want, e.g.\n",
    "\n",
    "x = ((4 + 9 - 1) * 3) / 6  # Equals 6\n",
    "\n",
    "Here’s a table showing the precedence of some, but not all operators.\n",
    "\n",
    "\n",
    "| Operator / Group                    | Symbol / Example |\n",
    "|-------------------------------------|------------------|\n",
    "|Parentheses ( )                      |x = (1 + 5) * 6   |\n",
    "|Multiplication, division, remainder  |* , / , %         |\n",
    "|Addition, subtraction                |+, -              |\n",
    "|Comparisons, membership, identity    | in, not in, is, is, not, <, <=,  >,  >=,<>, !=, ==|\n",
    "|Boolean NOT                          |not               |\n",
    "|Boolean AND                          |and               |\n",
    "|Boolean OR                           |or                |\n",
    "\n",
    "Let's examine some code that deals with operator precedence. Read the code below and try to determine what you think the output should be. Then execute the code to find the true answer."
   ]
  },
  {
   "cell_type": "code",
   "execution_count": 91,
   "metadata": {
    "colab": {
     "base_uri": "https://localhost:8080/",
     "height": 34
    },
    "colab_type": "code",
    "id": "9tiAxU3REuTL",
    "outputId": "8a4e86c1-aefd-40bc-f92c-cca537193939"
   },
   "outputs": [
    {
     "name": "stdout",
     "output_type": "stream",
     "text": [
      "Value of variable 'number_1': 3.0\n"
     ]
    }
   ],
   "source": [
    "# Here we can see a mathematical expression. \n",
    "# What do you expect the value of x to be.\n",
    "number_1 = 2 + 5 - 2 * 8 / 4\n",
    "print(\"Value of variable 'number_1':\", number_1)"
   ]
  },
  {
   "cell_type": "markdown",
   "metadata": {
    "colab_type": "text",
    "id": "DG4UDd1z06wK"
   },
   "source": [
    "What if I told you that the correct answer was 8 - does that answer make sense? It should, because that is the answer you arrive at when evaluating the expression in the correct order. Can you repair the code below to get the correct answer? A few cells down a solution is provided."
   ]
  },
  {
   "cell_type": "code",
   "execution_count": 88,
   "metadata": {
    "colab": {
     "base_uri": "https://localhost:8080/",
     "height": 34
    },
    "colab_type": "code",
    "id": "xowFhH5f07p3",
    "outputId": "88e6baec-b2b7-4bd5-a926-ef596802ebca"
   },
   "outputs": [
    {
     "name": "stdout",
     "output_type": "stream",
     "text": [
      "Value of variable 'number_1': 3.0\n"
     ]
    }
   ],
   "source": [
    "# Please fix this code to get an answer of 8.\n",
    "number_1 = 2 + 5 - 2 * 8 / 4\n",
    "print(\"Value of variable 'number_1':\", number_1)"
   ]
  },
  {
   "cell_type": "markdown",
   "metadata": {
    "colab_type": "text",
    "id": "9_PgivrvSghf"
   },
   "source": [
    "**Solution**"
   ]
  },
  {
   "cell_type": "code",
   "execution_count": 92,
   "metadata": {
    "colab": {
     "base_uri": "https://localhost:8080/",
     "height": 34
    },
    "colab_type": "code",
    "id": "az-5RTV2Sg75",
    "outputId": "29ed8912-fc66-4f27-832e-c78d51a147f4"
   },
   "outputs": [
    {
     "name": "stdout",
     "output_type": "stream",
     "text": [
      "Value of variable 'number_1': 8.0\n"
     ]
    }
   ],
   "source": [
    "number_1 = ((2 + 5 - 3) * 8) / 4\n",
    "print(\"Value of variable 'number_1':\", number_1)"
   ]
  },
  {
   "cell_type": "markdown",
   "metadata": {
    "colab_type": "text",
    "id": "el4rwh_dShcH"
   },
   "source": [
    "When writing expressions in Python, or any other programming language, using parentheses to tell the interpreter the correct order to evaluate expressions is very important. You should always test the code you write to ensure it works as expected, especially if it involves evaluating expressions."
   ]
  },
  {
   "cell_type": "markdown",
   "metadata": {
    "colab_type": "text",
    "id": "QZE4pk4HEumG"
   },
   "source": [
    "<br/>\n",
    "\n",
    "[Back to table of contents.](#Contents)\n",
    "\n",
    "---"
   ]
  },
  {
   "cell_type": "markdown",
   "metadata": {
    "colab_type": "text",
    "id": "1eZkmiaNkFEy"
   },
   "source": [
    "### <a id=\"PythonIfElse\">2.10. If Else\n",
    "\n",
    "We often need to control the flow of our Python programs, based on one or more conditions. In Python, ```if-else``` statements allow us to do this. These statements evaluate one or more variables in terms of,\n",
    "\n",
    "* Equality (are the variables equal).\n",
    "* Whether or not their values fall in some specific range.\n",
    "\n",
    "You can have multiple tests in an If-else statement. Sometimes we may want to check for more than one condition. Python provides us with the ```elif``` keyword for just this scenario. We can therefore build up complex control-flow code using these statements.\n",
    "\n",
    "\n",
    "We can use ```if-else``` statements to check for all sorts of conditions, and take some action based on the outcome of the check. These statements are everywhere in all programming languages. They are incredibly useful.\n",
    "\n",
    "Watch the video below, then move on to the code cells.\n",
    "\n",
    "\n",
    "\n",
    "\n"
   ]
  },
  {
   "cell_type": "code",
   "execution_count": 93,
   "metadata": {
    "colab": {
     "base_uri": "https://localhost:8080/",
     "height": 336
    },
    "colab_type": "code",
    "id": "7hZMaa-7kIQh",
    "outputId": "475b848e-0446-4a4b-c7d1-7401aff32bd5"
   },
   "outputs": [
    {
     "data": {
      "text/html": [
       "\n",
       "        <iframe\n",
       "            width=\"560\"\n",
       "            height=\"315\"\n",
       "            src=\"https://www.youtube.com/embed/Zp5MuPOtsSY\"\n",
       "            frameborder=\"0\"\n",
       "            allowfullscreen\n",
       "        ></iframe>\n",
       "        "
      ],
      "text/plain": [
       "<IPython.lib.display.IFrame at 0x7fa5b8461e80>"
      ]
     },
     "execution_count": 93,
     "metadata": {},
     "output_type": "execute_result"
    }
   ],
   "source": [
    "from IPython.display import IFrame\n",
    "# Then the code below actually shows the video. Don't worry about understanding\n",
    "# this code. I just include this explanation for the curious.\n",
    "IFrame(src='https://www.youtube.com/embed/Zp5MuPOtsSY', width=560, height=315)"
   ]
  },
  {
   "cell_type": "markdown",
   "metadata": {
    "colab_type": "text",
    "id": "dXvdvLK8Lldt"
   },
   "source": [
    "The code cells below let you explore ```if-else``` statements. Read through the cells and execute when ready."
   ]
  },
  {
   "cell_type": "code",
   "execution_count": 94,
   "metadata": {
    "colab": {
     "base_uri": "https://localhost:8080/",
     "height": 68
    },
    "colab_type": "code",
    "id": "mpC02oG8LhYu",
    "outputId": "82b9ac4c-5eab-440b-e23c-203d78b10394"
   },
   "outputs": [
    {
     "name": "stdout",
     "output_type": "stream",
     "text": [
      "The variable `number_1` is less than 11\n",
      "The variable `number_1` is less than or equal to 11\n",
      "The variable `number_1` is exactly 11\n"
     ]
    }
   ],
   "source": [
    "# We can use if statements to check lots of basic conditions.\n",
    "# We first declare a simple numerical variable to illustrate this.\n",
    "number_1 = 10\n",
    "\n",
    "# Now we can check the value of the variable using an if statement, and\n",
    "# take some action based on the outcome. Here the action will usually\n",
    "# be to just print something out. But usually, the action will involve\n",
    "# executing some block of code or function.\n",
    "\n",
    "if number_1 < 11:\n",
    "  print(\"The variable `number_1` is less than 11\") # Condition met\n",
    "else:\n",
    "  print(\"The variable `number_1` is greater than or equal to 11\")\n",
    "  \n",
    "# We can also have the opposite condition check.\n",
    "if number_1 > 11:\n",
    "  print(\"The variable `number_1` is greater than 11\")\n",
    "else:\n",
    "  print(\"The variable `number_1` is less than or equal to 11\") # Condition met\n",
    "  \n",
    "  \n",
    "# You can always combine tests in a simple way.\n",
    "if 11 > number_1 > 9:\n",
    "  print(\"The variable `number_1` is exactly 11\") # Condition met\n",
    "else:\n",
    "  print(\"The variable `number_1` is not equal to 11\")"
   ]
  },
  {
   "cell_type": "markdown",
   "metadata": {
    "colab_type": "text",
    "id": "tlsoXJSZRLsC"
   },
   "source": [
    "Now we explore some more sophisticated examples."
   ]
  },
  {
   "cell_type": "code",
   "execution_count": 95,
   "metadata": {
    "colab": {
     "base_uri": "https://localhost:8080/",
     "height": 51
    },
    "colab_type": "code",
    "id": "m-C9rMnqROnD",
    "outputId": "994679c7-caca-4ddb-9bc8-701d96dc91de"
   },
   "outputs": [
    {
     "name": "stdout",
     "output_type": "stream",
     "text": [
      "Pin Accepted\n",
      "Email address:  test_user@account.com  Is a valid .com address.\n"
     ]
    }
   ],
   "source": [
    "# Usually when programming, we're working in scenarios that are a little more\n",
    "# interesting. So, imagine you’re writing the code for a chip and pin machine.\n",
    "# You need to check the values input by the user. You can imagine storing\n",
    "# the user input in some variable, then testing it for correctness.\n",
    "user_input = \"542341\"\n",
    "\n",
    "if user_input.isnumeric(): # We've exploited a string method here.\n",
    "  print(\"Pin Accepted\")\n",
    "else:\n",
    "  print(\"Invalid pin - pin must be numeric.\")\n",
    "  \n",
    "  \n",
    "# What we can see above, is that any code that returns a boolean TRUE/FALSE\n",
    "# value, can be evaluated in an if statement. So that means many of the string\n",
    "# methods you learned about earlier on. Here's another example. Suppose we want\n",
    "# to check that an email address is valid.\n",
    "email = \"test_user@account.com\"\n",
    "\n",
    "if '@' not in email:\n",
    "  print(\"Email address not valid, missing @ symbol.\")\n",
    "elif email.endswith('.com') is False:\n",
    "  print(\"Not a valid .com email address - the .com suffix is missing\")\n",
    "else:\n",
    "  print(\"Email address: \", email, \" Is a valid .com address.\")\n"
   ]
  },
  {
   "cell_type": "markdown",
   "metadata": {
    "colab_type": "text",
    "id": "Udvfd2DYRySd"
   },
   "source": [
    "How about you try a challenge for yourself (as you've mostly been just reading and executing things so far!).\n",
    "\n",
    "<br/>\n",
    "\n",
    "Suppose we want to build a user account login system for a university. We have two groups of users, staff and students. We need to provide to different services and access permissions depending on the user account. Can you write an ```if-else``` statement that can determine,\n",
    "\n",
    "1. the correct user access to grant - using what you know about strings (and their methods), and integers?\n",
    "2. the correct department to log the user into?\n",
    "\n",
    "<br/>\n",
    "\n",
    "Here's the important information. All email addresses processed by the system start with numbers. Student addresses have numbers from 0 to 8000, while staff have numbers from 8001 onwards. For example:\n",
    "\n",
    "```0001@someuniversity.department.ac.uk``` - is a student account.\n",
    "```8001@someuniversity.department.ac.uk``` - is a staff account.\n",
    "\n",
    "The department is also indicated in the email address. There are three departments for now: \n",
    "\n",
    "* Administration\n",
    "* Arts\n",
    "* Sciences.\n",
    "\n",
    "I need you to,\n",
    "\n",
    "1. report the correct department to log someone into.\n",
    "2. report whether or not they are students or staff. \n",
    "3. report any invalid login attempts for security reasons.\n",
    "\n",
    "I provide some code below to get you started. Can you solve this? An answer is provided below the cell - but only check that when you’re stuck!\n"
   ]
  },
  {
   "cell_type": "code",
   "execution_count": 96,
   "metadata": {
    "colab": {},
    "colab_type": "code",
    "id": "4iuHK7SLTv1s"
   },
   "outputs": [
    {
     "ename": "SyntaxError",
     "evalue": "invalid syntax (<ipython-input-96-a0ee28d65520>, line 11)",
     "output_type": "error",
     "traceback": [
      "\u001b[0;36m  File \u001b[0;32m\"<ipython-input-96-a0ee28d65520>\"\u001b[0;36m, line \u001b[0;32m11\u001b[0m\n\u001b[0;31m    elif # What about the number of . symbols?\u001b[0m\n\u001b[0m                                              ^\u001b[0m\n\u001b[0;31mSyntaxError\u001b[0m\u001b[0;31m:\u001b[0m invalid syntax\n"
     ]
    }
   ],
   "source": [
    "# Let's create some data to test with.\n",
    "user_1 = '0001@edgehill.Arts.ac.uk'\n",
    "departments = ['Administration', \"Arts\", \"Sciences\"]\n",
    "\n",
    "# Look at the data above carefully. What are it's characteristics. First, we need \n",
    "# to check if the data is valid.\n",
    "\n",
    "# Now we check the address.\n",
    "if '@' not in user_1:\n",
    "  print(\"Invalid Login - address: \", user_1, \" is invalid - missing @ symbol.\")\n",
    "elif # What about the number of . symbols?\n",
    "elif # What about the number of @ symbols?\n",
    "elif # Is the correct university in the address.\n",
    "elif # Does it contain .ac.uk?\n",
    "elif # Is the department valid?\n",
    "else:\n",
    "    # Account is valid.\n",
    "    \n",
    "    # Get the user number and department:\n",
    "    number = .... # Figure this out.\n",
    "    department = .... # Figure this out.\n",
    "    \n",
    "    if number <= 8000:\n",
    "      \n",
    "      print(\"Valid student account: \", user_1) \n",
    "      print(\"Student department: \"   , department)\n",
    "      print(\"Student number: \"       , number)\n",
    "    elif number >= 8001:\n",
    "      print(\"Valid staff account: \", user_1) \n",
    "      print(\"Saff department: \"    , department)\n",
    "      print(\"Staff number: \"       , number) \n",
    "      \n"
   ]
  },
  {
   "cell_type": "markdown",
   "metadata": {
    "colab_type": "text",
    "id": "3qkCAMF8XOY8"
   },
   "source": [
    "**Solution**"
   ]
  },
  {
   "cell_type": "code",
   "execution_count": 97,
   "metadata": {
    "colab": {
     "base_uri": "https://localhost:8080/",
     "height": 68
    },
    "colab_type": "code",
    "id": "OGVvfEPnY17l",
    "outputId": "c408ae8c-2c9a-49af-bc4f-cd6ae0d3e17e"
   },
   "outputs": [
    {
     "name": "stdout",
     "output_type": "stream",
     "text": [
      "Valid student account:  0001@edgehill.Arts.ac.uk\n",
      "Student department:  Arts\n",
      "Student number:  1\n"
     ]
    }
   ],
   "source": [
    "# Let's create some data to test with.\n",
    "user_1 = '0001@edgehill.Arts.ac.uk'\n",
    "departments = ['Administration', \"Arts\", \"Sciences\"]\n",
    "\n",
    "# Look at the data above carefully. What are it's characteristics. First, we \n",
    "# need to check if the data is valid.\n",
    "\n",
    "# Now we check the address.\n",
    "if '@' not in user_1:\n",
    "  print(\"Invalid Login - address: \", user_1, \" is invalid - missing @ symbol.\")\n",
    "\n",
    "# What about the number of . symbols?  \n",
    "elif 3 > user_1.count(\".\") > 3: \n",
    "  print(\"Invalid Login - address incorrect: \", user_1, \n",
    "        \" too many/few '.' symbols.\")\n",
    "  \n",
    "# What about the number of @ symbols?\n",
    "elif 1 > user_1.count(\"@\") > 1: \n",
    "  print(\"Invalid Login - address incorrect: \", user_1, \n",
    "        \" too many/few '@' symbols.\")\n",
    "  \n",
    "# Is the correct university in the address.\n",
    "elif \"edgehill\" not in user_1 :\n",
    "  print(\"Invalid Login - incorrect university in address: \", user_1, \" .\")\n",
    "  \n",
    "# Does it contain .ac.uk?\n",
    "elif \".ac.uk\" not in user_1 :\n",
    "  print(\"Invalid Login - incorrect address suffix: \", user_1, \" .\")\n",
    "  \n",
    "# Is the department valid?\n",
    "elif \"administration\" not in user_1.lower() and \\\n",
    "     \"arts\" not in user_1.lower() and \"sciences\" not in user_1.lower():\n",
    "    print(\"Invalid Login - incorrect department: \", user_1, \" .\")\n",
    "else:\n",
    "    # Account is valid.\n",
    "    \n",
    "    # Get the user number and department. Here we simply\n",
    "    # extract the first 4 characters which should be the number,\n",
    "    # and cast that to an int.\n",
    "    number = int(user_1[0:4])\n",
    "    \n",
    "    # We can extract the department, by splitting the string on the '.'\n",
    "    # symbol. If we do this, then we know which part of the list produced\n",
    "    # via splitting, will contain the department. That is, if we have the\n",
    "    # string:\n",
    "    #\n",
    "    # 0001@edgehill.Arts.ac.uk\n",
    "    #\n",
    "    # And if we split on '.' we get the following list:\n",
    "    #\n",
    "    # [\"0001@edgehill\",\"Arts\",\"ac\",\".uk\"]\n",
    "    #         ^          ^     ^     ^\n",
    "    #         |          |     |     |      \n",
    "    #         0          1     2     3   <--- Indexes\n",
    "    #\n",
    "    # So we can see that we need the string at position 1.\n",
    "    department = user_1.split(\".\")[1] # Figure this out.\n",
    "    \n",
    "    # Now we can test on the number.\n",
    "    if number <= 8000:\n",
    "      \n",
    "      print(\"Valid student account: \", user_1) \n",
    "      print(\"Student department: \"   , department.capitalize())\n",
    "      print(\"Student number: \"       , number)\n",
    "    \n",
    "    elif number >= 8001:\n",
    "      print(\"Valid staff account: \", user_1) \n",
    "      print(\"Saff department: \"    , department.capitalize())\n",
    "      print(\"Staff number: \"       , number) \n",
    "       \n"
   ]
  },
  {
   "cell_type": "markdown",
   "metadata": {
    "colab_type": "text",
    "id": "V3w2hhWqE6Bj"
   },
   "source": [
    "<br/>\n",
    "\n",
    "[Back to table of contents.](#Contents)\n",
    "\n",
    "---"
   ]
  },
  {
   "cell_type": "markdown",
   "metadata": {
    "colab_type": "text",
    "id": "KSqny4JhFCPZ"
   },
   "source": [
    "### <a id=\"PythonWhile\">2.11. While Loops\n",
    "\n",
    "It is often desirable to repeat a piece of code, until some condition is met. This would certainly help with the code we wrote above. Right now, it works for only a single user variable. In Python this can be achieved with a while loop. For example, while the user is yet to pick a file, wait for them to choose. \n",
    "    \n",
    "Read the code below and try to understand it. Note that we've replaced the single user variable with a list called users. Then, the loop iterates over this list, using a count variable to move through the list indexes. The count variable is updated after each loop. Once the count variable equals the length of the list, the list terminates. Execute the code when you think you understand it.\n"
   ]
  },
  {
   "cell_type": "code",
   "execution_count": 98,
   "metadata": {
    "colab": {
     "base_uri": "https://localhost:8080/",
     "height": 663
    },
    "colab_type": "code",
    "id": "o7LRDwYuFECK",
    "outputId": "b62069fb-5cf6-4248-af41-c7b2c8dcc06e"
   },
   "outputs": [
    {
     "name": "stdout",
     "output_type": "stream",
     "text": [
      "Valid student account:  0001@edgehill.Arts.ac.uk\n",
      "Student department:  Arts\n",
      "Student number:  1\n",
      "\n",
      "\n",
      "Valid student account:  0002@edgehill.arts.ac.uk\n",
      "Student department:  Arts\n",
      "Student number:  2\n",
      "\n",
      "\n",
      "Valid student account:  8000@edgehill.Sciences.ac.uk\n",
      "Student department:  Sciences\n",
      "Student number:  8000\n",
      "\n",
      "\n",
      "Valid staff account:  8001@edgehill.Administration.ac.uk\n",
      "Saff department:  Administration\n",
      "Staff number:  8001\n",
      "\n",
      "\n",
      "Valid staff account:  8002@edgehill.arts.ac.uk\n",
      "Saff department:  Arts\n",
      "Staff number:  8002\n",
      "\n",
      "\n",
      "Valid staff account:  8003@edgehill.arts.ac.uk\n",
      "Saff department:  Arts\n",
      "Staff number:  8003\n",
      "\n",
      "\n",
      "Valid staff account:  8004@edgehill.Sciences.ac.uk\n",
      "Saff department:  Sciences\n",
      "Staff number:  8004\n",
      "\n",
      "\n",
      "Invalid Login - incorrect address suffix:  8005@edgehill.arts.ac  .\n",
      "Invalid Login - incorrect department:  8006@edgehill.ac.uk  .\n",
      "Invalid Login - address:    is invalid - missing @ symbol.\n"
     ]
    }
   ],
   "source": [
    "# Let's create some data to test with. There are nine examples below.\n",
    "users = ['0001@edgehill.Arts.ac.uk','0002@edgehill.arts.ac.uk', \n",
    "         '8000@edgehill.Sciences.ac.uk','8001@edgehill.Administration.ac.uk',\n",
    "         '8002@edgehill.arts.ac.uk', '8003@edgehill.arts.ac.uk',\n",
    "         '8004@edgehill.Sciences.ac.uk','8005@edgehill.arts.ac', \n",
    "         '8006@edgehill.ac.uk', '']\n",
    "\n",
    "# Look a the data above carefully. What are it's characteristics. First we need \n",
    "# to check if the data is valid. We can use a loop to process this data.\n",
    "\n",
    "# Count the users.\n",
    "address_count = len(users)\n",
    "count = 0\n",
    "\n",
    "while count < address_count:\n",
    "  if '@' not in users[count]:\n",
    "    print(\"Invalid Login - address: \", users[count], \" is invalid - missing @ symbol.\")\n",
    "\n",
    "  # What about the number of . symbols?  \n",
    "  elif 3 > users[count].count(\".\") > 3: \n",
    "    print(\"Invalid Login - address incorrect: \", users[count], \n",
    "        \" too many/few '.' symbols.\")\n",
    "  \n",
    "  # What about the number of @ symbols?\n",
    "  elif 1 > users[count].count(\"@\") > 1: \n",
    "    print(\"Invalid Login - address incorrect: \", users[count], \n",
    "        \" too many/few '@' symbols.\")\n",
    "  \n",
    "  # Is the correct university in the address.\n",
    "  elif \"edgehill\" not in users[count] :\n",
    "    print(\"Invalid Login - incorrect university in address: \", \n",
    "          users[count], \" .\")\n",
    "  \n",
    "  # Does it contain .ac.uk?\n",
    "  elif \".ac.uk\" not in users[count] :\n",
    "    print(\"Invalid Login - incorrect address suffix: \", users[count], \" .\")\n",
    "  \n",
    "  # Is the department valid?\n",
    "  elif \"administration\" not in users[count].lower() and \\\n",
    "     \"arts\" not in users[count].lower() and \"sciences\" \\\n",
    "      not in users[count].lower():\n",
    "      print(\"Invalid Login - incorrect department: \", users[count], \" .\")\n",
    "  else:\n",
    "      # Account is valid.\n",
    "\n",
    "      number = int(users[count][0:4])\n",
    "      department = users[count].split(\".\")[1] # Figure this out.\n",
    "\n",
    "      # Now we can test on the number.\n",
    "      if number <= 8000:\n",
    "      \n",
    "        print(\"Valid student account: \", users[count]) \n",
    "        print(\"Student department: \"   , department.capitalize())\n",
    "        print(\"Student number: \"       , number)\n",
    "        print(\"\\n\") # Added this to make the output easier to read.\n",
    "    \n",
    "      elif number >= 8001:\n",
    "        print(\"Valid staff account: \", users[count]) \n",
    "        print(\"Saff department: \"    , department.capitalize())\n",
    "        print(\"Staff number: \"       , number) \n",
    "        print(\"\\n\") # Added this to make the output easier to read.\n",
    "  \n",
    "  # Update the counter...\n",
    "  count +=1\n",
    "  "
   ]
  },
  {
   "cell_type": "markdown",
   "metadata": {
    "colab_type": "text",
    "id": "E-zRxzKugn0h"
   },
   "source": [
    "I hope you can see how the while loop has made it possible to process lots of addresses, with very little extra code. This is the power of looping and recursion. How about you write some more looping code - this time for a temperature control system. I would like you to test a monitoring system that will turn on a heating controller, when the temperature gets too low (below 19 degrees Celsius). I've provided some outline code to get you started, and the solution is provided further down. The test only needs to run for 30 minutes."
   ]
  },
  {
   "cell_type": "code",
   "execution_count": 99,
   "metadata": {
    "colab": {},
    "colab_type": "code",
    "id": "CbpkzIwwiMHG"
   },
   "outputs": [
    {
     "ename": "SyntaxError",
     "evalue": "invalid syntax (<ipython-input-99-565a32352828>, line 18)",
     "output_type": "error",
     "traceback": [
      "\u001b[0;36m  File \u001b[0;32m\"<ipython-input-99-565a32352828>\"\u001b[0;36m, line \u001b[0;32m18\u001b[0m\n\u001b[0;31m    while ....: # Fix here\u001b[0m\n\u001b[0m              ^\u001b[0m\n\u001b[0;31mSyntaxError\u001b[0m\u001b[0;31m:\u001b[0m invalid syntax\n"
     ]
    }
   ],
   "source": [
    "# This is the start temperature in degrees Celsius.\n",
    "temperature = 20.0\n",
    "\n",
    "# How much heat is lost in Celsius per minute\n",
    "heat_loss_rate = 0.05\n",
    "\n",
    "# The time in minutes measured by the heating system.\n",
    "time_in_mins = 0.0\n",
    "\n",
    "# The number of minutes we'll test the system for.\n",
    "test_runtime = 30.0\n",
    "\n",
    "# The rate at which the heating system is currently configured to\n",
    "# produce heat - 0.1 Celsius increase per minute.\n",
    "heating_rate = 0.1\n",
    "\n",
    "# While we are testing the heating system\n",
    "while ....: # Fix here\n",
    "  \n",
    "  \n",
    "  if ....: # Fix here\n",
    "    \n",
    "    # Turn on the heating\n",
    "    print(\"Turning on the heating system - heating rate (Celsius per minute): \"\n",
    "          , heating_rate)\n",
    "    \n",
    "    # Turn on the heater:\n",
    "    temperature += heating_rate\n",
    "  \n",
    "  # Update the timer for the test.\n",
    "  time_in_mins += 1\n"
   ]
  },
  {
   "cell_type": "markdown",
   "metadata": {
    "colab_type": "text",
    "id": "Bzn0y-ATiMvJ"
   },
   "source": [
    "**Solution**"
   ]
  },
  {
   "cell_type": "code",
   "execution_count": 100,
   "metadata": {
    "colab": {
     "base_uri": "https://localhost:8080/",
     "height": 629
    },
    "colab_type": "code",
    "id": "6-T7_TyjiM_9",
    "outputId": "7bc99d9d-f785-4ce0-8416-179f7594bf16"
   },
   "outputs": [
    {
     "name": "stdout",
     "output_type": "stream",
     "text": [
      "Current temperature:  19.95\n",
      "Current temperature:  19.9\n",
      "Current temperature:  19.849999999999998\n",
      "Current temperature:  19.799999999999997\n",
      "Current temperature:  19.749999999999996\n",
      "Current temperature:  19.699999999999996\n",
      "Current temperature:  19.649999999999995\n",
      "Current temperature:  19.599999999999994\n",
      "Current temperature:  19.549999999999994\n",
      "Current temperature:  19.499999999999993\n",
      "Current temperature:  19.449999999999992\n",
      "Current temperature:  19.39999999999999\n",
      "Current temperature:  19.34999999999999\n",
      "Current temperature:  19.29999999999999\n",
      "Current temperature:  19.24999999999999\n",
      "Current temperature:  19.19999999999999\n",
      "Current temperature:  19.149999999999988\n",
      "Current temperature:  19.099999999999987\n",
      "Current temperature:  19.049999999999986\n",
      "Current temperature:  18.999999999999986\n",
      "Turning on the heating system - heating rate (Celsius per minute):  0.1\n",
      "Current temperature:  19.049999999999986\n",
      "Current temperature:  18.999999999999986\n",
      "Turning on the heating system - heating rate (Celsius per minute):  0.1\n",
      "Current temperature:  19.049999999999986\n",
      "Current temperature:  18.999999999999986\n",
      "Turning on the heating system - heating rate (Celsius per minute):  0.1\n",
      "Current temperature:  19.049999999999986\n",
      "Current temperature:  18.999999999999986\n",
      "Turning on the heating system - heating rate (Celsius per minute):  0.1\n",
      "Current temperature:  19.049999999999986\n",
      "Current temperature:  18.999999999999986\n",
      "Turning on the heating system - heating rate (Celsius per minute):  0.1\n",
      "Current temperature:  19.049999999999986\n",
      "Current temperature:  18.999999999999986\n",
      "Turning on the heating system - heating rate (Celsius per minute):  0.1\n"
     ]
    }
   ],
   "source": [
    "# This is the start temperature in degrees Celsius.\n",
    "temperature = 20.0\n",
    "\n",
    "# How much heat is lost in Celsius per minute\n",
    "heat_loss_rate = 0.05\n",
    "\n",
    "# The time in minutes measured by the heating system.\n",
    "time_in_mins = 0.0\n",
    "\n",
    "# The number of minutes we'll test the system for.\n",
    "test_runtime = 30.0\n",
    "\n",
    "# The rate at which the heating system is currently configured to\n",
    "# produce heat - 0.1 Celsius increase per minute.\n",
    "heating_rate = 0.1\n",
    "\n",
    "# While we are testing the heating system\n",
    "while time_in_mins < test_runtime:\n",
    "  \n",
    "  # Get current temperature due to nantural heat loss,\n",
    "  # e.g. due to open windows, doors etc.\n",
    "  temperature = temperature - heat_loss_rate\n",
    "  print(\"Current temperature: \", temperature)\n",
    "  \n",
    "  # If the temperature drops too low\n",
    "  if temperature < 19.0:\n",
    "    \n",
    "    # Turn on the heating\n",
    "    print(\"Turning on the heating system - heating rate (Celsius per minute): \"\n",
    "          , heating_rate)\n",
    "    \n",
    "    # Turn on the heater:\n",
    "    temperature += heating_rate\n",
    "  \n",
    "  # Update the timer for the test.\n",
    "  time_in_mins += 1\n"
   ]
  },
  {
   "cell_type": "markdown",
   "metadata": {
    "colab_type": "text",
    "id": "UvzGc5DGFEZ-"
   },
   "source": [
    "You should see above that each time the temperature drops below the 19 degrees Celsius threshold, the heating system kicks in. This keeps the temperature at 19 degrees at a minimum.\n",
    "\n",
    "<br/>\n",
    "\n",
    "[Back to table of contents.](#Contents)\n",
    "\n",
    "---"
   ]
  },
  {
   "cell_type": "markdown",
   "metadata": {
    "colab_type": "text",
    "id": "DzaNzU0skJEa"
   },
   "source": [
    "### <a id=\"PythonFor\">2.12. For loops\n",
    "\n",
    "For loops are similar to while loops, however they give you access to variables capable of maintaining counts, useful for many tasks. To make such a for loop, we use a Python standard library function, ```range()```, to keep count. \n",
    "\n",
    "<br/>\n",
    "\n",
    "For example, this code will print out  the numbers 1 to 9:\n",
    "\n",
    "```\n",
    "for num in range(1,10):\n",
    "    print(num)\n",
    "```\n",
    "\n",
    "If we want to include the number 10, we must modify our inputs to the range function like so.\n",
    "\n",
    "```\n",
    "for num in range(1,11):\n",
    "    print(num)\n",
    "```\n",
    "\n",
    "Get use to using the range function, it is very useful: \n",
    "\n",
    "[Range function description](https://docs.python.org/3/library/functions.html#func-range\n",
    ")\n",
    "\n",
    "Please watch this short video describing for loops, before continuing."
   ]
  },
  {
   "cell_type": "code",
   "execution_count": 101,
   "metadata": {
    "colab": {
     "base_uri": "https://localhost:8080/",
     "height": 336
    },
    "colab_type": "code",
    "id": "qqFw1fTRkLjR",
    "outputId": "c0a7d1b0-7cf3-4259-b315-ab0254632401"
   },
   "outputs": [
    {
     "data": {
      "text/html": [
       "\n",
       "        <iframe\n",
       "            width=\"560\"\n",
       "            height=\"315\"\n",
       "            src=\"https://www.youtube.com/embed/94UHCEmprCY\"\n",
       "            frameborder=\"0\"\n",
       "            allowfullscreen\n",
       "        ></iframe>\n",
       "        "
      ],
      "text/plain": [
       "<IPython.lib.display.IFrame at 0x7fa5b844b0b8>"
      ]
     },
     "execution_count": 101,
     "metadata": {},
     "output_type": "execute_result"
    }
   ],
   "source": [
    "from IPython.display import IFrame\n",
    "# Then the code below actually shows the video. Don't worry about understanding\n",
    "# this code. I just include this explanation for the curious.\n",
    "IFrame(src='https://www.youtube.com/embed/94UHCEmprCY', width=560, height=315)"
   ]
  },
  {
   "cell_type": "markdown",
   "metadata": {
    "colab_type": "text",
    "id": "X0V8SBIfmcJb"
   },
   "source": [
    "For loops can be used in a few different ways. They can be used to build iterators, that loop over collections as shown below:\n"
   ]
  },
  {
   "cell_type": "code",
   "execution_count": 102,
   "metadata": {
    "colab": {
     "base_uri": "https://localhost:8080/",
     "height": 187
    },
    "colab_type": "code",
    "id": "_eEaXMX9ujWU",
    "outputId": "ee221f08-0403-4313-ec0b-ad9fbc1b5b4e"
   },
   "outputs": [
    {
     "name": "stdout",
     "output_type": "stream",
     "text": [
      "User address: 0001@edgehill.Arts.ac.uk\n",
      "User address: 0002@edgehill.arts.ac.uk\n",
      "User address: 8000@edgehill.Sciences.ac.uk\n",
      "User address: 8001@edgehill.Administration.ac.uk\n",
      "User address: 8002@edgehill.arts.ac.uk\n",
      "User address: 8003@edgehill.arts.ac.uk\n",
      "User address: 8004@edgehill.Sciences.ac.uk\n",
      "User address: 8005@edgehill.arts.ac\n",
      "User address: 8006@edgehill.ac.uk\n",
      "User address: \n"
     ]
    }
   ],
   "source": [
    "users = ['0001@edgehill.Arts.ac.uk','0002@edgehill.arts.ac.uk', \n",
    "         '8000@edgehill.Sciences.ac.uk','8001@edgehill.Administration.ac.uk',\n",
    "         '8002@edgehill.arts.ac.uk', '8003@edgehill.arts.ac.uk',\n",
    "         '8004@edgehill.Sciences.ac.uk','8005@edgehill.arts.ac', \n",
    "         '8006@edgehill.ac.uk', '']\n",
    "\n",
    "for user in users:\n",
    "  print(\"User address:\", user)\n"
   ]
  },
  {
   "cell_type": "markdown",
   "metadata": {
    "colab_type": "text",
    "id": "u33HUR8Rmvcz"
   },
   "source": [
    "Or we can use indexing to create more useful for loops instead."
   ]
  },
  {
   "cell_type": "code",
   "execution_count": 103,
   "metadata": {
    "colab": {
     "base_uri": "https://localhost:8080/",
     "height": 170
    },
    "colab_type": "code",
    "id": "ocq35anemwQT",
    "outputId": "eb9a1507-d1c4-44be-dcf6-94d437540598"
   },
   "outputs": [
    {
     "name": "stdout",
     "output_type": "stream",
     "text": [
      "User address: 0002@edgehill.arts.ac.uk\n",
      "User address: 8000@edgehill.Sciences.ac.uk\n",
      "User address: 8001@edgehill.Administration.ac.uk\n",
      "User address: 8002@edgehill.arts.ac.uk\n",
      "User address: 8003@edgehill.arts.ac.uk\n",
      "User address: 8004@edgehill.Sciences.ac.uk\n",
      "User address: 8005@edgehill.arts.ac\n",
      "User address: 8006@edgehill.ac.uk\n",
      "User address: \n"
     ]
    }
   ],
   "source": [
    "users = ['0001@edgehill.Arts.ac.uk','0002@edgehill.arts.ac.uk', \n",
    "         '8000@edgehill.Sciences.ac.uk','8001@edgehill.Administration.ac.uk',\n",
    "         '8002@edgehill.arts.ac.uk', '8003@edgehill.arts.ac.uk',\n",
    "         '8004@edgehill.Sciences.ac.uk','8005@edgehill.arts.ac', \n",
    "         '8006@edgehill.ac.uk', '']\n",
    "\n",
    "for i in range(1,len(users)):\n",
    "  print(\"User address:\", users[i])"
   ]
  },
  {
   "cell_type": "markdown",
   "metadata": {
    "colab_type": "text",
    "id": "3FScCoIfINM4"
   },
   "source": [
    "<br/>\n",
    "\n",
    "[Back to table of contents.](#Contents)\n",
    "\n",
    "---\n"
   ]
  },
  {
   "cell_type": "markdown",
   "metadata": {
    "colab_type": "text",
    "id": "wzW1rBGRFPMZ"
   },
   "source": [
    "### <a id=\"PythonFunctions\">2.13. Functions\n",
    "\n",
    "Functions are reusable self-contained units of code that are incredibly useful. Functions have a standard structure in Python. They have a function signature, which defines their name and their usage. Then we have the function body, which contains the code executed by the function. Any variables declared within this function, remain within the “scope” of this function. That is, they aren’t available outside the function, unless returned by the function and stored. \n",
    "\n",
    "Functions can accept multiple input parameters. Functions can return a value, but they don’t have to. Please watch the video below before continuing.\n",
    "\n"
   ]
  },
  {
   "cell_type": "code",
   "execution_count": 104,
   "metadata": {
    "colab": {
     "base_uri": "https://localhost:8080/",
     "height": 336
    },
    "colab_type": "code",
    "id": "dREqBkA5FR6I",
    "outputId": "36dc1251-0049-49a6-f276-eedcaf9da351"
   },
   "outputs": [
    {
     "data": {
      "text/html": [
       "\n",
       "        <iframe\n",
       "            width=\"560\"\n",
       "            height=\"315\"\n",
       "            src=\"https://www.youtube.com/embed/u-OmVr_fT4s\"\n",
       "            frameborder=\"0\"\n",
       "            allowfullscreen\n",
       "        ></iframe>\n",
       "        "
      ],
      "text/plain": [
       "<IPython.lib.display.IFrame at 0x7fa5c02e1438>"
      ]
     },
     "execution_count": 104,
     "metadata": {},
     "output_type": "execute_result"
    }
   ],
   "source": [
    "from IPython.display import IFrame\n",
    "# Then the code below actually shows the video. Don't worry about understanding\n",
    "# this code. I just include this explanation for the curious.\n",
    "IFrame(src='https://www.youtube.com/embed/u-OmVr_fT4s', width=560, height=315)"
   ]
  },
  {
   "cell_type": "markdown",
   "metadata": {
    "colab_type": "text",
    "id": "7S5J25_yVCNw"
   },
   "source": [
    "Let's reconsider our email login example. We used recursion to make checking the login details a little easier. But that code will only work inside that loop - what if we need to use that functionality somewhere else in our code. Do we have to write all that same code again? Well, functions allow us to write code only once, then call it anywhere we need it. We'll adapt our code, putting it inside a function later. For now, let's consider some basic functions. You already know many functions..."
   ]
  },
  {
   "cell_type": "code",
   "execution_count": 105,
   "metadata": {
    "colab": {
     "base_uri": "https://localhost:8080/",
     "height": 34
    },
    "colab_type": "code",
    "id": "MoVEKWKDoS6u",
    "outputId": "c8445ca3-0649-4d0c-d3ab-401eeb419266"
   },
   "outputs": [
    {
     "name": "stdout",
     "output_type": "stream",
     "text": [
      "My own wrapped version of print.\n"
     ]
    }
   ],
   "source": [
    "# Print is a function. You've been calling it all the time. It allows you\n",
    "# to print output in an easy way. I can wrap around that print function. For\n",
    "# example:\n",
    "\n",
    "def robs_print():\n",
    "  print(\"My own wrapped version of print.\")\n",
    "  \n",
    "# Now we can call this function directly.\n",
    "robs_print()"
   ]
  },
  {
   "cell_type": "markdown",
   "metadata": {
    "colab_type": "text",
    "id": "AOLYH-M3ot4V"
   },
   "source": [
    "\n",
    "This version of print is pretty useless, it doesn't do anything I need it to. We can make functions more useful by passing them input parameters. Parameters allow functions to use data from elsewhere in your program to produce some results or output. For example:"
   ]
  },
  {
   "cell_type": "code",
   "execution_count": 106,
   "metadata": {
    "colab": {
     "base_uri": "https://localhost:8080/",
     "height": 51
    },
    "colab_type": "code",
    "id": "e3gCvnIPo-9J",
    "outputId": "3fbed4b6-67ec-4e64-b865-dcac036a038a"
   },
   "outputs": [
    {
     "name": "stdout",
     "output_type": "stream",
     "text": [
      "Hello\n",
      "\t hello\n"
     ]
    }
   ],
   "source": [
    "# Here is another version of my print function. It receives\n",
    "# some input text, and formats it.\n",
    "\n",
    "def robs_print(text):\n",
    "  print(\"\\t\", text)\n",
    "\n",
    "# Here's the output of regular print:\n",
    "print(\"Hello\")\n",
    "\n",
    "# Now we can call this function directly. My output will be different.\n",
    "robs_print(\"hello\")"
   ]
  },
  {
   "cell_type": "markdown",
   "metadata": {
    "colab_type": "text",
    "id": "xiN1vXuwpXDD"
   },
   "source": [
    "By taking advanatage of functions, and perhaps using other functions inside them, I can program functionality that ends up being useful. For instance, suppose we want a function that extracts the user number from the email addresses we considered earlier. We can write a function that does this. We can get it to return the value we want."
   ]
  },
  {
   "cell_type": "code",
   "execution_count": 107,
   "metadata": {
    "colab": {
     "base_uri": "https://localhost:8080/",
     "height": 51
    },
    "colab_type": "code",
    "id": "pXUxlkTkpxVi",
    "outputId": "eba3b6f7-1d54-494b-ac4a-020932ee13b6"
   },
   "outputs": [
    {
     "name": "stdout",
     "output_type": "stream",
     "text": [
      "Email address:  0001@edgehill.Arts.ac.uk\n",
      "The number obtained: 1\n"
     ]
    }
   ],
   "source": [
    "def get_user_number(email_address):\n",
    "  number = int(email_address[0:4])\n",
    "  return number\n",
    "\n",
    "# Let's create some data to test with.\n",
    "user_1 = '0001@edgehill.Arts.ac.uk'\n",
    "\n",
    "number = get_user_number(user_1)\n",
    "\n",
    "print(\"Email address: \", user_1)\n",
    "print(\"The number obtained:\", number)\n"
   ]
  },
  {
   "cell_type": "markdown",
   "metadata": {
    "colab_type": "text",
    "id": "11qtlthEqVhv"
   },
   "source": [
    "This code works fine, except it isn't very robust. It doesn't have any error checking capabilities. What happens if the input is not as expected, for example:"
   ]
  },
  {
   "cell_type": "code",
   "execution_count": 108,
   "metadata": {
    "colab": {
     "base_uri": "https://localhost:8080/",
     "height": 351
    },
    "colab_type": "code",
    "id": "S5O0UFQPqiY1",
    "outputId": "f0c6d020-3d80-4295-b1df-06af09adaf59"
   },
   "outputs": [
    {
     "ename": "ValueError",
     "evalue": "invalid literal for int() with base 10: 'abcd'",
     "output_type": "error",
     "traceback": [
      "\u001b[0;31m---------------------------------------------------------------------------\u001b[0m",
      "\u001b[0;31mValueError\u001b[0m                                Traceback (most recent call last)",
      "\u001b[0;32m<ipython-input-108-c0849d44fd6b>\u001b[0m in \u001b[0;36m<module>\u001b[0;34m\u001b[0m\n\u001b[1;32m      6\u001b[0m \u001b[0muser_1\u001b[0m \u001b[0;34m=\u001b[0m \u001b[0;34m'abcd@edgehill.Arts.ac.uk'\u001b[0m\u001b[0;34m\u001b[0m\u001b[0;34m\u001b[0m\u001b[0m\n\u001b[1;32m      7\u001b[0m \u001b[0;34m\u001b[0m\u001b[0m\n\u001b[0;32m----> 8\u001b[0;31m \u001b[0mnumber\u001b[0m \u001b[0;34m=\u001b[0m \u001b[0mget_user_number\u001b[0m\u001b[0;34m(\u001b[0m\u001b[0muser_1\u001b[0m\u001b[0;34m)\u001b[0m\u001b[0;34m\u001b[0m\u001b[0;34m\u001b[0m\u001b[0m\n\u001b[0m\u001b[1;32m      9\u001b[0m \u001b[0;34m\u001b[0m\u001b[0m\n\u001b[1;32m     10\u001b[0m \u001b[0mprint\u001b[0m\u001b[0;34m(\u001b[0m\u001b[0;34m\"Email address: \"\u001b[0m\u001b[0;34m,\u001b[0m \u001b[0muser_1\u001b[0m\u001b[0;34m)\u001b[0m\u001b[0;34m\u001b[0m\u001b[0;34m\u001b[0m\u001b[0m\n",
      "\u001b[0;32m<ipython-input-108-c0849d44fd6b>\u001b[0m in \u001b[0;36mget_user_number\u001b[0;34m(email_address)\u001b[0m\n\u001b[1;32m      1\u001b[0m \u001b[0;32mdef\u001b[0m \u001b[0mget_user_number\u001b[0m\u001b[0;34m(\u001b[0m\u001b[0memail_address\u001b[0m\u001b[0;34m)\u001b[0m\u001b[0;34m:\u001b[0m\u001b[0;34m\u001b[0m\u001b[0;34m\u001b[0m\u001b[0m\n\u001b[0;32m----> 2\u001b[0;31m   \u001b[0mnumber\u001b[0m \u001b[0;34m=\u001b[0m \u001b[0mint\u001b[0m\u001b[0;34m(\u001b[0m\u001b[0memail_address\u001b[0m\u001b[0;34m[\u001b[0m\u001b[0;36m0\u001b[0m\u001b[0;34m:\u001b[0m\u001b[0;36m4\u001b[0m\u001b[0;34m]\u001b[0m\u001b[0;34m)\u001b[0m\u001b[0;34m\u001b[0m\u001b[0;34m\u001b[0m\u001b[0m\n\u001b[0m\u001b[1;32m      3\u001b[0m   \u001b[0;32mreturn\u001b[0m \u001b[0mnumber\u001b[0m\u001b[0;34m\u001b[0m\u001b[0;34m\u001b[0m\u001b[0m\n\u001b[1;32m      4\u001b[0m \u001b[0;34m\u001b[0m\u001b[0m\n\u001b[1;32m      5\u001b[0m \u001b[0;31m# Let's create some data to test with.\u001b[0m\u001b[0;34m\u001b[0m\u001b[0;34m\u001b[0m\u001b[0;34m\u001b[0m\u001b[0m\n",
      "\u001b[0;31mValueError\u001b[0m: invalid literal for int() with base 10: 'abcd'"
     ]
    }
   ],
   "source": [
    "def get_user_number(email_address):\n",
    "  number = int(email_address[0:4])\n",
    "  return number\n",
    "\n",
    "# Let's create some data to test with.\n",
    "user_1 = 'abcd@edgehill.Arts.ac.uk'\n",
    "\n",
    "number = get_user_number(user_1)\n",
    "\n",
    "print(\"Email address: \", user_1)\n",
    "print(\"The number obtained:\", number)"
   ]
  },
  {
   "cell_type": "markdown",
   "metadata": {
    "colab_type": "text",
    "id": "f8qu3x3tqn4L"
   },
   "source": [
    "Clearly, we get an error using the function above if the input is not as expected. This isn't good. In programming, we should aim to write robust code that is capable of handling unexpected situations. This is usually called defensive programming. I and many others tend to write 'defensive' code, as you can never be sure what someone else will want to do with it :) Here's a better way to do it."
   ]
  },
  {
   "cell_type": "code",
   "execution_count": 109,
   "metadata": {
    "colab": {
     "base_uri": "https://localhost:8080/",
     "height": 51
    },
    "colab_type": "code",
    "id": "dGOj0k0NrDi5",
    "outputId": "8b7a0565-7c21-40d6-9888-efc3de3ab932"
   },
   "outputs": [
    {
     "name": "stdout",
     "output_type": "stream",
     "text": [
      "Email address:  abcd@edgehill.Arts.ac.uk\n",
      "The number obtained: -1\n"
     ]
    }
   ],
   "source": [
    "def get_user_number(email_address):\n",
    "  if email_address is None:\n",
    "    return -1\n",
    "  elif len(email_address) <4:\n",
    "    return -1\n",
    "  else:\n",
    "    try:\n",
    "      number = int(email_address[0:4])\n",
    "      return number\n",
    "    except ValueError: # This is a type of error encountered when casting.\n",
    "      return -1\n",
    "\n",
    "# Let's create some data to test with.\n",
    "user_1 = 'abcd@edgehill.Arts.ac.uk'\n",
    "\n",
    "number = get_user_number(user_1)\n",
    "\n",
    "print(\"Email address: \", user_1)\n",
    "print(\"The number obtained:\", number)"
   ]
  },
  {
   "cell_type": "markdown",
   "metadata": {
    "colab_type": "text",
    "id": "ZGBS16mGrD6e"
   },
   "source": [
    "Now when we run the above code, we don't get an error. Instead we get a value of -1 return, which we can then use to indicate that the address was invalid. Above I've used a language feature you may be unfamilar with,\n",
    "\n",
    "```\n",
    "try:\n",
    "Except:\n",
    "```\n",
    "\n",
    "This is a try-except block of code. Before you proceed, I suggest you want this video."
   ]
  },
  {
   "cell_type": "code",
   "execution_count": 110,
   "metadata": {
    "colab": {
     "base_uri": "https://localhost:8080/",
     "height": 336
    },
    "colab_type": "code",
    "id": "-Y1SXjT5rEbJ",
    "outputId": "df0dcc14-f527-479a-ab3f-153fe6526b37"
   },
   "outputs": [
    {
     "data": {
      "text/html": [
       "\n",
       "        <iframe\n",
       "            width=\"560\"\n",
       "            height=\"315\"\n",
       "            src=\"https://www.youtube.com/embed/NIWwJbo-9_8\"\n",
       "            frameborder=\"0\"\n",
       "            allowfullscreen\n",
       "        ></iframe>\n",
       "        "
      ],
      "text/plain": [
       "<IPython.lib.display.IFrame at 0x7fa5b8485710>"
      ]
     },
     "execution_count": 110,
     "metadata": {},
     "output_type": "execute_result"
    }
   ],
   "source": [
    "from IPython.display import IFrame\n",
    "# Then the code below actually shows the video. Don't worry about understanding\n",
    "# this code. I just include this explanation for the curious.\n",
    "IFrame(src='https://www.youtube.com/embed/NIWwJbo-9_8', width=560, height=315)"
   ]
  },
  {
   "cell_type": "markdown",
   "metadata": {
    "colab_type": "text",
    "id": "cBhXuvTprEsj"
   },
   "source": [
    "There are lots of different types of error in Python. We won't become experts on them overnight, or on how to prevent them happening. But, I provide you with a list here for you to explore in your own time. We'll only touch on one or two here.\n",
    "\n",
    "|Exception|Cause of Error|\n",
    "|---------|--------------|\n",
    "|AssertionError\t|Raised when assert statement fails.|\n",
    "|AttributeError\t|Raised when attribute assignment or reference fails.|\n",
    "|EOFError\t|Raised when the input() functions hits end-of-file condition.|\n",
    "|FloatingPointError\t|Raised when a floating point operation fails.|\n",
    "|GeneratorExit\t|Raise when a generator's close() method is called.|\n",
    "|ImportError\t|Raised when the imported module is not found.|\n",
    "|IndexError\t|Raised when index of a sequence is out of range.|\n",
    "|KeyError\t|Raised when a key is not found in a dictionary.|\n",
    "|KeyboardInterrupt\t|Raised when the user hits interrupt key (Ctrl+c or delete).|\n",
    "|MemoryError\t|Raised when an operation runs out of memory.|\n",
    "|NameError\t|Raised when a variable is not found in local or global scope.|\n",
    "|NotImplementedError\t|Raised by abstract methods.|\n",
    "|OSError\t|Raised when system operation causes system related error.|\n",
    "|OverflowError\t|Raised when result of an arithmetic operation is too large to be represented.|\n",
    "|ReferenceError\t|Raised when a weak reference proxy is used to access a garbage collected referent.|\n",
    "|RuntimeError\t|Raised when an error does not fall under any other category.|\n",
    "|StopIteration\t|Raised by next() function to indicate that there is no further item to be returned by iterator.|\n",
    "|SyntaxError\t|Raised by parser when syntax error is encountered.|\n",
    "|IndentationError\t|Raised when there is incorrect indentation.|\n",
    "|TabError\t|Raised when indentation consists of inconsistent tabs and spaces.|\n",
    "|SystemError\t|Raised when interpreter detects internal error.|\n",
    "|SystemExit\t|Raised by sys.exit() function.|\n",
    "|TypeError\t|Raised when a function or operation is applied to an object of incorrect type.|\n",
    "|UnboundLocalError\t|Raised when a reference is made to a local variable in a function or method, but no value has been bound to that variable.|\n",
    "|UnicodeError\t|Raised when a Unicode-related encoding or decoding error occurs.|\n",
    "|UnicodeEncodeError\t|Raised when a Unicode-related error occurs during encoding.|\n",
    "|UnicodeDecodeError\t|Raised when a Unicode-related error occurs during decoding.|\n",
    "|UnicodeTranslateError\t|Raised when a Unicode-related error occurs during translating.|\n",
    "|ValueError\t|Raised when a function gets argument of correct type but improper value.|\n",
    "|ZeroDivisionError\t|Raised when second operand of division or modulo operation is zero.|\n",
    "\n",
    "Now we know about errors, and some of the error types, can we improve our last function? Well, yes. we didn't comment it properly, which is something we must always do. The code below is now commented properly."
   ]
  },
  {
   "cell_type": "code",
   "execution_count": 111,
   "metadata": {
    "colab": {
     "base_uri": "https://localhost:8080/",
     "height": 51
    },
    "colab_type": "code",
    "id": "BXrlXvN_uNcB",
    "outputId": "0e5c4fdd-ae26-41f7-b2d6-fb69bd3052b7"
   },
   "outputs": [
    {
     "name": "stdout",
     "output_type": "stream",
     "text": [
      "Email address:  abcd@edgehill.Arts.ac.uk\n",
      "The number obtained: -1\n"
     ]
    }
   ],
   "source": [
    "def get_user_number_correct(email_address):\n",
    "  \"\"\"\n",
    "  A function that extracts the user number from an email address\n",
    "  of the form,\n",
    "  \n",
    "  <user number>@<university>.<department>.ac.uk\n",
    "  \n",
    "  The <user number> is expected to be an integer value. The function\n",
    "  extracts this value if the input email address is valid, else it\n",
    "  returns -1.\n",
    "  \n",
    "  Input: \n",
    "        email_address: a str variable containing a valid email address.\n",
    "  \n",
    "  Output: \n",
    "        user number: an integer greater than 0, or -1 if some error occurs.\n",
    "  \"\"\"\n",
    "  if email_address is None:\n",
    "    return -1\n",
    "  elif len(email_address) <4:\n",
    "    return -1\n",
    "  else:\n",
    "    try:\n",
    "      number = int(email_address[0:4])\n",
    "      return number\n",
    "    except ValueError: # This is a type of error encountered when casting.\n",
    "      return -1\n",
    "\n",
    "# Let's create some data to test with.\n",
    "user_1 = 'abcd@edgehill.Arts.ac.uk'\n",
    "\n",
    "number = get_user_number(user_1)\n",
    "\n",
    "print(\"Email address: \", user_1)\n",
    "print(\"The number obtained:\", number)"
   ]
  },
  {
   "cell_type": "markdown",
   "metadata": {
    "colab_type": "text",
    "id": "8_Kcc7_iu8p4"
   },
   "source": [
    "What I did above was create a 'docstring'. These are important, and must be used when creating functions. Docstrings are easily defined as shown below."
   ]
  },
  {
   "cell_type": "code",
   "execution_count": null,
   "metadata": {
    "colab": {},
    "colab_type": "code",
    "id": "ZmV7qgqpvRUH"
   },
   "outputs": [],
   "source": [
    "\"\"\"\n",
    "This is a docstring.\n",
    "\"\"\""
   ]
  },
  {
   "cell_type": "markdown",
   "metadata": {
    "colab_type": "text",
    "id": "djOSdChsvX_v"
   },
   "source": [
    "Now we know a little more about functions, we can really make the login code more maintainable and reusable. Let's create a function that extracts the users department. Try to do this for yourself below, then check the solution when needed."
   ]
  },
  {
   "cell_type": "code",
   "execution_count": 113,
   "metadata": {
    "colab": {
     "base_uri": "https://localhost:8080/",
     "height": 51
    },
    "colab_type": "code",
    "id": "gTbjMuQJvwVi",
    "outputId": "d2ac6e3a-4eae-4412-bd50-e78e9b229b00"
   },
   "outputs": [
    {
     "name": "stdout",
     "output_type": "stream",
     "text": [
      "Email address:  0001@edgehill.Arts.ac.uk\n",
      "The department obtained: None\n"
     ]
    }
   ],
   "source": [
    "def get_user_department(email_address):\n",
    "  \"\"\"\n",
    "  A function that extracts the user department from an email address\n",
    "  of the form,\n",
    "  \n",
    "  <user number>@<university>.<department>.ac.uk\n",
    "  \n",
    "  The <department> is expected to be a string value. The function\n",
    "  extracts this value if the input email address is valid, else it\n",
    "  returns \"Unknown\".\n",
    "  \n",
    "  Input: \n",
    "        email_address: a str variable containing a valid email address.\n",
    "  \n",
    "  Output: \n",
    "        user department: a string variable.\n",
    "  \"\"\"\n",
    "  # Fill in the function for yourself.\n",
    "    \n",
    "  \n",
    "# Let's create some data to test with.\n",
    "user_1 = '0001@edgehill.Arts.ac.uk'\n",
    "\n",
    "department = get_user_department(user_1)\n",
    "\n",
    "print(\"Email address: \", user_1)\n",
    "print(\"The department obtained:\", department)"
   ]
  },
  {
   "cell_type": "markdown",
   "metadata": {
    "colab_type": "text",
    "id": "spLCd26Bvwxk"
   },
   "source": [
    "**Solution**"
   ]
  },
  {
   "cell_type": "code",
   "execution_count": 114,
   "metadata": {
    "colab": {
     "base_uri": "https://localhost:8080/",
     "height": 51
    },
    "colab_type": "code",
    "id": "24hH4S7TvxJx",
    "outputId": "7a61d1fa-8f25-44a2-f610-3710fa6a1dd5"
   },
   "outputs": [
    {
     "name": "stdout",
     "output_type": "stream",
     "text": [
      "Email address:  0001@edgehill.Arts.ac.uk\n",
      "The department obtained: None\n"
     ]
    }
   ],
   "source": [
    "def get_user_department_correct(email_address):\n",
    "  \"\"\"\n",
    "  A function that extracts the user department from an email address\n",
    "  of the form,\n",
    "  \n",
    "  <user number>@<university>.<department>.ac.uk\n",
    "  \n",
    "  The <department> is expected to be a string value. The function\n",
    "  extracts this value if the input email address is valid, else it\n",
    "  returns \"Unknown\".\n",
    "  \n",
    "  Input: \n",
    "        email_address: a str variable containing a valid email address.\n",
    "  \n",
    "  Output: \n",
    "        user department: a string variable.\n",
    "  \"\"\"\n",
    "  if email_address is None:\n",
    "    return \"Unknown\"\n",
    "  elif len(email_address) <4:\n",
    "    return \"Unknown\"\n",
    "  else:\n",
    "    try:\n",
    "      department = email_address.split(\".\")[1]\n",
    "      return department\n",
    "    except: # This is a type of error encountered when casting.\n",
    "      return \"Unknown\"\n",
    "    \n",
    "  \n",
    "# Let's create some data to test with.\n",
    "user_1 = '0001@edgehill.Arts.ac.uk'\n",
    "\n",
    "department = get_user_department(user_1)\n",
    "\n",
    "print(\"Email address: \", user_1)\n",
    "print(\"The department obtained:\", department)"
   ]
  },
  {
   "cell_type": "markdown",
   "metadata": {
    "colab_type": "text",
    "id": "lbZ3Y-VRvz9Q"
   },
   "source": [
    "Now we bring this all together. Let's use the functions we've created to build a final function, capable of efficiently processing user logins. Some pointers have been provided below, and a full answer after that."
   ]
  },
  {
   "cell_type": "code",
   "execution_count": 115,
   "metadata": {
    "colab": {
     "base_uri": "https://localhost:8080/",
     "height": 130
    },
    "colab_type": "code",
    "id": "FUUyTKxBVCgg",
    "outputId": "b4f417f3-81a8-4e06-b439-ccfd6a45fed3"
   },
   "outputs": [
    {
     "ename": "IndentationError",
     "evalue": "expected an indented block (<ipython-input-115-dc6058be04df>, line 60)",
     "output_type": "error",
     "traceback": [
      "\u001b[0;36m  File \u001b[0;32m\"<ipython-input-115-dc6058be04df>\"\u001b[0;36m, line \u001b[0;32m60\u001b[0m\n\u001b[0;31m    elif number >= 8001:\u001b[0m\n\u001b[0m       ^\u001b[0m\n\u001b[0;31mIndentationError\u001b[0m\u001b[0;31m:\u001b[0m expected an indented block\n"
     ]
    }
   ],
   "source": [
    "\n",
    "def process_login(user):\n",
    "  \"\"\"\n",
    "  A function that processes a user login attempt. It returns\n",
    "  the string \"Unsuccessful\" if the login attempt failed, else\n",
    "  it returns \"successful\".\n",
    "  \n",
    "  It expects a user email address of the form,\n",
    "  \n",
    "  <user number>@<university>.<department>.ac.uk\n",
    "  \n",
    "  The <user number> is expected to be an integer value.\n",
    "  The <department> is expected to be a string value corresponding\n",
    "  to either \"Administration\", \"Arts\" or \"Sciences\". \n",
    "  \n",
    "  \n",
    "  Input: \n",
    "        email_address: a str variable containing a valid email address.\n",
    "  \n",
    "  Output: \n",
    "        outcome: a string variable, either \"Successful\" or \"Unsuccessful\".\n",
    "  \"\"\"\n",
    "\n",
    "  # Now we check the address.\n",
    "  if '@' not in user:\n",
    "    print(\"Invalid Login - address: \", user, \" is invalid - missing @ symbol.\")\n",
    "\n",
    "  # What about the number of . symbols?  \n",
    "  elif 3 > user.count(\".\") > 3: \n",
    "    print(\"Invalid Login - address incorrect: \", user, \n",
    "          \" too many/few '.' symbols.\")\n",
    "\n",
    "  # What about the number of @ symbols?\n",
    "  elif 1 > user.count(\"@\") > 1: \n",
    "    print(\"Invalid Login - address incorrect: \", user, \n",
    "          \" too many/few '@' symbols.\")\n",
    "\n",
    "  # Is the correct university in the address.\n",
    "  elif \"edgehill\" not in user :\n",
    "    print(\"Invalid Login - incorrect university in address: \", user, \" .\")\n",
    "\n",
    "  # Does it contain .ac.uk?\n",
    "  elif \".ac.uk\" not in user :\n",
    "    print(\"Invalid Login - incorrect address suffix: \", user, \" .\")\n",
    "\n",
    "  # Is the department valid?\n",
    "  elif \"administration\" not in user.lower() and \\\n",
    "       \"arts\" not in user.lower() and \"sciences\" not in user.lower():\n",
    "      print(\"Invalid Login - incorrect department: \", user, \" .\")\n",
    "  else:\n",
    "      # Account is valid.\n",
    "\n",
    "      # We can use our previously created functions here.\n",
    "\n",
    "\n",
    "      # Now we can test on the number.\n",
    "      if number <= 8000:\n",
    "\n",
    "        \n",
    "\n",
    "      elif number >= 8001:\n",
    "        \n",
    "        \n",
    "        \n",
    "      print(\"\\n\") # Makes the output easier to read.\n",
    "        \n",
    "        \n",
    "# Now we can test our code.\n",
    "users = ['0001@edgehill.Arts.ac.uk','0002@edgehill.arts.ac.uk', \n",
    "         '8000@edgehill.Sciences.ac.uk','8001@edgehill.Administration.ac.uk',\n",
    "         '8002@edgehill.arts.ac.uk', '8003@edgehill.arts.ac.uk',\n",
    "         '8004@edgehill.Sciences.ac.uk','8005@edgehill.arts.ac', \n",
    "         '8006@edgehill.ac.uk', '']\n",
    "\n",
    "for user in users:\n",
    "  process_login_correct(user)"
   ]
  },
  {
   "cell_type": "markdown",
   "metadata": {
    "colab_type": "text",
    "id": "t1rqyqhHxHOi"
   },
   "source": [
    "**Solution**"
   ]
  },
  {
   "cell_type": "code",
   "execution_count": 116,
   "metadata": {
    "colab": {
     "base_uri": "https://localhost:8080/",
     "height": 663
    },
    "colab_type": "code",
    "id": "mgkT4JMcxHm-",
    "outputId": "38f8aebe-776a-4461-c7fd-03fd0020ebbc"
   },
   "outputs": [
    {
     "name": "stdout",
     "output_type": "stream",
     "text": [
      "Valid student account:  0001@edgehill.Arts.ac.uk\n",
      "Student department:  Arts\n",
      "Student number:  1\n",
      "\n",
      "\n",
      "Valid student account:  0002@edgehill.arts.ac.uk\n",
      "Student department:  Arts\n",
      "Student number:  2\n",
      "\n",
      "\n",
      "Valid student account:  8000@edgehill.Sciences.ac.uk\n",
      "Student department:  Sciences\n",
      "Student number:  8000\n",
      "\n",
      "\n",
      "Valid staff account:  8001@edgehill.Administration.ac.uk\n",
      "Saff department:  Administration\n",
      "Staff number:  8001\n",
      "\n",
      "\n",
      "Valid staff account:  8002@edgehill.arts.ac.uk\n",
      "Saff department:  Arts\n",
      "Staff number:  8002\n",
      "\n",
      "\n",
      "Valid staff account:  8003@edgehill.arts.ac.uk\n",
      "Saff department:  Arts\n",
      "Staff number:  8003\n",
      "\n",
      "\n",
      "Valid staff account:  8004@edgehill.Sciences.ac.uk\n",
      "Saff department:  Sciences\n",
      "Staff number:  8004\n",
      "\n",
      "\n",
      "Invalid Login - incorrect address suffix:  8005@edgehill.arts.ac  .\n",
      "Invalid Login - incorrect department:  8006@edgehill.ac.uk  .\n",
      "Invalid Login - address:    is invalid - missing @ symbol.\n"
     ]
    }
   ],
   "source": [
    "\n",
    "def process_login_correct(user):\n",
    "  \"\"\"\n",
    "  A function that processes a user login attempt. It returns\n",
    "  the string \"Unsuccessful\" if the login attempt failed, else\n",
    "  it returns \"successful\".\n",
    "  \n",
    "  It expects a user email address of the form,\n",
    "  \n",
    "  <user number>@<university>.<department>.ac.uk\n",
    "  \n",
    "  The <user number> is expected to be an integer value.\n",
    "  The <department> is expected to be a string value corresponding\n",
    "  to either \"Administration\", \"Arts\" or \"Sciences\". \n",
    "  \n",
    "  \n",
    "  Input: \n",
    "        email_address: a str variable containing a valid email address.\n",
    "  \n",
    "  Output: \n",
    "        outcome: a string variable, either \"Successful\" or \"Unsuccessful\".\n",
    "  \"\"\"\n",
    "\n",
    "  # Now we check the address.\n",
    "  if '@' not in user:\n",
    "    print(\"Invalid Login - address: \", user, \" is invalid - missing @ symbol.\")\n",
    "\n",
    "  # What about the number of . symbols?  \n",
    "  elif 3 > user.count(\".\") > 3: \n",
    "    print(\"Invalid Login - address incorrect: \", user, \n",
    "          \" too many/few '.' symbols.\")\n",
    "\n",
    "  # What about the number of @ symbols?\n",
    "  elif 1 > user.count(\"@\") > 1: \n",
    "    print(\"Invalid Login - address incorrect: \", user, \n",
    "          \" too many/few '@' symbols.\")\n",
    "\n",
    "  # Is the correct university in the address.\n",
    "  elif \"edgehill\" not in user :\n",
    "    print(\"Invalid Login - incorrect university in address: \", user, \" .\")\n",
    "\n",
    "  # Does it contain .ac.uk?\n",
    "  elif \".ac.uk\" not in user :\n",
    "    print(\"Invalid Login - incorrect address suffix: \", user, \" .\")\n",
    "\n",
    "  # Is the department valid?\n",
    "  elif \"administration\" not in user.lower() and \\\n",
    "       \"arts\" not in user.lower() and \"sciences\" not in user.lower():\n",
    "      print(\"Invalid Login - incorrect department: \", user, \" .\")\n",
    "  else:\n",
    "      # Account is valid.\n",
    "\n",
    "      # We can use our previously created functions here.\n",
    "      number = get_user_number_correct(user)\n",
    "      department = get_user_department_correct(user)\n",
    "\n",
    "      # Now we can test on the number.\n",
    "      if number <= 8000:\n",
    "\n",
    "        print(\"Valid student account: \", user) \n",
    "        print(\"Student department: \"   , department.capitalize())\n",
    "        print(\"Student number: \"       , number)\n",
    "\n",
    "      elif number >= 8001:\n",
    "        print(\"Valid staff account: \", user) \n",
    "        print(\"Saff department: \"    , department.capitalize())\n",
    "        print(\"Staff number: \"       , number) \n",
    "        \n",
    "        \n",
    "      print(\"\\n\") # Makes the output easier to read.\n",
    "        \n",
    "        \n",
    "# Now we can test our code.\n",
    "users = ['0001@edgehill.Arts.ac.uk','0002@edgehill.arts.ac.uk', \n",
    "         '8000@edgehill.Sciences.ac.uk','8001@edgehill.Administration.ac.uk',\n",
    "         '8002@edgehill.arts.ac.uk', '8003@edgehill.arts.ac.uk',\n",
    "         '8004@edgehill.Sciences.ac.uk','8005@edgehill.arts.ac', \n",
    "         '8006@edgehill.ac.uk', '']\n",
    "\n",
    "for user in users:\n",
    "  process_login_correct(user)"
   ]
  },
  {
   "cell_type": "markdown",
   "metadata": {
    "colab_type": "text",
    "id": "aOLxEw9KFSXR"
   },
   "source": [
    "<br/>\n",
    "\n",
    "[Back to table of contents.](#Contents)\n",
    "\n",
    "---"
   ]
  },
  {
   "cell_type": "markdown",
   "metadata": {
    "colab_type": "text",
    "id": "M7l5s1ZTdJNp"
   },
   "source": [
    "### <a id=\"PythonScope\">2.14. Scope\n",
    "\n",
    "Scope refers to the area of the code in which variables or functions are available to be used. If a variable is defined in a function, for example, it’s scope is confined to that function. This means it can only be seen within the function and not elsewhere.\n",
    "\n",
    "\n",
    "It also means that variables defined outside of functions, can’t be seen or edited within the functions. These issues trip up novice programmers, so we’ll explore scope for ourselves now. Scope is a difficult topic to explain, so please watch the video below before continuing.\n",
    "\n",
    "\n",
    "\n"
   ]
  },
  {
   "cell_type": "code",
   "execution_count": 117,
   "metadata": {
    "colab": {
     "base_uri": "https://localhost:8080/",
     "height": 336
    },
    "colab_type": "code",
    "id": "265y2h25Vbnr",
    "outputId": "8f67cd2f-b7bd-40c5-9d9f-04eeb1fc1a6c"
   },
   "outputs": [
    {
     "data": {
      "text/html": [
       "\n",
       "        <iframe\n",
       "            width=\"560\"\n",
       "            height=\"315\"\n",
       "            src=\"https://www.youtube.com/embed/QVdf0LgmICw\"\n",
       "            frameborder=\"0\"\n",
       "            allowfullscreen\n",
       "        ></iframe>\n",
       "        "
      ],
      "text/plain": [
       "<IPython.lib.display.IFrame at 0x7fa5b8485d30>"
      ]
     },
     "execution_count": 117,
     "metadata": {},
     "output_type": "execute_result"
    }
   ],
   "source": [
    "from IPython.display import IFrame\n",
    "# Then the code below actually shows the video. Don't worry about understanding\n",
    "# this code. I just include this explanation for the curious.\n",
    "IFrame(src='https://www.youtube.com/embed/QVdf0LgmICw', width=560, height=315)"
   ]
  },
  {
   "cell_type": "markdown",
   "metadata": {
    "colab_type": "text",
    "id": "WOU2PInHVckg"
   },
   "source": [
    "The code below contains examples of different scopes. Read through each example carefully. When you feel that you understand it, execute it. If the output is not as you expect then do the following: deduce what must have happened to give that answer. That will help you understand scope. Unfortunately, it's one of those topics you mostly learn by \"doing\".\n",
    "\n",
    "**Example 1**"
   ]
  },
  {
   "cell_type": "code",
   "execution_count": 118,
   "metadata": {
    "colab": {
     "base_uri": "https://localhost:8080/",
     "height": 51
    },
    "colab_type": "code",
    "id": "MXHWghpujWjQ",
    "outputId": "0971f9d4-fed3-4b2d-b446-4dc730fa35a9"
   },
   "outputs": [
    {
     "name": "stdout",
     "output_type": "stream",
     "text": [
      "5\n",
      "5\n"
     ]
    }
   ],
   "source": [
    "# Create a simple variable.\n",
    "a = 5\n",
    "\n",
    "# Print that variable inside of a function.\n",
    "def function():\n",
    "    print(a)\n",
    "\n",
    "# Call the function.\n",
    "function()\n",
    "\n",
    "# We can see that the function can see the value of a - but only because that \n",
    "# value is passed to it.\n",
    "print(a)\n"
   ]
  },
  {
   "cell_type": "markdown",
   "metadata": {
    "colab_type": "text",
    "id": "1mZHg5AZ1AX_"
   },
   "source": [
    "**Example 2**"
   ]
  },
  {
   "cell_type": "code",
   "execution_count": 119,
   "metadata": {
    "colab": {
     "base_uri": "https://localhost:8080/",
     "height": 51
    },
    "colab_type": "code",
    "id": "hsZIKipD0m36",
    "outputId": "c3b8cded-b82a-4578-8b20-04c91bc68450"
   },
   "outputs": [
    {
     "name": "stdout",
     "output_type": "stream",
     "text": [
      "3\n",
      "5\n"
     ]
    }
   ],
   "source": [
    "# Create a simple variable.\n",
    "a = 5\n",
    "\n",
    "# Now alter the function.\n",
    "def function():\n",
    "    a = 3\n",
    "    print(a)\n",
    "\n",
    "# Call the function.\n",
    "function()\n",
    "\n",
    "# We can see that the function did not change the value of a. This is because\n",
    "# the variable passed to the function, is not the original variable a. The \n",
    "# variable passed to the function has a scope confined only to the function.\n",
    "# Once the function terminates, that variable disappears.\n",
    "print(a)\n",
    "\n"
   ]
  },
  {
   "cell_type": "markdown",
   "metadata": {
    "colab_type": "text",
    "id": "mzTLDqOe1Crg"
   },
   "source": [
    "**Example 3**"
   ]
  },
  {
   "cell_type": "code",
   "execution_count": 120,
   "metadata": {
    "colab": {
     "base_uri": "https://localhost:8080/",
     "height": 51
    },
    "colab_type": "code",
    "id": "TAsnFS0y0nMt",
    "outputId": "0470efb7-c42b-4c1c-a230-1e550a57305f"
   },
   "outputs": [
    {
     "name": "stdout",
     "output_type": "stream",
     "text": [
      "Rob\n",
      "Rob\n"
     ]
    }
   ],
   "source": [
    "# Create a simple variable.\n",
    "name = 'Rob'\n",
    "\n",
    "# Create a function that tries to change the value of the variable \n",
    "# passed to it.\n",
    "def change_name(new_name):\n",
    "    name = new_name\n",
    "\n",
    "# Print the name to confirm what it is.\n",
    "print(name)    \n",
    "\n",
    "# Now try to change it.\n",
    "change_name('James')\n",
    "\n",
    "# Print the name to confirm what it is. We can see we haven't change it.\n",
    "# Any change is confined to the scope of the function. Once the function\n",
    "# finishes, that scope is discarded.\n",
    "print(name)\n",
    "\n",
    "\n"
   ]
  },
  {
   "cell_type": "markdown",
   "metadata": {
    "colab_type": "text",
    "id": "CAHR1Mjg1E0_"
   },
   "source": [
    "**Example 4**"
   ]
  },
  {
   "cell_type": "code",
   "execution_count": 121,
   "metadata": {
    "colab": {
     "base_uri": "https://localhost:8080/",
     "height": 51
    },
    "colab_type": "code",
    "id": "V1q1nTQz0nfi",
    "outputId": "904b773f-d9c5-4278-f537-e71785a56378"
   },
   "outputs": [
    {
     "name": "stdout",
     "output_type": "stream",
     "text": [
      "Rob\n",
      "James\n"
     ]
    }
   ],
   "source": [
    "\n",
    "# Create a simple variable.\n",
    "name = 'Rob'\n",
    "\n",
    "# This time we update the function, so that it uses the global keyword to \n",
    "# indicate that it will alter a variable called name which has its scope\n",
    "# outside of the function.\n",
    "def change_name(new_name):\n",
    "    global name\n",
    "    name = new_name\n",
    "\n",
    "# Print name to confirm what it is.\n",
    "print(name)    \n",
    "\n",
    "# Now we try to update it.\n",
    "change_name('James')\n",
    "\n",
    "# Now print the result.\n",
    "print(name)\n",
    "\n",
    "\n"
   ]
  },
  {
   "cell_type": "markdown",
   "metadata": {
    "colab_type": "text",
    "id": "vW15jvmG1GYT"
   },
   "source": [
    "**Example 5**"
   ]
  },
  {
   "cell_type": "code",
   "execution_count": 122,
   "metadata": {
    "colab": {
     "base_uri": "https://localhost:8080/",
     "height": 68
    },
    "colab_type": "code",
    "id": "pRBbYYKM0nwN",
    "outputId": "e629c0eb-4b33-40d1-9b95-dbc324e06996"
   },
   "outputs": [
    {
     "name": "stdout",
     "output_type": "stream",
     "text": [
      "from inner: c\n",
      "from outer: b\n",
      "globally: a\n"
     ]
    }
   ],
   "source": [
    "# Create a simple variable.\n",
    "x = \"a\"\n",
    "\n",
    "# Now we have an outer function.\n",
    "def outer():\n",
    "  \n",
    "    # It tries to alter the value of variable x,\n",
    "    # which is declared outside the function.\n",
    "    x = \"b\"\n",
    "    \n",
    "    # It also contains an inner function - you did know you can nest\n",
    "    # functions in this manner :)\n",
    "    def inner():\n",
    "        # Now try to update x again from inside this nested function.\n",
    "        x = \"c\"\n",
    "        print(\"from inner:\", x)\n",
    "\n",
    "    inner()\n",
    "    print(\"from outer:\", x)\n",
    "\n",
    "outer()\n",
    "print(\"globally:\", x)\n",
    "\n",
    "# Here we see that the functions only altered a copy of the value of x, within\n",
    "# their own scope. Once those functions terminated, those varaibles were \n",
    "# discarded, and the original value of x unchanged."
   ]
  },
  {
   "cell_type": "markdown",
   "metadata": {
    "colab_type": "text",
    "id": "vBAm8mU91I-s"
   },
   "source": [
    "**Example 6**"
   ]
  },
  {
   "cell_type": "code",
   "execution_count": 123,
   "metadata": {
    "colab": {
     "base_uri": "https://localhost:8080/",
     "height": 68
    },
    "colab_type": "code",
    "id": "ZJSCB2GF02hC",
    "outputId": "69280530-86f2-4ae7-b4c0-963ce0611561"
   },
   "outputs": [
    {
     "name": "stdout",
     "output_type": "stream",
     "text": [
      "inner: c\n",
      "outer: c\n",
      "global: a\n"
     ]
    }
   ],
   "source": [
    "# Create a simple variable.\n",
    "x = \"a\"\n",
    "\n",
    "# Now we have an outer function.\n",
    "def outer():\n",
    "  \n",
    "    # It tries to alter the value of variable x,\n",
    "    # which is declared outside the function.\n",
    "    x = \"b\"\n",
    "    \n",
    "    # Now we create our inner function again.\n",
    "    def inner():\n",
    "      \n",
    "        # This time, we use the nonlocal keyword to indicate that\n",
    "        # we want to alter the variable x declared outside of this\n",
    "        # function, i.e. that is not local to this function. That \n",
    "        # means the value of x created in the function\n",
    "        # that wraps this inner function (i.e. the value of x just\n",
    "        # one level above).\n",
    "        nonlocal x\n",
    "        x = \"c\"\n",
    "        print(\"inner:\", x)\n",
    "\n",
    "    inner()\n",
    "    print(\"outer:\", x)\n",
    "\n",
    "outer()\n",
    "print(\"global:\", x)\n",
    "\n",
    "# When we run this, we see that we’ve altered the outer and inner values of x.\n",
    "# But the original variable x, declared outside of all the functions, is\n",
    "# unaltered.\n"
   ]
  },
  {
   "cell_type": "markdown",
   "metadata": {
    "colab_type": "text",
    "id": "SDZ0xHF91KV1"
   },
   "source": [
    "**Example 7**"
   ]
  },
  {
   "cell_type": "code",
   "execution_count": 124,
   "metadata": {
    "colab": {
     "base_uri": "https://localhost:8080/",
     "height": 68
    },
    "colab_type": "code",
    "id": "Cc-YbE-O04yb",
    "outputId": "451a42e9-4f5b-4258-986e-c0cd9c6abf1d"
   },
   "outputs": [
    {
     "name": "stdout",
     "output_type": "stream",
     "text": [
      "inner: c\n",
      "outer: b\n",
      "global: c\n"
     ]
    }
   ],
   "source": [
    "# Create a simple variable.\n",
    "x = \"a\"\n",
    "\n",
    "# Now we have an outer function.\n",
    "def outer():\n",
    "  \n",
    "    # It tries to alter the value of variable x,\n",
    "    # which is declared outside the function.\n",
    "    x = \"b\"\n",
    "    \n",
    "    # Now we create our inner function again.\n",
    "    def inner():\n",
    "      \n",
    "        # This time, we use the global keyword to indicate that\n",
    "        # we want to alter the variable x declared outside of ALL the\n",
    "        # functions.\n",
    "        global x\n",
    "        x = \"c\"\n",
    "        print(\"inner:\", x)\n",
    "\n",
    "    inner()\n",
    "    print(\"outer:\", x)\n",
    "\n",
    "outer()\n",
    "print(\"global:\", x)\n",
    "\n",
    "# When we run this, we see that we’ve altered the outer and inner and global \n",
    "# values of x. Interestingly, the outer value of x was 'b'. Do you understand \n",
    "# why this is the case? It is because the outer loop was only editing a copy of\n",
    "# the variable x local to itself - which the inner loops was modifying the \n",
    "# global variable.\n",
    "\n"
   ]
  },
  {
   "cell_type": "markdown",
   "metadata": {
    "colab_type": "text",
    "id": "4JjKdr5AFY34"
   },
   "source": [
    "<br/>\n",
    "\n",
    "[Back to table of contents.](#Contents)\n",
    "\n",
    "---"
   ]
  },
  {
   "cell_type": "markdown",
   "metadata": {},
   "source": [
    "## <a id=\"aiandml\"></a>3. A.I. and Machine Learning\n",
    "This section will introduce the basics of machine learning. If you follow it carefully, you'll understand the concepts underpinning this tutorial. It doesn't matter if we don't have the time to cover all this material in person. You can catch up in your own time.\n",
    "\n",
    "### <a id=\"mloverview\"></a>3.1 Overview\n",
    "\n",
    "We hear a lot about A.I. these days. There’s a great deal of hype and exaggeration in the media, about what such technologies can do at present (for example [[1](https://www.theguardian.com/technology/2018/jul/25/ai-artificial-intelligence-social-media-bots-wrong), [2](https://www.theverge.com/2019/1/28/18197520/ai-artificial-intelligence-machine-learning-computational-science)]). But what exactly is A.I.? Well, it is a field of study concerned with reproducing, or replicating as closely as possible, human intelligence. A.I. is actually an umbrella term – it is comprised of many sub-fields of study. These focus upon replicating,\n",
    "\n",
    "* Our capacity for speech.\n",
    "* Our ability to see. Humans have a complex [visual cortex](https://en.wikipedia.org/wiki/Visual_cortex) that provides us with exceptional vision. Despite this complexity, we are able to process visual information with ease, which is remarkable.\n",
    "* Our ability to process complex auditory information.\n",
    "* Our innate reasoning abilities, that is, our capacity to infer and deduce knowledge from available information.\n",
    "* Our ability to learn from information provided to us, to make decisions.\n",
    "* Our natural ability to interpret language, whether written, spoken, or understood via touch (braille).\n",
    "* Our ability to move our sophisticated bodies around with precision, lift objects, exert fine motor control.\n",
    "* Our consciousness. This is somewhat contentious as it is difficult to define conscious. Nonetheless, some are trying to replicate this in machines. For those curious about consciousness, it’s definitions and interpretations, [this](https://www.scientificamerican.com/article/what-is-consciousness/) 2018 article may be of interest.\n",
    "\n",
    "<br/>\n",
    "\n",
    "<img src=\"https://github.com/scienceguyrob/AI4AstroMasterclass/raw/master/media/images/ml/1_AI_Explained.png\" width=\"400\">\n",
    "\n",
    "<br/>\n",
    "\n",
    "In this tutorial we'll be focusing on applying methods designed to replicate the human capacity for learning. These methods arise from a field of study known more generally as “Machine Learning”. Machine Learning is a fascinating subject.  It combines insights from Statistics, Logic, Psychology and even Neuroscience. These are brought together to create automated systems capable of “learning” by themselves.\n",
    "\n",
    "<br/>\n",
    "\n",
    "Machine Learning isn’t concerned with replicating exactly how humans learn. This is because our learning capabilities are subject to some problems, [bias](https://en.wikipedia.org/wiki/List_of_cognitive_biases) for instance. This makes human decision making flawed. There are countless examples of human decision making leading to bad outcomes [[3]](https://www.forbes.com/sites/erikaandersen/2013/10/04/it-seemed-like-a-good-idea-at-the-time-7-of-the-worst-business-decisions-ever-made/). Thus M.L. attempts to replicate the best aspects of human learning, improving upon them to yield better decision making. To do this machine learning focuses on using available information to make optimal decisions/predictions. What this means in practice will become clear as we progress. As we progress, you’ll acquire an understanding of M.L. that will allow you to apply it for yourself moving forward.\n",
    "\n",
    "<br/>\n"
   ]
  },
  {
   "cell_type": "markdown",
   "metadata": {},
   "source": [
    "### <a id=\"aiapplications\"></a>3.2 Applications of Machine Learning\n",
    "Machine learning (ML) has become ubiquitous in recent years. You can find machine learning algorithms underpinning technologies you take for granted every day. For instance, Apple's [Siri](https://en.wikipedia.org/wiki/Siri) and Amazon's [Alexa](https://en.wikipedia.org/wiki/Amazon_Alexa) both use ML to interpret spoken words. Whilst [Facebook](https://en.wikipedia.org/wiki/DeepFace) and Apple's [Face ID](https://en.wikipedia.org/wiki/Face_ID) use ML to enable automatic face recognition in image data. These applications of ML represent the tip of the iceberg. Here a few more examples that illustrate just how commonplace machine learning has become.\n",
    "\n",
    "<br/>\n",
    "\n",
    "* In banking it is used to predict changes in stock prices [[4](https://www.cnbc.com/2018/12/05/sell-offs-could-be-down-to-machines-that-control-80percent-of-us-stocks-fund-manager-says.html)].\n",
    "* In finance to identify fraudulent credit card transactions [[5](http://news.mit.edu/2018/machine-learning-financial-credit-card-fraud-0920)].\n",
    "* In medicine to predict the likelihood of disease [[6](https://www.forbes.com/sites/nicolemartin1/2019/10/18/how-artifical-intelligence-is-advancing-precision-medicine/)].\n",
    "* In robotics/vehicles to enable automated control [[7](https://artificialintelligence-news.com/2019/06/18/volvo-nvidia-assist-ai-self-driving-vehicles/)].\n",
    "* In sport to analyse team performance [[8](http://www.sportspromedia.com/news/liverpool-fc-skillcorner-ai-data-analysis)].\n",
    "* In science for a plethora of purposes [[9](https://phys.org/news/2019-08-team-ai-fast-radio.html)]\n",
    "\n",
    "<br/>\n"
   ]
  },
  {
   "cell_type": "markdown",
   "metadata": {},
   "source": [
    "### <a id=\"importanceofml\"></a>3.3 Importance of Machine Learning\n",
    "As we continue to become an increasingly technological society, we accumulate ever growing quantities of data. This data often contains useful insights and knowledge that can be used to improve society. Yet it is impossible for human beings to interpret manually, as this would take a prohibitively long time. Machine learning has the potential to alleviate and solve such problems. This explains why it has grown in importance in recent years in domains such as medicine, physics, climate modelling, finance etc. This trend is almost certain to continue moving forward. However, machine learning is not only being used to reveal hidden knowledge in data. It is also used to automate many onerous tasks, and in some controversial cases, automate tasks traditionally undertaken by people, to reduce labour costs/increase profit. It is hard to not exaggerate the crucial role (for better or worse) that machine learning is currently playing in our society. Whether or not you're interested in how works, it will be there in the background - making decision that impact your daily life. It is therefore important that those of us applying ML understand its strengths, weaknesses, and the ethical implications of its applications.\n",
    "\n",
    "<br/>\n"
   ]
  },
  {
   "cell_type": "markdown",
   "metadata": {},
   "source": [
    "### <a id=\"learningexplained\"></a>3.4 Learning & Experience\n",
    "Humans are capable of sophisticated learning via trial & error, reinforcement, and by receiving information from some form of “oracle”. An oracle could be a parent, teacher, sibling, friend, book, or an online resource such as this. The oracle provides a source of information that we process, store in memory, and utilize when required. Our memory is capable of storing a lifetime of knowledge and experience, making it a highly sophisticated analogue of a computer hard drive. Though we store information differently to computer hard drives, the content is the same in both cases – data. \n",
    "\n",
    "<br/>\n",
    "\n",
    "This dataset becomes populated as our senses (sight, smell, sound etc.) start collecting information about the world. When we’re born, this dataset is mostly empty. Over time we collect experiences. Eventually we connect our experiences and the information given to us, with some tangible outcome or label. So, for example, most babies learn automatically that when they cry, then can get parental attention. Ultimately, we learn to use our experiences to make decisions or take actions. Yet given the same information, it is possible that two people will take very different actions. This is because knowledge and experience differ from person to person.  In other words, the content of our memory datasets is different. Despite any differences between us, human decision making is geared toward making the best, or “optimal” decisions using past experience and available information.\n",
    "\n",
    "<br/>\n",
    "\n",
    "Let’s continue thinking about experience. Experience is describable and quantifiable as data. You already intuitively understand what data is. However, to understand ML, we must first become familiar with the terminology used in the field. Let’s start by considering that data can be quantified and recorded using a simple table structure. \n",
    "\n",
    "<br/>\n",
    "\n",
    "<img src=\"https://github.com/scienceguyrob/AI4AstroMasterclass/raw/master/media/images/ml/2_Table_1_Introduced.png\" width=\"800\">\n",
    "\n",
    "<br/>\n",
    "\n",
    "Here we have a table describing the characteristics of animals we’ve observed at some time during our lives. The animals are described using four characteristics – their mass in Kilograms (Kg), their height in centimetres (cm), the number of legs they possess, and their primary colour when viewed by eye. Each of these characteristics is represented as a column in the table.  We can see there are three rows in the table, representing three unique animals. \n",
    "\n",
    "<br/>\n",
    "\n",
    "In machine learning we refer to the characteristics – mass, height, number of legs, and colour, as features. Sometimes these are also known as variables or attributes, but we’ll stick with the term features. Each row in the table is called an example. That is, the first row represents our first example animal and so on.\n",
    "\n",
    "<br/>\n",
    "\n",
    "Each example may be associated with a “label”. In this case the label would correspond to the name of the animal. The label is also sometimes known as the “class label”. For instance, the first row of the table represents an animal that belongs to the class “Cat”. This class is distinct from all other classes. How a class label is defined impacts it’s interpretation. Thus, since we do not clarify here, the label “cat” applies to all species of Feline.  But this class label can be broken down into to “sub-classes” such as “Domestic Cat”, “Leopard”, “Panther” etc. When the labels for examples are known, we say we have the “ground truth” labels. This means the truth is known for certain – i.e. the label is undeniably correct. When a dataset is accompanied by ground truth labels, we call this data set “labelled”.\n",
    "\n",
    "<br/>\n",
    "\n",
    "<img src=\"https://github.com/scienceguyrob/AI4AstroMasterclass/raw/master/media/images/ml/3_Table_1_Intro_Notation.png\" width=\"800\">\n",
    "\n",
    "<br/>\n",
    "\n",
    "Here we can see the same table as before, describing the animals we’ve observed at some time in our lives. Consider the equivalent table you hold in your mind – it will have an enormous number of rows, and many features. To make such datasets easier to study, we label each row using some simple notation. Here we represent examples using the notation $x_i$. At first this may appear confusing – what do $x$ and $i$ mean?\n",
    "\n",
    "<br/>\n",
    "\n",
    "Read $x$ as meaning “example”, and $i$ as a number that uniquely identifies the example. So here we can see there are three examples described using this notation. Now when I say $x_2$ you know which animal I’m referring to – the animal in the second row of the table. We can also represent the class label in a similar way. Read $y$ as meaning “label”, and 𝑖 as a number that uniquely identifies the label. So here we can see there are three labels described using this notation. Now when I say $y_3$ you know which animal I’m referring to – the mouse in the third row of the table.\n",
    "\n",
    "<br/>\n",
    "\n",
    "\n",
    "This notation allows us to describe examples in a new way, using mathematics that’s easier to write down than written language. Here we represent example $1$ as the row values stored between two brackets and separated by commas. We can also represent the label similarly. These brackets enclose what we call sets. Sets are simply collections of objects. Thus $x_1$ is a set containing the characteristics of the animal in row 1, and $y_1$ is a set containing the labels associated with the same animal. We can represent entire datasets using this notation. \n",
    "\n",
    "\n",
    "<br/>\n",
    "\n",
    "<img src=\"https://github.com/scienceguyrob/AI4AstroMasterclass/raw/master/media/images/ml/4_Link_to_experience.png\" width=\"800\">\n",
    "\n",
    "<br/>\n",
    "\n",
    "\n",
    "We now understand how data can be represented using some basic mathematical notation. Using this notation, we can express what we mean by “experience” in a straightforward way. Experience is simply a set, $E$, consisting of pairs of features and class labels. In theory it can contain infinitely many pairs, though since our knowledge is imperfect, this is never the case. These pairs are known more commonly as *tuples*. A tuple can contain as many features and labels as required. However, for the machine learning we’re discussing here, each tuple contains only one label.\n",
    "\n",
    "<br/>\n",
    "\n",
    "Sometimes we don’t know the ground truth. In such cases, we have to collect information, and provide it for ourselves. This can be costly and time consuming. For instance, suppose we want to learn how to recognise a rare type of disease in medical data. To do this we’ll need labelled examples showing us what disease looks like. We’ll also need examples of what disease doesn’t look like. \n",
    "To get this data, patients will need to be scanned, and their scans manually labelled by a medical expert as disease or non-disease. Clearly this process costs time and money.\n",
    "\n",
    "<br/>\n",
    "\n",
    "<img src=\"https://github.com/scienceguyrob/AI4AstroMasterclass/raw/master/media/images/ml/5_Table_2_Introduced.png\" width=\"800\">\n",
    "\n",
    "Suppose we’re given the dataset above. It has 4 features, External Temperature ($^\\circ C$), Internal Temperature ($^\\circ C$), Time, and Power Consumption. Suppose that initially no labels are given for this data. This makes the data hard to interpret – it could relate to a variety of scenarios. We’re then told this data represents the records of a heating control system. If the ground truth is unknown, this is called an “unlabelled” dataset. This can be represented using the following notation: $(x_1,?)$. Sometimes extra information will be provided, which converts an unlabelled data set into a “partially-labelled” dataset.\n",
    "\n",
    "<br/>\n",
    "\n",
    "As humans we are able to use our senses to extract the key features we can use to make decisions. So, for instance when we look at an animal, we can almost automatically assess its size, mass, age, species, etc. Humans are gifted feature extractors. We are also able to assign labels with ease, and extremely quickly. \n",
    "\n",
    "<br/>\n",
    "\n",
    "Using our experience set $E$, humans are capable of extremely sophisticated learning. Humans are capable of accurately,\n",
    "\n",
    "<br/>\n",
    "\n",
    "* Clustering. When given a few examples of different types of animal, we are able to group them together in different ways. \n",
    "* Classifying. We are able to classify unseen animals as for example, a mammal or a bird. \n",
    "* Making predictions based on our past experiences, for example, it’s unlikely to rain when it’s sunny out. \n",
    "\n",
    "<br/>\n",
    "\n",
    "Such sophisticated learning is only possible due to the feedback we receive during our lives. If this feedback is inaccurate, or poor quality, so too will be our decision making. This seems obvious to say, but a good education, which in principle involves receiving high quality feedback, generally makes individuals better decision makers.\n",
    "\n",
    "<br/>\n",
    "\n",
    "<img src=\"https://github.com/scienceguyrob/AI4AstroMasterclass/raw/master/media/images/ml/6_Types_of_learning.png\" width=\"800\">\n",
    "\n",
    "<br/>\n",
    "\n",
    "There are many different types of learning that enable us humans to perform sophisticated learning tasks, summarised in the image above. The following sections explain things further.\n",
    "\n",
    "<br/>\n",
    "\n",
    "**Supervised Learning** \n",
    "Learning from a teacher is known as “supervised” learning. It is \"supervised\", because the teacher supervises the student, providing them with valuable feedback. In this example, we’re given some labelled examples of birds and mammals in the experience set $E$. Then we’re asked to correctly assign a set of unknown animals to their correct class group – either mammals or birds. This is a supervised learning task. Supervised learning is only possible when we have labelled datasets.\n",
    "\n",
    "<br/>\n",
    "\n",
    "**Semi-supervised Learning** \n",
    "It is possible to acquire knowledge from a mix of independent learning and teacher led learning. This is called “semi-supervised” learning. In this example, we’re given some labelled examples of mammals in the experience set $E$. Then we’re asked to correctly assign a set of unknown animals to their correct class group – either mammals or birds. In this instance we don’t know what birds are, but that’s ok. We can use what we know about mammals to separate the animals into two groups accurately. Semi-supervised learning is possible when we have partially-labelled datasets.\n",
    "\n",
    "<br/>\n",
    "\n",
    "**Unsupervised Learning** \n",
    "Here learning is done via trial and error, without feedback from any oracle or teacher. In this example, we’re given animals in the experience set $E$, but there are no labels. Therefore, we don’t know what a mammal is, or what a bird is. Nonetheless, we’re again asked to correctly assign a set of unknown animals to their correct class group – either mammals or birds. To solve this problem, we can use the inherent structure of the data, to self-separate it into groups. For instance, most mammals are larger than birds.  Thus, mammals generally have higher mass. This means we can separate on a feature like mass in this instance. However, that feature may not work, if all the unknown mammals are field mice, and all the unknown birds are Ostriches or Emus. Unsupervised learning is possible when we have unlabeled datasets.\n",
    "\n",
    "<br/>\n",
    "\n",
    "[Back to table of contents.](#Contents)\n",
    "\n",
    "---\n"
   ]
  },
  {
   "cell_type": "markdown",
   "metadata": {},
   "source": [
    "\n",
    "### <a id=\"classification\"></a>3.5 Classification\n",
    "\n",
    "<br/>\n",
    "\n",
    "<img src=\"https://github.com/scienceguyrob/AI4AstroMasterclass/raw/master/media/images/ml/7_Classification.png\" width=\"500\">\n",
    "\n",
    "<br/>\n",
    "\n",
    "Classification is a task that we humans complete with ease everyday. These tasks involve correctly grouping/categorising objects based on prior experience. There are “binary” classification tasks wherein there are two potential classification options. In the example shown in the image above, the options are mammal or bird. Such classification tasks are everywhere. Classification problems in the real-world are usually far more complex than those presented here. For example, there may be more than 2 potential classes to predict - these are known as multi-class problems. Let’s try one.\n",
    "\n",
    "<br/>\n",
    "\n",
    "There are five animal families summarised in the picture below, using the image of their most famous member. There is the [Feline](https://en.wikipedia.org/wiki/Felidae) family, in the top left image, [Lutrinae](https://en.wikipedia.org/wiki/Otter) family in the middle left image (this family includes animals like the Weasel, Otter, and badger relative). The [Canine](https://en.wikipedia.org/wiki/Caninae) family is in the bottom left image, the [Mongoose](https://en.wikipedia.org/wiki/Mongoose) family in the top right image, and finally the [Viverridae](https://en.wikipedia.org/wiki/Viverridae) family (which includes Civets) in the bottom right image. The question is this:\n",
    "\n",
    "<br/>\n",
    "\n",
    "<img src=\"https://github.com/scienceguyrob/AI4AstroMasterclass/raw/master/media/images/ml/8_Test_of_Experience.png\" width=\"780\">\n",
    "\n",
    "<br/>\n",
    "\n",
    "*Can you tell me which family of creatures the animal in the middle of the picture, is most closely related to? This will only work if you haven’t seen it before. Is it a,*\n",
    "\n",
    "<br/>\n",
    "\n",
    "* Canine?\n",
    "* Feline?\n",
    "* Lutrinae (pronounced “Loo-tree-nigh”)?\n",
    "* Viverridae (pronounced “Viv-ver-i-die-)?\n",
    "* Mongoose?\n",
    "\n",
    "<br/>\n",
    "\n",
    "I imagine your currently searching your past experience and looking for features in the image that will tell you what type of animal it is! \n",
    "\n",
    "<br/>\n",
    "\n",
    "Well, this animal is a [Fossa](https://en.wikipedia.org/wiki/Fossa_(animal)). It is a rare animal endemic to Madagascar. It’s most closely related to the Mongoose family, though appears very similar to Felines in most respects. If you answered correctly, then your past experience was sufficient for this task. If not, then your experience was lacking - but now you’ve learned via trial and error, so you’re unlikely to make this mistake again.\n",
    "\n",
    "<br/>\n",
    "\n",
    "Even if you have extensive knowledge of the animal kingdom, you may not have known the animal was a Fossa. Perhaps this animal was not described in your personal experience dataset. Even if you did not know it was a Fossa, you could still tell it was a type of mammal. This application of your knowledge, from past experience, illustrates your ability to generalize beyond known facts. Humans are gifted generalizers - but they are susceptible to two problems:\n",
    "\n",
    "<br/>\n",
    "\n",
    "* **Overfitting:** Overfitting occurs when we learn so well that our knowledge becomes too specialised. Imagine there’s a student trying to prepare for an exam. They buy a revision book and learn every factoid it contains. The student fails to realise that the book doesn’t contain all the knowledge that could be tested in the exam. They take the exam, and the worst happens – nothing from the revision book is in the exam. In this case, failure happens because the student over trained, that is “overfitted”, to the revision book.\n",
    "\n",
    "<br/>\n",
    "\n",
    "* **Underfitting:** Underfitting occurs when our knowledge becomes too flimsy. The student who failed before now tries to re-sit the exam. This time, they buy 100 revision books to learn from to avoid their last mistake. Except they can’t process that much information. They diligently dip into each book lightly, not covering any topic to any great depth. The student takes the resit and the worst happens again – their knowledge is too shallow, and they fail the exam. In this case, failure happens because the student under trained, that is “underfitted”, to the revision books.\n",
    "\n",
    "<br/>\n",
    "\n",
    "Before we proceed any further, we recap the notation you’ve learned so far. \n",
    "\n",
    "| Notation | Explanation |\n",
    "|----------|-------------|\n",
    "|$x_i$     | represents an example (row) in a dataset (replace $i$ with row number).|\n",
    "|$x_i$     | an array containing many values (columns).|\n",
    "|$y_i$     | a ground truth label associated with $x_i$.|\n",
    "| $E$      | set of experience|\n",
    "| ($x$,$y$)| a tuple containing $x$ and $y$.|\n",
    "\n",
    "\n",
    "\n",
    "**Bonus Notes:**\n",
    "\n",
    "* What is memory? This is an active area of study, as it’s difficult to quantify. There is an interesting resource available online that explores the nature of memory. You might like to study [this content]( https://www.fil.ion.ucl.ac.uk/memo/memory.html). \n",
    "* You may wonder, what is the storage capacity of the human brain? This is very difficult to estimate, though some have tried. Work done in 2016 indicated that each synapse in the human brain has a storage capacity of roughly 4.7 bits of information. If one bit is represented by a single 0 or 1, then each synapse can store roughly this much information: 00000. Consider that there are 1,000 trillion synapses in the average human brain. So that’s 4.7 bits of information, multiplied by 1,000 trillion. In other words, that’s 4.7 × 10^15 bits. That works out as approximately 0.587 PB (petabytes). That’s enough space to store 2,348,000 (two million, three hundred and forty-eight thousand) hour long Netflix shows. Link to the paper that presented this result available [here](https://elifesciences.org/articles/10778) and also summarised [here](https://www.scientificamerican.com/article/new-estimate-boosts-the-human-brain-s-memory-capacity-10-fold/).\n",
    "* A resource describing [labelled data](https://en.wikipedia.org/wiki/Labeled_data).\n",
    "* Sets are described in more detail [online](https://en.wikipedia.org/wiki/Set_(mathematics)).\n",
    "* Tuples are described in more detail [online](https://en.wikipedia.org/wiki/Tuple).\n",
    "\n",
    "\n",
    "<br/>\n",
    "\n",
    "[Back to table of contents.](#Contents)\n",
    "\n",
    "---"
   ]
  },
  {
   "cell_type": "markdown",
   "metadata": {},
   "source": [
    "### <a id=\"mlkeyconcepts\"></a>3.6 Automated Learning\n",
    "The following sections introduce what we mean by optimal automated learning.\n",
    "\n",
    "<br/>\n",
    "\n",
    "Many have tried to understand how to make optimal decisions. We know we should use available evidence at all times.\n",
    "Humans are not always so thorough - we do make bad decisions.  We are **biased** decision makers - we often use instinct and personal experience to decide. We can visualise our knowledge and experience, which helps us understand decision making more clearly. \n",
    "\n",
    "<br/>\n",
    "\n",
    "<img src=\"https://github.com/scienceguyrob/AI4AstroMasterclass/raw/master/media/images/ml/9_Personal_Experience.png\" width=\"800\">\n",
    "\n",
    "<br/>\n",
    "\n",
    "Suppose the blue box labelled 1, represents the set of all knowledge of some subject. This idealised set that contains every piece on information available which may be stored in books, web resources or in the minds of other people. The circle labelled 2, represents the portion of that knowledge that is available to us. It is an incomplete portion; thus, it is a subset of the knowledge available. It is incomplete for many reasons. For instance, our local library doesn’t contain every book ever written on a subject. Nor do we have access to the knowledge of scientists working at the forefront of research. We already have a gap in our knowledge at this step.\n",
    "\n",
    "<br/>\n",
    "\n",
    "Then there is the personal knowledge and experience of the subject that we already possess. This is represented by the circle labelled 3. This is a subset of the knowledge available to us. This will vary from person to person. For example, if the subject is planet formation, those with a Ph.D. in Astronomy will have greater knowledge than those without such a background. Finally, there is the knowledge we ultimately use to make a decision. This is represented by the circle labelled 4. This is a subset of the knowledge we possess. For example, when trying to classify unknown animals as either birds or mammals, we don’t need to use our knowledge of insects.\n",
    "\n",
    "<br/>\n",
    "\n",
    "Here we’ve talked about knowledge, but not the mechanism via which it is used to make decisions. In humans that cognitive function is sophisticated. Emotions and personal [bias](https://en.wikipedia.org/wiki/List_of_cognitive_biases) influence our interpretation of available information, which in turn impacts our decision making. Let’s consider 1 more example. Over thousands of years the human race has conducted countless scientific experiments showing the Earth is round. We’ve collated mounds of information related to our planet, it’s properties, and its place in the solar system.  Yet there are [groups of people](https://en.wikipedia.org/wiki/Modern_flat_Earth_societies) who reject this information due to their personal biases and how they interpret the world around them. They erroneously believe the world is flat. More knowledge will not necessarily change their view – rather their biases and thinking process must change.\n",
    "\n",
    "<br/>\n",
    "\n",
    "How does this view of human knowledge and decision making relate to automated machine learning? Well, machine learning algorithms actually make decisions similarly to humans. This means they are subject to the same problems of bias, and flawed decision making. However, the means by which this happens is quite different. This is because Machine Learning is concerned with making optimal decisions primarily using the tools of statistics.\n",
    "\n",
    "<br/>\n",
    "\n",
    "Artificial systems receive features taken from sensors (e.g. cameras, microphones etc.) or data from some other computational/record system that keeps track of information. Much like in humans, where experiences are associated with outcomes, the input features are associated with some outcome or label. This is represented by the set $E$. To make decisions and predictions using this information, machine learning uses statistics. This type of mathematical decision making uses only the evidence available.  You may think that this makes automated learning immune to bias. This is unfortunately not the case. Machine learning can be just as fallible for two main reasons.\n",
    "\n",
    "<br/>\n",
    "\n",
    "<img src=\"https://github.com/scienceguyrob/AI4AstroMasterclass/raw/master/media/images/ml/10_Biased_Brain.png\" width=\"800\">\n",
    "\n",
    "<br/>\n",
    "\n",
    "1. The first reason automated decision making can be flawed - biased input data. For example, suppose you want to teach an algorithm to recognize a specific disease in a group of patients. You provide the algorithm with data, which just so happens to describe patients aged between 60 to 80. You then run the algorithm on patients aged 18 to 30. The algorithm performs badly, as its knowledge is biased toward recognizing disease in much older patients.\n",
    "\n",
    "2. The second reason is biases in the cognitive process. For instance, suppose we try to teach an algorithm to predict when a train on the Tokyo rail network will be late. Trains on this network are exceptionally punctual. To achieve the best overall performance, just never predict that a train will be late.\n",
    "\n",
    "<br/>\n",
    "\n",
    "We’ve reviewed some of the issues faced when trying to learn using machine learning. Algorithms can be just as fallible as humans and are only as good as we make them. Thus, in reality, poor automated decision making reflects our own deficiencies more than anything. Let’s bring this together in the image below.\n",
    "\n",
    "<img src=\"https://github.com/scienceguyrob/AI4AstroMasterclass/raw/master/media/images/ml/11_Algorithm_Experience.png\" width=\"800\">\n",
    "\n",
    "Here the blue box labelled 1, represents the set of all knowledge of some subject available. This is an idealised set that contains every piece on information available which may be stored in books, web resources or in the minds of other people.\n",
    "The circle labelled 2, represents the portion of that knowledge that is available to an algorithm. It is an incomplete portion; thus, it is a subset of the knowledge available. It is incomplete for many reasons. For instance, available data hasn’t been digitised, or features are yet to be designed and extracted. We already have a gap in our knowledge at this step.\n",
    "This circle labelled 3 represents the data that has been digitised and turned into features. Then there is the knowledge and experience captured by the features, represented by circle 4. Features are not perfect; knowledge is lost here.\n",
    "Finally, there is the knowledge and experience captured by the algorithm from the feature data. This is represented by the circle labelled 5.\n",
    "\n",
    "<br/>\n",
    "\n",
    "In machine learning the experience used by an algorithm to learn is known as \"training data\". An algorithm is ‘taught’ using training data. It uses the examples and labels in the training data, to solve problems using the tools of maths and statistics. Training data can be labelled or unlabelled. To check that our algorithms have successfully learned what we wished them to from the training data, we must test them. \n",
    "\n",
    "<br/>\n",
    "\n",
    "To do this we evaluate them on a new set of data. We call this \"test data”. Test data must be labelled (that is, the ground truth must be known). Test data must also be distinct from training data. This is crucially important. Doing this helps ensure that our algorithms don’t overfit to the training data – much like the student we talked about earlier that failed their exam. There is an easy way to understand the difference between training and test data, shown in the image below.\n",
    "\n",
    "<br/>\n",
    "\n",
    "<img src=\"https://github.com/scienceguyrob/AI4AstroMasterclass/raw/master/media/images/ml/12_Training_vs_Test.png\" width=\"250\">\n",
    "\n",
    "<br/>\n",
    "\n",
    "Here the blue box represents the set of all knowledge of some subject available. This idealised set that contains every piece on information available which may be stored in books, web resources or in the minds of other people. Training data represents the knowledge given before an exam. Test data is a disjoint set of information, that represents the exam – we use this to test performance.\n",
    "\n",
    "<br/>\n",
    "\n",
    "<img src=\"https://github.com/scienceguyrob/AI4AstroMasterclass/raw/master/media/images/ml/13_Training_data_contents.png\" width=\"800\">\n",
    "\n",
    "<br/>\n",
    "\n",
    "Whilst humans can automatically extract sophisticated features to make decisions, our artificial analogues are much less capable. Generally, we must extract features for them. Whilst a human can look at an animal and automatically assess its mass (approximately), we must give the artificial system the mass value directly. But how is this information used? In humans, you can scan your experience and consider examples of animals with similar masses, to an unknown animal currently in front of you.  Artificial systems instead compare the mass value against a numerical distribution (stored in $E$) describing the mass values for all the animals previously observed. It can then connect the distributional information to the labelled feedback at its disposal - i.e. choose a label appropriate for an animal of this mass.\n",
    "\n",
    "<br/>\n",
    "\n",
    "There are some methods that can extract features for themselves. However, this is an advanced topic that I won't cover here. Feature design and extraction is an important and necessary step that must be taken, before we create our training sets. You may wonder how to design features, or if there’s some accepted process for doing so?\n",
    "\n",
    "<br/>\n",
    "\n",
    "In principle feature design involves studying data. This requires thinking about its properties. What is the “information content” of the features? For example, when classifying mammals and birds, using a feature such as “number of eyes” may not be useful – all have 2. Such a feature has low information content. We desire features with high information content that help with class separation. A feature such as mass will have higher information content when trying to separate birds and mammals then “number of eyes”. Though the feature “has feathers”, is of much high information content – it can be used to perfectly separate the two groups. In practice feature design involves,\n",
    "\n",
    "<br/>\n",
    "\n",
    "* Considering as many candidate features as possible. Collect all the features you could use.\n",
    "* Considering their usefulness in turn.\n",
    "* Selecting a sub-set of the best features that you think will be most effective.\n",
    "* Testing those selected, and checking what happens when we use them to train and test a classifier.\n",
    "* The features chosen may turn out to be poor. So, we may need to return to step 1.\n",
    "* Collect new data? Maybe the data you have is simply not good enough.\n",
    "* Deriving new features? Perhaps the features you have a poor, but can they be combined in some way that makes them useful? Can you think of a feature that would be useful for separating Felines and Canines? What about a feature that equals mass divided by height – would that be useful? Not all Felines are small, and not all Canines are large. So, this is unlikely to be as effective as we’d like. What about a body length divided by tail length? Do Felines have longer tails relative to their bodies then Canines? Have a think about these questions in your own time.\n",
    "\n",
    "<br/>\n",
    "\n",
    "<img src=\"https://github.com/scienceguyrob/AI4AstroMasterclass/raw/master/media/images/ml/14_Classification_Process.png\" width=\"800\">\n",
    "\n",
    "<br/>\n",
    "\n",
    "We’ve covered a lot of material so far. We’re now ready to review the whole classification process. First, we’re given a data set relating to some problem we wish to solve. We design and extract features from this dataset. This allows us to form a training set that we can use to teach a machine learning algorithm. We can also form a test set that we use to evaluate what the algorithm has learned. When satisfied that the algorithm has learned effectively, we can move on. We’re then given a new data set of unseen examples, that are not accompanied by labels. Here the ground truth is not known. We extract features from this dataset. These are the same features we extracted when forming the training set. We collect this new input data, and pass it to our machine learning algorithm. We ask it to make some predictions on this input dataset. The algorithm outputs the input data but with true class labels – these are the predictions.\n",
    "\n",
    "<br/>\n",
    "\n",
    "So far, we’ve learned all about the process of learning, but not how it’s actually done. In machine learning this is achieved via trial and error on the training set – learning from the mistakes made. This is best understood via an example. \n",
    "\n",
    "<br/>\n",
    "\n",
    "**Catching the Bus**\n",
    "\n",
    "<br/>\n",
    "\n",
    "We need to be at work, but don’t know what time the bus arrives to get us there. Work starts at 09:00, and the journey takes roughly 40 minutes. We start to wait at the bus stop each day, recording some details. \n",
    "\n",
    "<br/>\n",
    "\n",
    "| Day | Arrived at bus stop | Bus arrived | Late |\n",
    "|-----|---------------------|-------------|------|\n",
    "| Mon | 08:32               | 08:45       | Yes  |\n",
    "| Tue | 08:17               | 08:30       | Yes  |\n",
    "| Wed | 08:12               | 08:15       | No   |\n",
    "\n",
    "<br/>\n",
    "\n",
    "Here we see some data recorded over three days. It shows what time we arrived at the bus stop, what time the bus arrived at the bus stop, and whether or not we were late for work. This represents training data. Each row represents a trial, and the label lets us know if we made it to the bus stop early enough. In this case learning involves finding an arrival time at the bus stop, that gets us to work on time. Each time we’re late, we’ve made an error that we learn from.\n",
    "\n",
    "<br/>\n",
    "\n",
    "In ML error is quantified and minimised using the tools of mathematics. We can reduce finding the best time to wait at the bus stop, to a mathematical problem, i.e. find a value for $t$ that minimizes the number of times we’re late. Many potential values for $t$ work, but clearly it must be 08:15 or earlier! This sort of error minimisation is done using what we call “functions”. Before proceeding, I advise that you watch [this tutorial video](https://www.youtube.com/watch?v=52tpYl2tTqk) (11 minutes long) which will help explain functions.\n",
    "\n",
    "<br/>\n",
    "\n",
    "<img src=\"https://github.com/scienceguyrob/AI4AstroMasterclass/raw/master/media/images/ml/15_Functions.png\" width=\"800\">\n",
    "\n",
    "\n",
    "Functions can be thought of as simple input/output boxes. Machine learning algorithms are functions, or combinations of many functions, that ingest data, and produce some output. How they do this is hard to convey without some basic mathematics! For instance, in the image above there is a function $f(x,y)=x+y$ that accepts two inputs, $x$ and $y$. It returns an output value that is simply equal to $x$ plus $y$. If we have $x=2$ and $y=4$ this function, simply returns an output value of $6$ as $f(x=2,y=4)=2+4=6$.\n",
    "\n",
    "We can even define this in python as shown below.\n"
   ]
  },
  {
   "cell_type": "code",
   "execution_count": 126,
   "metadata": {},
   "outputs": [
    {
     "name": "stdout",
     "output_type": "stream",
     "text": [
      "Output of our function f for f(5,5) =  10\n"
     ]
    }
   ],
   "source": [
    "def f(x,y):\n",
    "    \"\"\"\n",
    "    A simple function that adds together \n",
    "    2 numerical variables. Returns their sum.\n",
    "    \"\"\"\n",
    "    return x+y\n",
    "\n",
    "print(\"Output of our function f for f(5,5) = \",f(5,5))"
   ]
  },
  {
   "cell_type": "markdown",
   "metadata": {},
   "source": [
    "<br/>\n",
    "\n",
    "**Medical Example**\n",
    "\n",
    "<br/>\n",
    "\n",
    "Suppose we have some input data that contains features describing patients that recently had a blood test. We desire a function that can accurately assign labels to patients indicating whether or not they’re diabetic. What we need is a mapping function. This is a function that maps input values in X, to the correct labels in Y. A simple function would be something that splits the data on a single feature. For example, if the value of feature 1 is less than or equal to 0, then predict 0, which is the non-diabetic label, otherwise predict 1. Here learning involves finding a feature, and a split value over that feature, that achieves the fewest errors possible.\n",
    "\n",
    "<br/>\n",
    "\n",
    "<img src=\"https://github.com/scienceguyrob/AI4AstroMasterclass/raw/master/media/images/ml/16_More_Functions.png\" width=\"800\">\n",
    "\n",
    "<br/>\n",
    "\n",
    "| ID  | Gender | Age | Weight (Kg) | Height (cm) | 2 hour glucose | Fasting glucose | Diabetes |\n",
    "|-----|--------|-----|-------------|-------------|----------------|-----------------|----------|\n",
    "|$x_1$| Male   | 18  | 52          | 162         | 8.2            | 7.7             | 1        |\n",
    "|$x_2$| Male   | 23  | 75          | 186         | 7.2            | 5.1             | 0        |\n",
    "|$x_3$| Female | 29  | 47          | 160         | 15.2           | 13.5            | 1        |\n",
    "|$x_4$| Male   | 34  | 80          | 179         | 13.1           | 12.8            | 1        |\n",
    "|$x_5$| Female | 36  | 60          | 175         | 7.4            | 7.5             | 0        |\n",
    "|$x_6$| Male   | 38  | 80          | 189         | 7.8            | 7.4             | 0        |\n",
    "|$x_7$| Male   | 41  | 94          | 182         | 6.2            | 5.7             | 0        |\n",
    "|$x_8$| Female | 45  | 52          | 173         | 12.5           | 9.7             | 1        |\n",
    "|$x_9$| Female | 55  | 69          | 153         | 9.2            | 9.1             | 1        |\n",
    "|$x_10$| Male  | 62  | 75          | 167         | 5.6            | 6.6             | 0        |\n",
    "|$x_11$| Female| 70  | 50          | 157         | 6.2            | 7.0             | 0        |\n",
    "|$x_12$| Female| 80  | 45          | 156         | 10.2           | 7.9             | 1        |\n",
    "\n",
    "\n",
    "<br/>\n",
    "\n",
    "The table above shows some example data for patients subjected to the test for diabetes. This test is called an oral glucose tolerance test.  During this test, the patients have a morning blood test prior to eating. Ideally the patient will not have had any food or drink for 8 to 10 hours.  The patient is then given a glucose drink.  Two hours after ingesting the glucose drink, another blood sample is taken. Medical professionals then interpret the results and treat the patients accordingly.\n",
    "\n",
    "<br/>\n",
    "\n",
    "There are 7 features in total in the table. These include gender, age, weight (Kg), height (cm), a measurement of their glucose level in the morning, and their 2-hour fasting glucose measurement. There are two class labels that can be assigned – non-diabetic represented by 0, and diabetic represented by 1. It’s hard to look at this data and determine what characteristics make someone diabetic. There’s a lot of information to look through. Suppose we decide to test how useful 2 arbitrarily chosen features are for this classification task.\n",
    "\n",
    "<br/>\n",
    "\n",
    "<img src=\"https://github.com/scienceguyrob/AI4AstroMasterclass/raw/master/media/images/ml/17_Diabetes_data_intro.png\" width=\"800\">\n",
    "\n",
    "<br/>\n",
    "\n",
    "Age and height are chosen, and we plot those feature values in a 2-d plot which is now shown above. We can see the diabetic patients represented by red dots, and the non-diabetic by the blue. Can we use a simple function to split these patients accurately into diabetic and non-diabetic classes? We could use a function that splits on the Height feature – that involves choosing a split value over height and assigning labels based on that. We can do the same for age.\n",
    "\n",
    "<br/>\n",
    "\n",
    "\n",
    "Let’s try Age first. We know that age is unlikely to be a good feature, as people of all ages are susceptible to diabetes. However, we’ll try age. Mainly as we known that as people age, they can be more susceptible to developing the illness.  What value for age gives us a split that produces the best classification accuracy in this example? We could choose any age, but the optimal choice here, is to split when $age=34$. We assign patients on the left-hand side of the line the diabetic label, and those on the right-hand side the non-diabetic label. Using this separating line defined by $age=34$ results in $5$ mistakes. One non-diabetic person is incorrectly classified as diabetic, and four diabetic people are incorrectly labelled as non-diabetic. This split point produces a line that separates the data. We call this line a decision boundary, which is shown below.\n",
    "\n",
    "<br/>\n",
    "\n",
    "<img src=\"https://github.com/scienceguyrob/AI4AstroMasterclass/raw/master/media/images/ml/18_Diabetes_data_boundary.png\" width=\"800\">\n",
    "\n",
    "<br/>\n",
    "\n",
    "We can visualise the method used to split this data using the age feature. This is shown in the image below. We can see how we assign the diabetic label if age is less than or equal to $34$, otherwise we predict non-diabetic. This example may seem entirely contrived. However, we’ve actually just encountered our very first machine learning algorithm. It’s called a “[Decision Stump](https://en.wikipedia.org/wiki/Decision_stump)”.\n",
    "\n",
    "<br/>\n",
    "\n",
    "<img src=\"https://github.com/scienceguyrob/AI4AstroMasterclass/raw/master/media/images/ml/19_Decision_Stump.png\" width=\"400\">\n",
    "\n",
    "<br/>\n",
    "\n",
    "A Decision Stump is a [linear separator](https://en.wikipedia.org/wiki/Linear_separability), which can also be described as a linear model.\n",
    "It simply looks for the best feature to split upon based on the information in the training set. It uses the labels in the training set to guide the feature search and to find the best split value. The Decision Stump produces a single linear separator. This means it is only useful for problems where there are two classes, which may be separable using a single linear decision boundary.\n",
    "\n",
    "<br/>\n",
    "\n",
    "The learning process for the decision stump is simple. For each feature in the data, the stump will search for a threshold across all features, that minimises the error rate. The stump makes fewer and fewer errors, as it moves toward the optimal split value. In our example we used age as a feature, and our split-value $age= 34$. There are better ways to split this data accurately. However, the Decision Stump is too simple to find those solutions. Only more complex methods that produce non-linear decision boundaries, can solve this problem.\n",
    "\n",
    "\n",
    "<br/>\n",
    "\n",
    "You’ve now seen a linear model in action and learned what a decision boundary is. Real-world problems are complex - so too are the decision boundaries needed to accurately separate data. This means linear models don’t always work well. More complex ML algorithms are required. This is illustrated in the image below, which visualises the same patient data as before using different features. \n",
    "\n",
    "<br/>\n",
    "\n",
    "<img src=\"https://github.com/scienceguyrob/AI4AstroMasterclass/raw/master/media/images/ml/20_DecisionBoundaries.png\" width=\"800\">\n",
    "\n",
    "<br/>\n",
    "\n",
    "In the central plot, we can see a decision boundary represented by the black line. It effectively classifies the data. The data points that fall within the shaded region are classified as diabetic, all other data points are labelled non-diabetic. This boundary achieves optimal accuracy on the training data. It exhibits good generalisation capabilities. When we generalise well, we can produce effective decision boundaries such as this. However sometimes we don’t perform well in practice.\n",
    "\n",
    "<br/>\n",
    "\n",
    "We can underfit to our data. In the left most plot, we can see a decision boundary represented by the dashed blue line. Examples falling into the blue shaded area are classified as diabetic, and all other data points as non-diabetic. This boundary makes many mistakes. We can also overfit to our data. In the right most plot, we can see a decision boundary represented by the dashed red line. Examples falling into the red shaded area are classified as diabetic, and all other data points as non-diabetic. This boundary achieves perfect accuracy, but this will not transfer well to new data. Decision boundaries allow us to see over/under fitting happening, so we can guard against it. Ideally, we need boundaries that generalise well to new data.\n",
    "\n",
    "\n",
    "<br/>\n",
    "\n",
    "\n",
    "What we’ve talked about so far - this isn’t really learning right? We can’t say that decision stumps really learn at all. Instead we’ve reduced learning to a search for parameters, that minimise some error rate. Learning has been effectively reduced to a parameter search! When this works well it provides the illusion of intelligence – but this isn’t how you or I learn. Let’s carry on and consider some other classification algorithms.\n",
    "\n",
    "<br/>\n",
    "\n",
    "Classification algorithms come in all shapes and sizes. Despite their differences, inside they are comprised of functions that attempt to perform the mapping from examples to labels. They mostly differ in how that mapping is actually done. What they have in common:\n",
    "\n",
    "<br/>\n",
    "\n",
    "* All are evaluated against some feedback metric, which guides their learning - call this the error rate.\n",
    "* They must choose (find) parameter values that minimise this error rate.\n",
    "\n",
    "<br/>\n",
    "\n",
    "There are two main types of machine learning classifier.  Discriminative approaches, and Generative approaches.\n",
    "\n",
    "<br/>\n",
    "\n",
    "[Discriminative Approaches](https://en.wikipedia.org/wiki/Discriminative_model)\n",
    "\n",
    "* Learn the differences between the examples in a training set.\n",
    "* Use those differences to classify and make predictions.\n",
    "* We often think similarly, like in the Fossa example.\n",
    "\n",
    "<br/>\n",
    "\n",
    "[Generative Approaches](https://en.wikipedia.org/wiki/Generative_model)\n",
    "\n",
    "* Learn a “model” of the classes in the training set.\n",
    "* This model can be then compared against.\n",
    "* We don’t usually think this way, e.g. given all the cats we’ve seen, what is the probability that this animal is a cat?\n",
    "\n",
    "<br/>\n",
    "\n",
    "Here is a story that helps explain the difference between Discriminative and Generative learning. I didn’t write this (but I've modified it), so thank you to the [original author, Prathap Manohar Joshi](https://medium.com/@mlengineer/generative-and-discriminative-models-af5637a66a3).\n",
    "\n",
    "<br/>\n",
    "\n",
    "*A father has two children, child $A$ and child $B$. child $A$ has a special character - they can learn everything in depth. child $B$ also has a special character, but they only learn the differences between what they saw.*\n",
    "\n",
    "<br/>\n",
    "\n",
    "*One fine day, the father takes his children to a zoo. This zoo is a very small and only has two kinds of animals, Lions and Elephants. After they leave the zoo, the father shows them a picture of an animal he purchased from the zoo gift shop. He asks them both “Is the animal in this picture a Lion or an Elephant?”*\n",
    "\n",
    "<br/>\n",
    "\n",
    "*Child $A$ suddenly draws an image of a Lion and an Elephant on a piece of paper, based on what they saw inside the zoo. They compare their drawings to the animal in the picture provided by their father. Child $A$ determines which is the closest match and answers: “The animal is a Lion”.*\n",
    "\n",
    "<br/>\n",
    "\n",
    "*Child $B$ knows only differences between Lions and Elephants. Based on the different properties he's learned of those animals; he determines that the animal in the picture does not have a trunk. The child answers: “The animal is a Lion”.*\n",
    "\n",
    "<br/>\n",
    "\n",
    "*The children both correctly identify the animal, but their way of learning and of finding an answer is entirely different. In Machine Learning, we would call child $A$ a Generative Model & child $B$ a Discriminative Model.*\n",
    "\n",
    "<br/>\n",
    "\n",
    "[Back to table of contents.](#Contents)\n",
    "\n",
    "---\n"
   ]
  },
  {
   "cell_type": "markdown",
   "metadata": {},
   "source": [
    "#### <a id=\"generative\"></a>3.6.1 Generative Learning\n",
    "\n",
    "<br/>\n",
    "\n",
    "Let’s consider an example of Generative decision making. We’re given some information regarding a disease, and then we’re asked to build a classifier that can predict if someone is afflicted or not. The prevalence of the disease in the group of patients described by the [prior probability](https://en.wikipedia.org/wiki/Prior_probability). The prior probability can be read as meaning the probability the disease occurring, without knowing any additional information. \n",
    "It is expressed as,\n",
    "\n",
    "<br/>\n",
    "\n",
    "$P(disease)=0.1$\n",
    "\n",
    "<br/>\n",
    "\n",
    "This prior is equal to $0.1$ which corresponds to 10%. Suppose there is some symptom associated with the disease. The symptom is “red spotty rash”. The likelihood of having this symptom, irrespective of whether or not you have the disease, is $0.1$ or 10%.\n",
    "\n",
    "<br/>\n",
    "\n",
    "$P(symptom)=0.1$\n",
    "\n",
    "<br/>\n",
    "\n",
    "The likelihood of having this symptom, if afflicted with the disease, is given by the [conditional probability](https://en.wikipedia.org/wiki/Conditional_probability). This can be read as, the probability of having the symptom, if afflicted by the disease. Here we see that 80% of the time, patients with the disease exhibit the symptom: \n",
    "\n",
    "<br/>\n",
    "\n",
    "$P(symptom|disease)=0.8$\n",
    "\n",
    "<br/>\n",
    "\n",
    "So far, we have some basic information. But our classifier needs to determine if a patient has the disease, given some set of symptoms. How to do this? It will vary for each patient, as they may have different symptoms. Thankfully there is a famous formula known as [Bayes’ Theorem](https://en.wikipedia.org/wiki/Bayes%27_theorem), that allows us to calculate this. For now, we’ll just use the theorem, but you should read about it in your own time to understand it further:\n",
    "\n",
    "<br/>\n",
    "\n",
    "$P(hypothesis|data)=\\frac{(P(data│hypothesis) \\times P(hypothesis)}{P(data)}$\n",
    "\n",
    "<br/>\n",
    "\n",
    "We can plug in our probabilities and begin computing the answer:\n",
    "\n",
    "<br/>\n",
    "\n",
    "$P(disease|symptoms)=\\frac{0.8 \\times 0.1}{0.1} = 0.80 = $80%\n",
    "\n",
    "<br/>\n",
    "\n",
    "We can see that if you have a red spotty rash, there is an 80% chance that you have the disease in question. If the prior is updated, we get a very different estimate for the likelihood of the disease. We’re given a new prior for a specific age group cover 40 to 60 year olds. The probability of the disease in this group is low, at 0.1%:\n",
    "\n",
    "<br/>\n",
    "\n",
    "$P(disease) = 0.001 = 0.1%$\n",
    "\n",
    "<br/>\n",
    "\n",
    "We can recompute our prediction using Bayes’ theorem. We find that for this new age group, the likelihood of having this disease, even in the presence of a red spotty rash, is extremely low at just 0.8%.\n",
    "\n",
    "<br/>\n",
    "\n",
    "$P(disease|symptoms)=\\frac{0.8 \\times 0.001}{0.1}$ = 0.8%\n",
    "\n",
    "<br/>\n",
    "\n",
    "Perhaps this makes more sense if I tell you that the mystery disease is the common childhood ailment, [Chicken Pox](https://en.wikipedia.org/wiki/Chickenpox). Generative learning can be used very effectively, so long as the data provided is unbiased, complete and not misleading. It may not be obvious from this example, but such methods can be easily used to make predictions. All you have to do is couple the outputs of Bayes’ theorem, with an output threshold. For example, if the probability output by the theorem is greater than say, 70%, predict disease. Otherwise predict no disease. We’ve actually just learned our next ML algorithm - [Naïve Bayes](https://en.wikipedia.org/wiki/Naive_Bayes_classifier). It makes predictions using probability in exactly this way. It learns by trying to find an optimal threshold over the output probability that achieves the minimum error rate.\n",
    "\n",
    "<br/>\n",
    "\n",
    "[Back to table of contents.](#Contents)\n",
    "\n",
    "---"
   ]
  },
  {
   "cell_type": "markdown",
   "metadata": {},
   "source": [
    "#### <a id=\"discriminative\"></a>3.6.2 Discriminative Learning\n",
    "\n",
    "<br/>\n",
    "\n",
    "Suppose we have a dataset containing 2 classes:\n",
    "\n",
    "* Stars\n",
    "* Circles\n",
    "\n",
    "<br/>\n",
    "\n",
    "Our goal is the separate them as accurately as possible. One way to do this, is the expand on the idea of the decision stump. Suppose we combine multiple stumps. This would allow us to combine multiple linear boundaries. Watch the video below. It shows how multiple stumps can be combined to partition data using linear boundaries.\n",
    "\n",
    "<br/>"
   ]
  },
  {
   "cell_type": "code",
   "execution_count": 6,
   "metadata": {},
   "outputs": [
    {
     "data": {
      "text/html": [
       "<video src=\"https://github.com/scienceguyrob/AI4AstroMasterclass/raw/master/media/videos/DecisionTreeVideo.mov\" controls  width=\"800\" >\n",
       "      Your browser does not support the <code>video</code> element.\n",
       "    </video>"
      ],
      "text/plain": [
       "<IPython.core.display.Video object>"
      ]
     },
     "execution_count": 6,
     "metadata": {},
     "output_type": "execute_result"
    }
   ],
   "source": [
    "from IPython.display import Video\n",
    "\n",
    "# Setup the video resource.\n",
    "Video('https://github.com/scienceguyrob/AI4AstroMasterclass/raw/master/media/videos/DecisionTreeVideo.mov', width=800, embed=False)"
   ]
  },
  {
   "cell_type": "markdown",
   "metadata": {},
   "source": [
    "<br/>\n",
    "\n",
    "We can see the first boundary has partitioned the data into circles and stars using some feature. Then we can add another stump to the previous to create a second boundary. The second boundary lets us create two separate regions in the data. But our stump no longer looks like it did before – it’s acquiring more of a tree-like structure. We continue to add stumps, partitioning the data further. With the addition of the 4th stump, we achieved something interesting. We’ve now created two **pure** regions in the top left of the plot. These regions are pure because they contain only 1 type of class. This means in this area; the new stump is now perfectly separating circles and stars. It achieves 100% accuracy on both.\n",
    "\n",
    "<br/>\n",
    "\n",
    "We can keep adding more stumps. With each addition, we able to better separate the data. This way of learning, which involves recursively adding stumps together is known as [tree learning](https://en.wikipedia.org/wiki/Decision_tree_learning). The combined system is known as a [Decision Tree](https://en.wikipedia.org/wiki/Decision_tree). As you can see from the diagram, decisions trees are non-linear models. This is because they can produce non-linear separators. Decision trees successively discriminate labelled training data into classes via partitioning. Each partition forms an extra decision boundary. To build Decision Trees there are some key questions to answer. Which feature should each stump split upon? What split value should be used for each feature? How deep should the tree be allowed to go?\n",
    "\n",
    "<br/>\n",
    "\n",
    "At each spilt point, decision trees find the feature that maximises the separation between the classes in the data. This is done by considering the statistical distribution of the features. The aim is the find a distribution that exhibits “separability”. An example may help. Suppose we want to split all Felines into their respective sub-families. The best separator at first, is mass. It allows us to efficiently split house cats form Tigers, Lions, Jaguars etc. However, some species of large cat are of similar size. Trying to split Jaguars from Mountain Lions on mass won’t work, as their mass distributions greatly overlap. \n",
    "\n",
    "<br/>\n",
    "\n",
    "At this stage in the decision-making process, a feature such as length is more useful, because this has greater separability given what we already know – that these two types of animal are similar in terms of mass. Decision trees search for the best feature and best feature split-point, via a mathematical optimisation method. This searches for the parameters that yield the lowest error rate. If you want to learn more about decision trees (and build your own from scratch, [this tutorial](https://www.youtube.com/watch?v=LDRbO9a6XPU) is a great place to start.\n",
    "\n",
    "<br/>\n",
    "\n",
    "[Back to table of contents.](#Contents)\n",
    "\n",
    "---\n"
   ]
  },
  {
   "cell_type": "markdown",
   "metadata": {},
   "source": [
    "#### <a id=\"unsupervised\"></a>3.6.3 Unsupervised Learning\n",
    "\n",
    "<br/>\n",
    "\n",
    "To make a prediction for an unlabelled data point, we can used unsupervised learning algorithms. Many of these algorithms use similarity as the basis for assigning class labels. This works as follows: given a collection of unlabelled examples, assign them the label of those examples most similar to them, in the training set. Assigning labels in this way is known as a “[nearest neighbours](https://en.wikipedia.org/wiki/Nearest_neighbor_search)” approach. To apply such methods, what must quantify what we mean by similarity. In this case, we use the notion of closeness. Similar items are those that are close together. We can measure closeness using a distance measure, such as the Euclidean distance. The following function $d(p,q)$, allows us to compute the distance between two points:\n",
    "\n",
    "<br/>\n",
    "\n",
    "$d(p,q)= \\sqrt{(q_1- p_1)^2 + … +(q_n- p_n)^2 }$\n",
    "\n",
    "<br/>\n",
    "\n",
    "The Euclidean distance is easy to compute once you understand the background. In the image below we can see two points represented in a 2-d “Euclidean” plane. Each point can be represented by a set of coordinates. In particular, coordinates corresponding to their position on the $x$-axis, and position on the $y$-axis. The point p sits at position 1 on the $x$-axis and position 1 on the $y$-axis. These coordinates can be written as $(x,y)$ pairs that you’re already familiar with.\n",
    "\n",
    "<br/>\n",
    "\n",
    "<img src=\"https://github.com/scienceguyrob/AI4AstroMasterclass/raw/master/media/images/ml/21_Euclidean_Distance.png\" width=\"800\">\n",
    "\n",
    "<br/>\n",
    "\n",
    "There is a formula that enables you to compute the Euclidean distance between two points. We can just treat this as a black box, plug in some values, and compute distances as required. In this example we can easily compute the distance between $p$ and $q$.\n",
    "\n",
    "<br/>\n",
    "\n",
    "$= \\sqrt{(3-1)^2  +(3-1)^2 }$\n",
    "\n",
    "$= \\sqrt{(2)^2  + (2)^2}  = \\sqrt{4+4}=2.828$ to 3.d.p\n",
    "\n",
    "<br/>\n",
    "\n",
    "The distance is around 2.828 to three decimal places. Once we find the nearest neighbours of a data point via a method like above, we determine the most popular label amongst its labelled nearest neighbours. We assign the majority label of the neighbours to the unlabelled data point.\n",
    "We just need to determine how many of its nearest neighbours, $k$, we should use to decide.\n",
    "\n",
    "<br/>\n",
    "\n",
    "Below there is an image showing data for two classes, circles and stars. There is a new unknown data point in the centre that we must classify and this is represented by the question mark. We can proceed using the $k$-nn approach as follows. First choose a value for $k$. Let's start with $k=3$. We now assign the unknown point the majority label of its 3 nearest neighbours. Thus we predict star as the likely label for $k=3$.\n",
    "\n",
    "<br/>\n",
    "\n",
    "<img src=\"https://github.com/scienceguyrob/AI4AstroMasterclass/raw/master/media/images/ml/22_K-nn.png\" width=\"800\">\n",
    "\n",
    "<br/>\n",
    "\n",
    "If we increase the number of neighbours under consideration to 5, things change. Now the majority label of the 5 nearest neighbours is circle. Thus, we predict circle as the likely label for $k=5$. If we again increase the number of neighbours to 7, things change once more. Now the majority label of the 7 nearest neighbours is star again. Thus we predict star as the likely label for $k=7$. This approach is simple, but it has proven very effective for numerous real-world problems. As you will discover, finding the best value for $k$ is a trial and error process.\n",
    "\n",
    "<br/>\n",
    "\n",
    "$k$-nn is easy to implement and easy to understand. Only two parameters need to be selected - number of neighbours ($k$) and distance measure (e.g. Euclidean distance). It is a good baseline method to try before considering more advanced techniques. The prediction process can be slow for very large datasets, or datasets with large numbers of features (>100). It does not perform well with sparse datasets (where most feature values are 0).\n",
    "\n",
    "<br/>\n",
    "\n",
    "[Back to table of contents.](#Contents)\n",
    "\n",
    "---"
   ]
  },
  {
   "cell_type": "markdown",
   "metadata": {},
   "source": [
    "#### <a id=\"evaluation\"></a>3.6.4 Evaluation\n",
    "\n",
    "<br/>\n",
    "\n",
    "It is important that we test any machine learning algorithms that we build. Let’s visualise the evaluation of machine learning algorithm using the image presented below. Suppose we have a labelled test dataset consisting of stars and circles as shown.\n",
    "\n",
    "\n",
    "<br/>\n",
    "\n",
    "<img src=\"https://github.com/scienceguyrob/AI4AstroMasterclass/raw/master/media/images/ml/23_Evaluation.png\" width=\"800\">\n",
    "\n",
    "<br/>\n",
    "\n",
    "The stars are the target items enclosed by the green dashed circle. We want to separate stars and circles, but only because we’re trying to find stars. The blue circle with a shaded region represents those examples some classifier has labelled as stars. The central region, where the two circles overlap, contains the relevant items that the classifier has correctly identified in the test set. These are known as, “True Positives”. The left most region of the green dashed circle, not covered by the shaded area, contains relevant items that were not “retrieved”. These represent errors. Here the classifier has predicted circle, when it should have predicted star. Such mistakes are known as “False Negatives”.\n",
    "\n",
    "<br/>\n",
    "\n",
    "The right most region of the blue circle, that doesn’t overlap with the green dashed circle, contains irrelevant items that were “retrieved”. These represent errors. Here the classifier has predicted star, when it should have predicted circle. Such mistakes are known as “False Positives”. The remaining examples are the irrelevant items not retrieved. That is, the classifier correctly predicted circle for these items. These are known as, “True Negatives”.\n",
    "\n",
    "<br/>\n",
    "\n",
    "By counting the outcomes, we can evaluate performance. To do this we use evaluation “metrics”. These include,\n",
    "\n",
    "<br/>\n",
    "\n",
    "$Accuracy =  \\frac{TP+TN}{TP+FP+TN+FN}$\n",
    "\n",
    "<br/>\n",
    "\n",
    "$Recall =  \\frac{TP}{TP+ FN}$\n",
    "\n",
    "<br/>\n",
    "\n",
    "$Precision =  \\frac{TP}{TP+FP}$\n",
    "\n",
    "<br/>\n",
    "\n",
    "To test our algorithms, we must evaluate them using useful metrics. In machine learning we use standard metrics during evaluation. Accuracy is the most easily understood metric and is sometimes a good indicator of performance. But there are many more metrics. Here I simply introduce the three most common. Read a little more about [accuracy](https://en.wikipedia.org/wiki/Accuracy_and_precision), [precision and recall](https://en.wikipedia.org/wiki/Precision_and_recall) in your own time.\n",
    "\n",
    "<br/>\n",
    "\n",
    "Now try this for yourself. Suppose We classify 100 items. Of the 100, we label 80 as stars, and 20 as circles. We are then told that:\n",
    "\n",
    "* We correctly classified 75 stars as stars (True Positives = 75)\n",
    "* We correctly classified 18 circles as circles (True Negatives = 18)\n",
    "* We incorrectly classified 5 stars as circles (False Negatives = 5)\n",
    "* We incorrectly classified 2 circles as stars (False Positives = 2)\n",
    "\n",
    "<br/>\n",
    "\n",
    "What is the recall, precision, and accuracy?\n",
    "\n",
    "<br/>\n",
    "\n",
    "$Recall =  \\frac{TP}{TP+ FN}$\n",
    "\n",
    "$=75/(75+5)$\n",
    "\n",
    "$=0.9375=93.75$%\n",
    "\n",
    "<br/>\n",
    "\n",
    "$Precision =  \\frac{TP}{TP+FP}$\n",
    "\n",
    "$=75/(75+2)$\n",
    "\n",
    "$=0.974 to 3.d.p.=94.4$%\n",
    "\n",
    "<br/>\n",
    "\n",
    "$Accuracy =  \\frac{TP+TN}{TP+FP+TN+FN}$\n",
    "\n",
    "$=(75+18)/(75+2+18+5)$\n",
    "\n",
    "$=0.93=93$%\n",
    "\n",
    "<br/>\n",
    "\n",
    "That’s pretty good!\n",
    "\n",
    "<br/>\n",
    "\n",
    "Suppose we have the following labelled dataset containing two classes. We want to use it for training and testing. However, we want to do this in a robust way, and we don’t want our results to be overly specific to any training/test split that we may choose. So how to proceed. The video below explains one of the preffered ways to split up a dataset into training and test sets for rigorous evaluation.\n",
    "\n",
    "<br/>\n"
   ]
  },
  {
   "cell_type": "code",
   "execution_count": 9,
   "metadata": {},
   "outputs": [
    {
     "data": {
      "text/html": [
       "<video src=\"https://github.com/scienceguyrob/AI4AstroMasterclass/raw/master/media/videos/CrossValidationVideo.mov\" controls  width=\"800\" >\n",
       "      Your browser does not support the <code>video</code> element.\n",
       "    </video>"
      ],
      "text/plain": [
       "<IPython.core.display.Video object>"
      ]
     },
     "execution_count": 9,
     "metadata": {},
     "output_type": "execute_result"
    }
   ],
   "source": [
    "from IPython.display import Video\n",
    "\n",
    "# Setup the video resource.\n",
    "Video('https://github.com/scienceguyrob/AI4AstroMasterclass/raw/master/media/videos/CrossValidationVideo.mov', width=800, embed=False)"
   ]
  },
  {
   "cell_type": "markdown",
   "metadata": {},
   "source": [
    "<br/>\n",
    "\n",
    "1. As we can see above, first we randomly split the labelled data in to $n$ equally sized portions called ”folds”. We ensure each fold has the correct proportion of examples for each class, when compared to the complete labelled data set. So if the ratio of stars to circles is 50:50 in the complete data set, each fold should maintain this ratio.\n",
    "2. Label the folds using numbers. \n",
    "3. We then use the first fold to train a model, and test on the remaining folds. In this case we train on 1 fold and test on 7.\n",
    "4. Record the result achieved for the first test.\n",
    "5. Now use the second fold to train the model. All other folds (including the first) are now used for testing.\n",
    "6. Repeat this process until all folds have been used for training.\n",
    "7. Aggregate the results on for each training fold, and compute averages. This allows a more rounded impression of performance.\n",
    "\n",
    "<br/>\n",
    "\n",
    "This process is known as N-fold Stratified Cross Validation. Machine learning algorithms can be evaluated in many ways, using many different evaluation metrics. Perhaps the most trusted “standard” evaluation strategy, is [Stratified $n$-fold cross validation](https://scikit-learn.org/stable/modules/generated/sklearn.model_selection.StratifiedKFold.html). \n",
    "\n",
    "<br/>\n",
    "\n",
    "[Back to table of contents.](#Contents)\n",
    "\n",
    "---"
   ]
  },
  {
   "cell_type": "markdown",
   "metadata": {},
   "source": [
    "### <a id=\"mlsummary\"></a>3.7 Summary\n",
    "\n",
    "<br/>\n",
    "\n",
    "Let’s summarise the main phases involved in the application of machine learning. First, we collect our data. This step may require data normalization, data cleaning, data labelling, or even removing personal details according to ethics requirements. Whatever the exact steps are, we should end up with a dataset ready for learning. There should be enough samples in the data set to enable it to be split into disjoint training, and test sets. The data should be representative of the concepts we’re trying to learn, and we should aim to minimize the potential for bias where possible.\n",
    "\n",
    "<br/>\n",
    "\n",
    "The next step involves feature design and extraction. This requires designing features for the data, that we believe will help us achieve accurate classification results. If we’re given a dataset of animal pictures, we can extract many possible features, e.g. has legs, number of legs, number of eyes, colour, size etc. \n",
    "\n",
    "<br/>\n",
    "\n",
    "After you’ve designed the features, you must extract them from the dataset, and evaluate them. You can [evaluate features](https://scikit-learn.org/stable/modules/feature_selection.html) by quantifying their information content. Some features have higher information content than others, whilst a subset features may reveal previously hidden information when combined with seemingly unrelated features. In both cases it’s good to evaluate the features to discover these relationships.\n",
    "\n",
    "<br/>\n",
    "\n",
    "Once the features have been evaluated, you can use them to start exploring which machine learning methods work best for your problem. It is desirable to try different types of learning models, evaluating their performance. Choose a model, and train it. Evaluate the trained model on separate test data set - ensure the performance is still good. If it isn’t, try a different algorithm. Repeat this exploration phase until performance is satisfactory. When satisfied that the machine learning model works well, then you can finally deploy it upon new data.\n",
    "\n",
    "<br/>\n",
    "\n",
    "Final thought: there’s no escaping it - Machine learning is a difficult subject. It’s an area of study comprising many subfields that dip into really diverse (and often unexpected) areas. To truly understand the key concepts and apply them for yourselves, further research will be needed. To try and help you on that journey, here are links to resources that I personally have found useful in the past. \n",
    "\n",
    "* [“Machine Learning”, Mitchell, T., 1997.](http://www.cs.cmu.edu/~tom/mlbook.html)\n",
    "\n",
    "* [“Data Mining”, Witten, I. H., et. al, 2011.](http://www.cs.waikato.ac.nz/ml/weka/book.html)\n",
    "\n",
    "* [“Artificial Intelligence”, Norvig, P. & Russel, S., 2009.](http://aima.cs.berkeley.edu) \n",
    "\n",
    "* [“Pattern Recognition and Machine Learning”, Bishop, C. M., 2007, Springer.](https://www.springer.com/gp/book/9780387310732)\n",
    "\n",
    "\n",
    "The book called “Machine Learning” by Mitchell, really helped me when I began working in this field. “Data Mining” by Witten et. al. provides a practical perspective that I also found very valuable. The book “Pattern Recognition and Machine Learning” by Bishop is an exceptional text, but math heavy. Only look here if you want an in-depth understanding of the mathematics underpinning many ML algorithms.\n",
    "\n",
    "\n",
    "<br/>\n",
    "\n",
    "[Back to table of contents.](#Contents)\n",
    "\n",
    "---"
   ]
  },
  {
   "cell_type": "markdown",
   "metadata": {
    "colab_type": "text",
    "id": "LZDSMUn148Si"
   },
   "source": [
    "## <a id=\"masterclass\"></a> 4. Masterclass\n",
    "\n",
    "<br/>\n",
    "\n",
    "You've made it this far down the notebook! We can now get started with our masterclass!\n",
    "\n",
    "<br/>\n",
    "\n",
    "**Pulsars**\n",
    "\n",
    "<br/>\n",
    "\n",
    "Below is an image of the [Crab Nebula](https://en.wikipedia.org/wiki/Crab_Nebula). It sits approximately 6,5000 light years from Earth. The nebula formed just over 1,000 years ago, when a star at it's centre collapsed during a [supernova](https://en.wikipedia.org/wiki/Supernova) event releasing enormous volumes of gas and dust. The birth of the nebula was actually witnessed by Chinese Astronomers in the year 1054. They observed a bright star appear and then suddenly disappear from the night sky. It would have been quite alarming for those seeing this happen. Little did they know that something special lay at the heart of the nebula. A rare type of stellar object known as a [Neutron star](https://en.wikipedia.org/wiki/Neutron_star).\n",
    "\n",
    "<br/>\n",
    "\n",
    "<img src=\"https://github.com/scienceguyrob/AI4AstroMasterclass/raw/master/media/images/astro/crab-nebula.jpg\" width=\"300\">\n",
    "\n",
    "<br/>\n",
    "\n",
    "The video below describes Neutron stars in more detail.\n",
    "\n",
    "<br/>\n"
   ]
  },
  {
   "cell_type": "code",
   "execution_count": 1,
   "metadata": {},
   "outputs": [
    {
     "data": {
      "text/html": [
       "\n",
       "        <iframe\n",
       "            width=\"560\"\n",
       "            height=\"315\"\n",
       "            src=\"https://www.youtube.com/embed/RrMvUL8HFlM\"\n",
       "            frameborder=\"0\"\n",
       "            allowfullscreen\n",
       "        ></iframe>\n",
       "        "
      ],
      "text/plain": [
       "<IPython.lib.display.IFrame at 0x7fdd68197978>"
      ]
     },
     "execution_count": 1,
     "metadata": {},
     "output_type": "execute_result"
    }
   ],
   "source": [
    "from IPython.display import IFrame\n",
    "# Then the code below actually shows the video. Don't worry about understanding\n",
    "# this code. I just include this explanation for the curious.\n",
    "IFrame(src='https://www.youtube.com/embed/RrMvUL8HFlM', width=560, height=315)"
   ]
  },
  {
   "cell_type": "markdown",
   "metadata": {},
   "source": [
    "<br/>\n",
    "\n",
    "As you may have learned from the video above, [Neutron stars](https://en.wikipedia.org/wiki/Neutron_star) are the remnants of massive stars. They are comprised entirely of neutrons (hence the name). Neutron Stars are only approximately 20km in diameter, but possess at least 3 times as much mass as our Sun. This makes them incredibly dense objects. So dense in fact, that a spoonful of Neutron star material would weigh as much as Mount Everest. This density gives Neutron stars large and powerful gravitational fields. They also posses strong magnetic fields. Together these characteristics conspire to make the locality surrounding Neutron Stars one of the most extreme environments in the known Universe. The image below provides a clearer view of the Neutron Star at the centre of the Crab Nebula, shown in the first image. You can see a circular shape at the centre of the nebula - ripples in the gas caused by the gravitational and magnetic fields of the Neutron Star at the centre.\n",
    "\n",
    "<br/>\n",
    "\n",
    "<img src=\"https://github.com/scienceguyrob/AI4AstroMasterclass/raw/master/media/images/astro/Crab_Nebula_pulsar_x-ray.jpg\" width=\"500\">\n",
    "\n",
    "<br/>\n",
    "\n",
    "Some Neutron Stars, like the one at the centre of the Crab Nebula, are particularly special. This is because they produce radio emission detectable here on Earth. These rare Neutron Stars are known more generally as [Radio Pulsars](https://en.wikipedia.org/wiki/Pulsar). Radio pulsars are incredibly important. This is because we can use their radio emission to probe the space between the Earth and the Pulsar (the [Interstellar medium](https://en.wikipedia.org/wiki/Interstellar_medium), as well as the pulsars local environment. This is possible as we can detect changes in their radio emission caused by gravitational and magnetic fields, interstellar dust and many other things. This makes Pulsars incredible natural laboratories. Scientists rely upon them test many scientific theories, such as [theories of gravitation]( https://en.wikipedia.org/wiki/Gravity#General_relativity\n",
    ") . We simply can't build labs on Earth that can test these theories properly. This places great emphasis on finding pulsars. The image below shows the idealised model of the standard radio pulsar which we explore below. \n",
    "\n",
    "<br/>\n",
    "\n",
    "<img src=\"https://github.com/scienceguyrob/AI4AstroMasterclass/raw/master/media/images/astro/PuslarModel.png\" width=\"300\">\n",
    "\n",
    "<br/>\n",
    "\n",
    "Pulsars are very rapidly spinning objects. As they rotate, they emit radio waves from their magnetic poles. If their magnetic axis does not align with their rotational axis, then as the pulsar rotates, radio emission is swept across the sky. Much like a lighthouse warning light. When viewed from Earth This produces the characteristic rise and fall of radio emission which looks like a simple **pulse** here on Earth. This is shown below.\n",
    "\n",
    "<br/>\n",
    "\n",
    "<img src=\"https://github.com/scienceguyrob/AI4AstroMasterclass/raw/master/media/images/astro/ExplainingPulses.png\" width=\"700\">\n",
    "\n",
    "<br/>\n",
    "\n",
    "Pulsars can rotate extremely quickly - up to 716 times per second. This means their pulses can arrive in quick succession. To detect these rapid pulsations, we need sensitive equipment capable of sampling radio emission at very fine timescales (microsecond time sampling needed). To make matters worse, no two pulsars produce the same pulse shape when viewed from Earth. Pulse shape is a little like a fingerprint. Some astronomers can identify pulsars just from their pulse shape! Two example pulses are shown below for the pulsars [PSR J0407+1607](http://simbad.u-strasbg.fr/simbad/sim-id?Ident=PSR%20J0407%2B1607) and [J0437+4715](https://en.wikipedia.org/wiki/PSR_J0437%E2%88%924715). See how they differ. This illustrates that when looking for pulsars, we aren't just searching for simple signals. We're looking for potentially complex patterns.\n",
    "\n",
    "<br/>\n",
    "\n",
    "<img src=\"https://github.com/scienceguyrob/AI4AstroMasterclass/raw/master/media/images/astro/DifferentPulses.png\" width=\"500\">\n",
    "\n",
    "<br/>\n",
    "\n",
    "\n",
    "The video below describes pulsars in a little more detail.\n",
    "\n"
   ]
  },
  {
   "cell_type": "code",
   "execution_count": 2,
   "metadata": {},
   "outputs": [
    {
     "data": {
      "text/html": [
       "\n",
       "        <iframe\n",
       "            width=\"560\"\n",
       "            height=\"315\"\n",
       "            src=\"https://www.youtube.com/embed/gjLk_72V9Bw\"\n",
       "            frameborder=\"0\"\n",
       "            allowfullscreen\n",
       "        ></iframe>\n",
       "        "
      ],
      "text/plain": [
       "<IPython.lib.display.IFrame at 0x7fddc03280f0>"
      ]
     },
     "execution_count": 2,
     "metadata": {},
     "output_type": "execute_result"
    }
   ],
   "source": [
    "from IPython.display import IFrame\n",
    "# Then the code below actually shows the video. Don't worry about understanding\n",
    "# this code. I just include this explanation for the curious.\n",
    "IFrame(src='https://www.youtube.com/embed/gjLk_72V9Bw', width=560, height=315)"
   ]
  },
  {
   "cell_type": "markdown",
   "metadata": {},
   "source": [
    "We search for Pulsars using large radio telescopes. These are capable of receiving their emission, even though it is very hard to detect by the time it reaches the Earth. However, our telescopes also pickup lots of other sources of radio emission. This might include radio interference from other stars, mainly our Sun, or interference from technology here on Earth (satellites, mobile phones, microwaves). These signals are very \"loud\" compared to the emission produce by pulsars. Thus, finding pulsars amongst all the [noise]( https://en.wikipedia.org/wiki/Noise_(electronics)) and [interference]( https://en.wikipedia.org/wiki/Electromagnetic_interference) is a bit like trying to hear a pin drop at a heavy metal concert. \n",
    "\n",
    "<br/>\n",
    "\n",
    "<img src=\"https://github.com/scienceguyrob/AI4AstroMasterclass/raw/master/media/images/astro/TelescopeModel.png\" width=\"500\">\n",
    "\n",
    "<br/>\n",
    "\n",
    "To find Pulsars we have to use complex softwire pipelines capable of isolating their weak pulses. Whilst our search software has become incredibly efficient and sensitive in recent years. Unfortunately, this comes at a cost. We capture many signals that may originate from pulsars, but equally may originate from sources of interference or even background noise. We call such detections **“Candidates”**. The only way to be sure of the true of origin of a candidate signal is to check them manually. This would require pointing a telescope at each candidate source location and checking if a signal is present. This is too time consuming and costly to do in practice. Instead each candidate must be checked systematically – either by an astronomer or piece of software. Usually candidates are filtered by software, and the most promising are checked by astronomers. It is up to them to decide if it resembles a real-pulsar or not. An example candidate is shown in the image below.\n",
    "\n",
    "<br/>\n",
    "\n",
    "<img src=\"https://github.com/scienceguyrob/AI4AstroMasterclass/raw/master/media/images/astro/Candidate.png\" width=\"700\">\n",
    "\n",
    "<br/>\n",
    "\n",
    "Modern searches for pulsars regularly return millions of candidates for analysis. Even after filtering with software, hundreds of thousands of candidates still need to be checked. Clearly this is impossible for humans (with busy jobs) to do! In recent years automated tools have been written to help check these candidates, however it remains a task that requires human input. Machine learning algorithms have therefore been deployed to tackle the problem with some success. Yet it remains a difficult problem to solve. Hence why we're tackling it in this masterclass. Perhaps you can devise a new way to solve this problem that nobody else has yet thought of? To get us started, we now look at the data we’ll be using in this masterclass.\n",
    "\n",
    "<br/>\n"
   ]
  },
  {
   "cell_type": "markdown",
   "metadata": {},
   "source": [
    "### <a id=\"dataintro\"></a>4.1. Data Introduction\n",
    "\n",
    "<br/>\n",
    "\n",
    "Next I provide some example Python code to explain how we store data. From here on any text I provide will not be detailed - I'm assuming you've become familiar with the topics under consideration to understand things for yourself.\n",
    "\n",
    "Here I create a simple 1-dimensional (1D) list structure."
   ]
  },
  {
   "cell_type": "code",
   "execution_count": null,
   "metadata": {
    "colab": {},
    "colab_type": "code",
    "id": "b5fX98bn48Sj"
   },
   "outputs": [],
   "source": [
    "x = [0,0,1,2,3,4,5,6,7,8,9,8,7,6,5,4,3,2,1,0,0]"
   ]
  },
  {
   "cell_type": "markdown",
   "metadata": {
    "colab_type": "text",
    "id": "S_tJr_CR48Sm"
   },
   "source": [
    "We can find out about the data structure by first checking the contents are as we expect."
   ]
  },
  {
   "cell_type": "code",
   "execution_count": null,
   "metadata": {
    "colab": {
     "base_uri": "https://localhost:8080/",
     "height": 34
    },
    "colab_type": "code",
    "id": "yZ4zLGwj48Sn",
    "outputId": "20bb01c3-7878-4c7c-fee4-5e1385a31ec1"
   },
   "outputs": [
    {
     "name": "stdout",
     "output_type": "stream",
     "text": [
      "[0, 0, 1, 2, 3, 4, 5, 6, 7, 8, 9, 8, 7, 6, 5, 4, 3, 2, 1, 0, 0]\n"
     ]
    }
   ],
   "source": [
    "print(x)"
   ]
  },
  {
   "cell_type": "markdown",
   "metadata": {
    "colab_type": "text",
    "id": "pY4Cnzro48Sq"
   },
   "source": [
    "We can also print out the list with some text formatting. This makes it easier to check and interpret our data, especially when we have lots of code."
   ]
  },
  {
   "cell_type": "code",
   "execution_count": null,
   "metadata": {
    "colab": {
     "base_uri": "https://localhost:8080/",
     "height": 34
    },
    "colab_type": "code",
    "id": "_wskDJ4P48Sr",
    "outputId": "b91c10c7-caed-42fc-ada5-96d7608ef5ad"
   },
   "outputs": [
    {
     "name": "stdout",
     "output_type": "stream",
     "text": [
      "The list x contains:  [0, 0, 1, 2, 3, 4, 5, 6, 7, 8, 9, 8, 7, 6, 5, 4, 3, 2, 1, 0, 0]\n"
     ]
    }
   ],
   "source": [
    "print(\"The list x contains: \", x)"
   ]
  },
  {
   "cell_type": "markdown",
   "metadata": {
    "colab_type": "text",
    "id": "QY8HhPKg48St"
   },
   "source": [
    "What if we want to find out what type of object $x$ is? We can do this using the $type$ function."
   ]
  },
  {
   "cell_type": "code",
   "execution_count": null,
   "metadata": {
    "colab": {
     "base_uri": "https://localhost:8080/",
     "height": 34
    },
    "colab_type": "code",
    "id": "5W4kBuK548St",
    "outputId": "7aeb9b30-545a-4176-c4c3-459975fc87de"
   },
   "outputs": [
    {
     "name": "stdout",
     "output_type": "stream",
     "text": [
      "The list x is of the type:  <class 'list'>\n"
     ]
    }
   ],
   "source": [
    "print(\"The list x is of the type: \", type(x))"
   ]
  },
  {
   "cell_type": "markdown",
   "metadata": {
    "colab_type": "text",
    "id": "_8SYF_4R48Sv"
   },
   "source": [
    "So we can see that the variable $x$ is a list. Here's how we can determine how many items are in $x$."
   ]
  },
  {
   "cell_type": "code",
   "execution_count": null,
   "metadata": {
    "colab": {
     "base_uri": "https://localhost:8080/",
     "height": 34
    },
    "colab_type": "code",
    "id": "fP_qp1jU48Sw",
    "outputId": "26bb510d-8f25-4ad6-a60c-7065a4f445af"
   },
   "outputs": [
    {
     "name": "stdout",
     "output_type": "stream",
     "text": [
      "There are  21  items in x.\n"
     ]
    }
   ],
   "source": [
    "print( \"There are \", len(x) , \" items in x.\")"
   ]
  },
  {
   "cell_type": "markdown",
   "metadata": {},
   "source": [
    "<br/>\n",
    "\n",
    "[Back to table of contents.](#Contents)\n",
    "\n",
    "---"
   ]
  },
  {
   "cell_type": "markdown",
   "metadata": {
    "colab_type": "text",
    "id": "ajDPlW3a48Sx"
   },
   "source": [
    "### <a id=\"dataplots\"></a>4.2. Plotting Data\n",
    "\n",
    "Before we can start visualising the data in $x$, we must import a Python library that makes this easier for us. We'll be using the matplotlib library. we can import it as follows:\n"
   ]
  },
  {
   "cell_type": "code",
   "execution_count": null,
   "metadata": {
    "colab": {
     "base_uri": "https://localhost:8080/",
     "height": 34
    },
    "colab_type": "code",
    "id": "LrEIC3-h48Sy",
    "outputId": "b519a803-ed8d-4e49-bd3c-a8a04c74489c"
   },
   "outputs": [
    {
     "name": "stdout",
     "output_type": "stream",
     "text": [
      "Populating the interactive namespace from numpy and matplotlib\n"
     ]
    }
   ],
   "source": [
    "%pylab inline\n",
    "import matplotlib.pyplot as plt"
   ]
  },
  {
   "cell_type": "markdown",
   "metadata": {
    "colab_type": "text",
    "id": "ftiNoToA48S0"
   },
   "source": [
    "Remember the cell above must be executed, before we can use matplotlib for plotting. Now, let us plot the contents of $x$. Note in the code below the use of the '#' symbol. This denotes the start of a comment line. You should, as far as possible, comment your code. This will help us remember what the code was supposed to do. It also helps others understand the code better."
   ]
  },
  {
   "cell_type": "code",
   "execution_count": null,
   "metadata": {
    "colab": {
     "base_uri": "https://localhost:8080/",
     "height": 295
    },
    "colab_type": "code",
    "id": "crL-rPZX48S0",
    "outputId": "85cb64dd-73ee-486f-9c92-49ec098052f9"
   },
   "outputs": [
    {
     "data": {
      "image/png": "[encoded data removed]",
      "text/plain": [
       "<Figure size 432x288 with 1 Axes>"
      ]
     },
     "metadata": {
      "tags": []
     },
     "output_type": "display_data"
    }
   ],
   "source": [
    "# Here I plot the contents of the variable x.\n",
    "figure(1)\n",
    "plot(x, 'r') # The 'r' parameter tells matplotlib to plot in red.\n",
    "xlabel('Bin')\n",
    "ylabel('Value')\n",
    "title(\"A plot of x\")\n",
    "show()"
   ]
  },
  {
   "cell_type": "markdown",
   "metadata": {
    "colab_type": "text",
    "id": "QFncaVA-48S3"
   },
   "source": [
    "Now how about we manipulate the values in $x$, and plot again? before we can do that, lets figure out how to create a loop in Python. The code below simply loops through numbers using the $range$ function. We provide two parameters here - the starting number of the sequence, and the number to generate up to (but not including this number). Here the starting number is 0, and the number to generate up to is 3."
   ]
  },
  {
   "cell_type": "code",
   "execution_count": null,
   "metadata": {
    "colab": {
     "base_uri": "https://localhost:8080/",
     "height": 68
    },
    "colab_type": "code",
    "id": "GDMD-ikt48S4",
    "outputId": "7fe76b12-2864-4ac6-d741-7e68a3baec85"
   },
   "outputs": [
    {
     "name": "stdout",
     "output_type": "stream",
     "text": [
      "0\n",
      "1\n",
      "2\n"
     ]
    }
   ],
   "source": [
    "# A simple loop.\n",
    "for i in range(0,3):\n",
    "    print (i)"
   ]
  },
  {
   "cell_type": "markdown",
   "metadata": {
    "colab_type": "text",
    "id": "MD1z0LE948S6"
   },
   "source": [
    "We can also loop over all the values in $x$."
   ]
  },
  {
   "cell_type": "code",
   "execution_count": null,
   "metadata": {
    "colab": {
     "base_uri": "https://localhost:8080/",
     "height": 374
    },
    "colab_type": "code",
    "id": "uL6GmKhl48S8",
    "outputId": "0660e00d-dda3-42d2-c498-64cee2a110dd"
   },
   "outputs": [
    {
     "name": "stdout",
     "output_type": "stream",
     "text": [
      "0\n",
      "0\n",
      "1\n",
      "2\n",
      "3\n",
      "4\n",
      "5\n",
      "6\n",
      "7\n",
      "8\n",
      "9\n",
      "8\n",
      "7\n",
      "6\n",
      "5\n",
      "4\n",
      "3\n",
      "2\n",
      "1\n",
      "0\n",
      "0\n"
     ]
    }
   ],
   "source": [
    "for value in x:\n",
    "    print(value)"
   ]
  },
  {
   "cell_type": "markdown",
   "metadata": {
    "colab_type": "text",
    "id": "IagJsOwm48S_"
   },
   "source": [
    "Now lets suppose we want to update the values in $x$. What we could do, is loop over each value in $x$ and change it in some way. Say by multiplying it by itself."
   ]
  },
  {
   "cell_type": "code",
   "execution_count": null,
   "metadata": {
    "colab": {
     "base_uri": "https://localhost:8080/",
     "height": 34
    },
    "colab_type": "code",
    "id": "BXzlRvne48S_",
    "outputId": "6b9dd0e1-6fdc-40cc-9429-6262d58c9c6d"
   },
   "outputs": [
    {
     "name": "stdout",
     "output_type": "stream",
     "text": [
      "[0, 0, 1, 2, 3, 4, 5, 6, 7, 8, 9, 8, 7, 6, 5, 4, 3, 2, 1, 0, 0]\n"
     ]
    }
   ],
   "source": [
    "for value in x:\n",
    "    \n",
    "    product = value * value\n",
    "    \n",
    "print(x)"
   ]
  },
  {
   "cell_type": "markdown",
   "metadata": {
    "colab_type": "text",
    "id": "6vjOGMMp48TB"
   },
   "source": [
    "Notice how $x$ hasn't changed above. When we computed the product of $x \\times x$, we didn't store it anywhere. It only exists for the duration of the loop in which it is declared. So now, lets update the values correctly and then plot them."
   ]
  },
  {
   "cell_type": "code",
   "execution_count": null,
   "metadata": {
    "colab": {
     "base_uri": "https://localhost:8080/",
     "height": 34
    },
    "colab_type": "code",
    "id": "fEXpRlBu48TC",
    "outputId": "21bc58ac-2a2b-4e61-c3b4-d0f4bb3441d1"
   },
   "outputs": [
    {
     "name": "stdout",
     "output_type": "stream",
     "text": [
      "[0, 0, 1, 4, 9, 16, 25, 36, 49, 64, 81, 64, 49, 36, 25, 16, 9, 4, 1, 0, 0]\n"
     ]
    }
   ],
   "source": [
    "# We need array indexes so we can modifiy each 'bin' in x.\n",
    "# Since x contains 21 items, we need to loop over item 1 to\n",
    "# 21. However arrays in python use zero indexing. This means\n",
    "# we really need to loop from 0 to 20. Below we use the len()\n",
    "# function to count the items in x. It returns the value 21. \n",
    "# The range function is then used to count from 0 - 20. The range\n",
    "# function doesn't count up to 21 due to the way it is defined.\n",
    "for i in range(0,len(x)):\n",
    "    \n",
    "    x[i] = x[i]*x[i]\n",
    "    \n",
    "print(x)"
   ]
  },
  {
   "cell_type": "markdown",
   "metadata": {
    "colab_type": "text",
    "id": "AXfI-TRi48TE"
   },
   "source": [
    "Now we've updated the data, we note that what we have is data describing $x^{2}$ (since we computed $x \\times x$). We can now plot $x^{2}$ as follows."
   ]
  },
  {
   "cell_type": "code",
   "execution_count": null,
   "metadata": {
    "colab": {
     "base_uri": "https://localhost:8080/",
     "height": 295
    },
    "colab_type": "code",
    "id": "x8-stasx48TE",
    "outputId": "99a1d127-5416-45c8-f223-ae2da44c5d71"
   },
   "outputs": [
    {
     "data": {
      "image/png": "[encoded data removed]",
      "text/plain": [
       "<Figure size 432x288 with 1 Axes>"
      ]
     },
     "metadata": {
      "tags": []
     },
     "output_type": "display_data"
    }
   ],
   "source": [
    "# Here I plot the contents of the variable x.\n",
    "figure(2)\n",
    "plot(x, 'b') # The 'r' parameter tells matplotlib to plot in red.\n",
    "xlabel('Bin')\n",
    "ylabel('Value')\n",
    "title(\"A plot of x^2\")\n",
    "show()"
   ]
  },
  {
   "cell_type": "markdown",
   "metadata": {
    "colab_type": "text",
    "id": "D2LA0Jsm48TG"
   },
   "source": [
    "So far we've only considered 1-d data. What about 2-d data? Suppose we have the following:"
   ]
  },
  {
   "cell_type": "code",
   "execution_count": null,
   "metadata": {
    "colab": {},
    "colab_type": "code",
    "id": "jBR5x_M648TG"
   },
   "outputs": [],
   "source": [
    "twod = [[1.0, 2.0, 3.0, 1.0], \n",
    "       [1.0, 3.0, 1.0, 0.0], \n",
    "       [1.0, 4.0, 1.0, 0.0], \n",
    "       [1.0, 2.0, 4.0, 1.0], \n",
    "       [1.0, 2.0, 1.0, 0.0]]"
   ]
  },
  {
   "cell_type": "markdown",
   "metadata": {
    "colab_type": "text",
    "id": "CPuG5OlM48TI"
   },
   "source": [
    "Lets check the 2-d data's characteristics."
   ]
  },
  {
   "cell_type": "code",
   "execution_count": null,
   "metadata": {
    "colab": {
     "base_uri": "https://localhost:8080/",
     "height": 102
    },
    "colab_type": "code",
    "id": "lQCcSXhM48TJ",
    "outputId": "bd22a7fc-65cf-4917-8367-ff672c741ace"
   },
   "outputs": [
    {
     "name": "stdout",
     "output_type": "stream",
     "text": [
      "[[1.0, 2.0, 3.0, 1.0], [1.0, 3.0, 1.0, 0.0], [1.0, 4.0, 1.0, 0.0], [1.0, 2.0, 4.0, 1.0], [1.0, 2.0, 1.0, 0.0]]\n",
      "\n",
      "\n",
      "The data object type:  <class 'list'>\n",
      "The data object length:  5\n"
     ]
    }
   ],
   "source": [
    "print(twod)\n",
    "print(\"\\n\")\n",
    "print(\"The data object type: \", type (twod))\n",
    "print(\"The data object length: \", len(twod))"
   ]
  },
  {
   "cell_type": "markdown",
   "metadata": {
    "colab_type": "text",
    "id": "WPA3lgJ048TK"
   },
   "source": [
    "From here we can see that the data is a list, that contains lists! There are 5 lists, and each contains data. Saying a list of lists is another way of saying a matrix. Let’s plot the matrix to visualise what we have."
   ]
  },
  {
   "cell_type": "code",
   "execution_count": null,
   "metadata": {
    "colab": {
     "base_uri": "https://localhost:8080/",
     "height": 269
    },
    "colab_type": "code",
    "id": "6JO96sku48TL",
    "outputId": "67bc9847-ea5d-4d76-9b5c-7edbf398f3f0"
   },
   "outputs": [
    {
     "data": {
      "image/png": "[encoded data removed]",
      "text/plain": [
       "<Figure size 432x288 with 2 Axes>"
      ]
     },
     "metadata": {
      "tags": []
     },
     "output_type": "display_data"
    }
   ],
   "source": [
    "figure(3)\n",
    "plt.imshow(twod,cmap='gray')\n",
    "plt.colorbar()\n",
    "plt.show()"
   ]
  },
  {
   "cell_type": "markdown",
   "metadata": {
    "colab_type": "text",
    "id": "1xTUlyzq48TO"
   },
   "source": [
    "Right now we have the data as a list of lists. This isn't really practical. Usually we convert this in to a more useable format. For this we use numpy."
   ]
  },
  {
   "cell_type": "code",
   "execution_count": null,
   "metadata": {
    "colab": {
     "base_uri": "https://localhost:8080/",
     "height": 187
    },
    "colab_type": "code",
    "id": "3kzV48wG48TP",
    "outputId": "dfbd8960-6c1c-4a98-b2cf-50b47362210a",
    "scrolled": true
   },
   "outputs": [
    {
     "name": "stdout",
     "output_type": "stream",
     "text": [
      "[[1. 2. 3. 1.]\n",
      " [1. 3. 1. 0.]\n",
      " [1. 4. 1. 0.]\n",
      " [1. 2. 4. 1.]\n",
      " [1. 2. 1. 0.]]\n",
      "\n",
      "\n",
      "The data object type:  <class 'numpy.ndarray'>\n",
      "The data object length:  5\n",
      "The data object shape:  5\n"
     ]
    }
   ],
   "source": [
    "data = np.asarray(twod)\n",
    "\n",
    "print(data)\n",
    "print(\"\\n\")\n",
    "print(\"The data object type: \"  , type (data))\n",
    "print(\"The data object length: \", len(data))\n",
    "print(\"The data object shape: \" , len(data))"
   ]
  },
  {
   "cell_type": "markdown",
   "metadata": {},
   "source": [
    "<br/>\n",
    "\n",
    "[Back to table of contents.](#Contents)\n",
    "\n",
    "---"
   ]
  },
  {
   "cell_type": "markdown",
   "metadata": {
    "colab_type": "text",
    "id": "S8SW-43a48TS"
   },
   "source": [
    "Now we have the data as a matrix, which can make it easier to process.\n",
    "\n",
    "### <a id=\"datastandardising\"></a>4.3. Standardising Data\n",
    "\n",
    "Suppose we want to process this data in some way. Perhaps we need the values standardised, which gives the data a zero mean, and unit variance (a variance exactly equal to 1). We can write some code to do this. We'll exploit code from numpy library to make this easy. So let’s import the numpy libraries.\n"
   ]
  },
  {
   "cell_type": "code",
   "execution_count": null,
   "metadata": {
    "colab": {},
    "colab_type": "code",
    "id": "katXDNWr48TS"
   },
   "outputs": [],
   "source": [
    "import numpy as np"
   ]
  },
  {
   "cell_type": "markdown",
   "metadata": {
    "colab_type": "text",
    "id": "GRhf2-7N48TU"
   },
   "source": [
    "Now let’s compute the standardised version of the data in $x$."
   ]
  },
  {
   "cell_type": "code",
   "execution_count": null,
   "metadata": {
    "colab": {
     "base_uri": "https://localhost:8080/",
     "height": 295
    },
    "colab_type": "code",
    "id": "V0CqhbxG48TV",
    "outputId": "a613f910-ef5a-4bfa-a5b2-7ec8dfffe046",
    "scrolled": true
   },
   "outputs": [
    {
     "data": {
      "image/png": "[encoded data removed]",
      "text/plain": [
       "<Figure size 432x288 with 1 Axes>"
      ]
     },
     "metadata": {
      "tags": []
     },
     "output_type": "display_data"
    }
   ],
   "source": [
    "x = (x - mean(x)) / std(x)\n",
    "\n",
    "# Here I plot the contents of the variable x.\n",
    "figure(4)\n",
    "plot(x, 'g') # The 'r' parameter tells matplotlib to plot in red.\n",
    "xlabel('Bin')\n",
    "ylabel('Value')\n",
    "title(\"A plot of x standardised\")\n",
    "show()"
   ]
  },
  {
   "cell_type": "markdown",
   "metadata": {
    "colab_type": "text",
    "id": "taos68-848TY"
   },
   "source": [
    "You can see the maximum value on the y-axis has changed, compared to the first plot we created. Has this process worked correctly, however? Lets check."
   ]
  },
  {
   "cell_type": "code",
   "execution_count": null,
   "metadata": {
    "colab": {
     "base_uri": "https://localhost:8080/",
     "height": 51
    },
    "colab_type": "code",
    "id": "7frCeImf48TY",
    "outputId": "4e217153-3cc7-4197-8e2c-c605ed85a8b3"
   },
   "outputs": [
    {
     "name": "stdout",
     "output_type": "stream",
     "text": [
      "The mean of x is:  2.114710523095536e-17\n",
      "The standard deviation of x is:  1.0000000000000002\n"
     ]
    }
   ],
   "source": [
    "print(\"The mean of x is: \", mean(x))\n",
    "print(\"The standard deviation of x is: \", std(x))"
   ]
  },
  {
   "cell_type": "markdown",
   "metadata": {
    "colab_type": "text",
    "id": "F2ZTaFUg48Ta"
   },
   "source": [
    "The result above suggests the mean of $x$ isn't quite zero - is this correct? Well, there are an odd number of data items and the mean is almost zero. So this is indeed correct. If we convert the mean value to an integer, we can see this is the case."
   ]
  },
  {
   "cell_type": "code",
   "execution_count": null,
   "metadata": {
    "colab": {
     "base_uri": "https://localhost:8080/",
     "height": 34
    },
    "colab_type": "code",
    "id": "167kCn4n48Ta",
    "outputId": "47ba9847-ff0b-4402-9bab-ccf72e3f88d2"
   },
   "outputs": [
    {
     "name": "stdout",
     "output_type": "stream",
     "text": [
      "The mean of x is:  0\n"
     ]
    }
   ],
   "source": [
    "print(\"The mean of x is: \", int(mean(x)))"
   ]
  },
  {
   "cell_type": "markdown",
   "metadata": {
    "colab_type": "text",
    "id": "pU9PDY7N48Td"
   },
   "source": [
    "We can see that it is indeed zero. What I did above was cast the data to the integer data type. You must be careful when writing mathematical functions, as if you get casts wrong, your answers will look very weird.\n",
    "\n",
    "Now, going back to how we standardised the data. Suppose we want to do that again, but for a new data set, $Y$."
   ]
  },
  {
   "cell_type": "code",
   "execution_count": null,
   "metadata": {
    "colab": {},
    "colab_type": "code",
    "id": "SZicnOtD48Td"
   },
   "outputs": [],
   "source": [
    "y = [2,3,4,5,6,7,8,9,8,7,6,5,4,3,2,3,4,5,6,7,8,9,8,7,6,5,4,3,2]"
   ]
  },
  {
   "cell_type": "markdown",
   "metadata": {
    "colab_type": "text",
    "id": "oc3oC8e_48Tf"
   },
   "source": [
    "Well, we can convert the code we wrote before into a function. Here is a new function that standardises the data."
   ]
  },
  {
   "cell_type": "code",
   "execution_count": null,
   "metadata": {
    "colab": {},
    "colab_type": "code",
    "id": "HDkihGNO48Th"
   },
   "outputs": [],
   "source": [
    "def standardise(x):\n",
    "    \"\"\"\n",
    "    Standardise the data so that it has a zero mean, and a unit varience.\n",
    "\n",
    "    Parameters\n",
    "    ----------\n",
    "    N/A\n",
    "\n",
    "    Returns\n",
    "    ----------\n",
    "    N/A\n",
    "    \"\"\"\n",
    "        \n",
    "    x = (x - mean(x)) / std(x)\n",
    "    return x"
   ]
  },
  {
   "cell_type": "markdown",
   "metadata": {
    "colab_type": "text",
    "id": "xftODZBt48Tj"
   },
   "source": [
    "Now lets try this new function out."
   ]
  },
  {
   "cell_type": "code",
   "execution_count": null,
   "metadata": {
    "colab": {
     "base_uri": "https://localhost:8080/",
     "height": 102
    },
    "colab_type": "code",
    "id": "VHL68TWl48Tj",
    "outputId": "f4f0c957-2583-4bd5-8780-fd0f9344aa42"
   },
   "outputs": [
    {
     "name": "stdout",
     "output_type": "stream",
     "text": [
      "Mean of y before standardisation:  5.379310344827586\n",
      "Standard deviation of y before standardisation:  2.1239811854392405\n",
      "\n",
      "Mean of y after standardisation:  5.379310344827586\n",
      "Standard deviation of y after standardisation:  2.1239811854392405\n"
     ]
    }
   ],
   "source": [
    "print(\"Mean of y before standardisation: \", mean(y))\n",
    "print(\"Standard deviation of y before standardisation: \", std(y))\n",
    "\n",
    "standardise(y)\n",
    "\n",
    "print(\"\\nMean of y after standardisation: \", mean(y))\n",
    "print(\"Standard deviation of y after standardisation: \", std(y))"
   ]
  },
  {
   "cell_type": "markdown",
   "metadata": {
    "colab_type": "text",
    "id": "BUoLejdK48Tl"
   },
   "source": [
    "Notice above I used '\\n' to make the output look neater? The '\\n' is the newline character. There are other character codes you can try, e.g. '\\t' which is tab break.\n",
    "\n",
    "\n",
    "\n",
    "\n",
    "\n",
    "<br/>\n",
    "\n",
    "[Back to table of contents.](#Contents)\n",
    "\n",
    "---\n"
   ]
  },
  {
   "cell_type": "markdown",
   "metadata": {},
   "source": [
    "### <a id=\"pulsardata\"></a>4.4. Pulsar Data"
   ]
  },
  {
   "cell_type": "markdown",
   "metadata": {},
   "source": [
    "Pulsar data is extremely imbalanced. There are typically 10,000 non-target class examples, for every example of interest. In the sections that follow I show how pulsar data can be read, pre-processed, scaled, and machine learning features extracted. This will demonstrate the basic principles behind how we do machine learning in practice.\n",
    "\n",
    "The input data consists of integrated pulse profiles, collected during the Medium Latitude portion of the High Time Resolution Universe Survey (HTRU) (see Thornton 2013 and Bates et. al. 2012). The data is comprised of $1,586$ pulsar and $8,852$ non-pulsar candidate profiles. Each profile contains exactly 128 phase bins. The data contains 725 of the known 1,108 pulsars (known at the time) in the Medium Latitude survey region (see Levin 2012), along with re-detections and harmonics. The data also contains noise examples, along with strong and weak forms of Radio Frequency Interference (RFI). This data is not to be confused with the [HTRU 2 feature data](https://dx.doi.org/10.6084/m9.figshare.3080389.v1) made available by Lyon et. al. (2016) - the feature data contains only machine learning features extracted from candidates, whilst this data set is made up of integrated pulse profiles only.\n",
    "\n",
    "### Loading the Data\n",
    "\n",
    "Here we simply load in the integrated pulse profile data, from files in the provided distribution. There are two files to be read in. The first contains integrated profiles for pulsars, the second contains noise and RFI profiles."
   ]
  },
  {
   "cell_type": "code",
   "execution_count": 32,
   "metadata": {},
   "outputs": [
    {
     "name": "stdout",
     "output_type": "stream",
     "text": [
      "\n",
      "\n",
      "Total number of pulsar profiles:  1586\n",
      "Total number of noise/RFI profiles:  8852\n"
     ]
    }
   ],
   "source": [
    "# Plotting library.\n",
    "import matplotlib.pyplot as plt\n",
    "\n",
    "# For some math we need to do.\n",
    "import numpy as np\n",
    "\n",
    "# The HTRU 2 profile data is split - one file containing the real pulsar\n",
    "# profiles, one file containing noise/interference profiles. We load both\n",
    "# these data sources here. First we construct relative paths to the files.\n",
    "data_dir = 'data/HTRU2'\n",
    "pulsar_file = data_dir + '/HTRU2_pulsar.csv'\n",
    "nonpulsar_file = data_dir + '/HTRU2_nonpulsar.csv'\n",
    "\n",
    "# Now simply load the data.\n",
    "pulsar_data = np.genfromtxt(pulsar_file, dtype=np.int,delimiter=',')\n",
    "non_pulsar_data = np.genfromtxt(nonpulsar_file, dtype=np.int,delimiter=',')\n",
    "\n",
    "# Print overview details.\n",
    "print ('\\n\\nTotal number of pulsar profiles: ', len(pulsar_data))\n",
    "print ('Total number of noise/RFI profiles: ', len(non_pulsar_data))"
   ]
  },
  {
   "cell_type": "markdown",
   "metadata": {},
   "source": [
    "Now we plot a single example of both classes, to show what the data looks like. First the pulsar example."
   ]
  },
  {
   "cell_type": "code",
   "execution_count": 33,
   "metadata": {},
   "outputs": [
    {
     "data": {
      "image/png": "[encoded data removed]",
      "text/plain": [
       "<matplotlib.figure.Figure at 0x1182aa1d0>"
      ]
     },
     "metadata": {},
     "output_type": "display_data"
    }
   ],
   "source": [
    "plt.figure(1)\n",
    "plt.plot(pulsar_data[7], 'r')\n",
    "plt.xlabel('Bin')\n",
    "plt.ylabel('Normalised Intensity')\n",
    "plt.title('Example Integrated Profile for a pulsar')\n",
    "plt.show()"
   ]
  },
  {
   "cell_type": "markdown",
   "metadata": {},
   "source": [
    "It is clear that the peak is not in the centre. For most examples it is, but not for all. How about for the non-pulsar examples?"
   ]
  },
  {
   "cell_type": "code",
   "execution_count": 34,
   "metadata": {},
   "outputs": [
    {
     "data": {
      "image/png": "[encoded data removed]",
      "text/plain": [
       "<matplotlib.figure.Figure at 0x119d5b048>"
      ]
     },
     "metadata": {},
     "output_type": "display_data"
    }
   ],
   "source": [
    "plt.figure(2)\n",
    "plt.plot(non_pulsar_data[0], 'b')\n",
    "plt.xlabel('Bin')\n",
    "plt.ylabel('Normalised Intensity')\n",
    "plt.title('Example Integrated Profile for a non-pulsar')\n",
    "plt.show()"
   ]
  },
  {
   "cell_type": "markdown",
   "metadata": {},
   "source": [
    "<br/>\n",
    "\n",
    "[Back to table of contents.](#Contents)\n",
    "\n",
    "---"
   ]
  },
  {
   "cell_type": "markdown",
   "metadata": {},
   "source": [
    "### <a id=\"datapreprocessing\"></a>4.5. Data Pre-processing"
   ]
  },
  {
   "cell_type": "markdown",
   "metadata": {},
   "source": [
    "The non-pulsar example doesn't appear to be correctly centred either. So we centre the data using a simple function. We define this function below:"
   ]
  },
  {
   "cell_type": "code",
   "execution_count": 35,
   "metadata": {
    "collapsed": true,
    "jupyter": {
     "outputs_hidden": true
    }
   },
   "outputs": [],
   "source": [
    "import operator\n",
    "\n",
    "def centre_on_peak(data):\n",
    "    \"\"\"\n",
    "    Centre the data such that the maximum y-axis value is in the\n",
    "    centre of the data.\n",
    "\n",
    "    Parameters\n",
    "    ----------\n",
    "    :param data: the data to be centred.\n",
    "\n",
    "    Returns\n",
    "    ----------\n",
    "    :return: the centred data array.\n",
    "    \"\"\"\n",
    "    # Stores the centred data.\n",
    "    centred_data = []\n",
    "\n",
    "    # Get the index of the maximum value.\n",
    "    index, value = max(enumerate(data), key=operator.itemgetter(1))\n",
    "\n",
    "    # Find midpoint of the data.\n",
    "    midpoint = int(len(data)/2)\n",
    "\n",
    "    # Figure out the shift required to centre the data (put max value in centre bin).\n",
    "    n = midpoint - index  # N gives the number of bins the data should be shifted.\n",
    "    a = n % len(data)\n",
    "\n",
    "    # Apply the correction.\n",
    "    centred_data = np.concatenate([data[-a:],data[:-a]])\n",
    "\n",
    "    return centred_data"
   ]
  },
  {
   "cell_type": "markdown",
   "metadata": {},
   "source": [
    "Now we execute this centering function."
   ]
  },
  {
   "cell_type": "code",
   "execution_count": 36,
   "metadata": {},
   "outputs": [
    {
     "data": {
      "image/png": "[encoded data removed]",
      "text/plain": [
       "<matplotlib.figure.Figure at 0x1200204e0>"
      ]
     },
     "metadata": {},
     "output_type": "display_data"
    },
    {
     "data": {
      "image/png": "[encoded data removed]",
      "text/plain": [
       "<matplotlib.figure.Figure at 0x1177999b0>"
      ]
     },
     "metadata": {},
     "output_type": "display_data"
    }
   ],
   "source": [
    "# Here we simply loop over each item in the data arrays,\n",
    "# and update their values.\n",
    "for i in range(0, len(pulsar_data)):\n",
    "    pulsar_data[i] = centre_on_peak(pulsar_data[i])\n",
    "    \n",
    "for i in range(0, len(non_pulsar_data)):\n",
    "    non_pulsar_data[i] = centre_on_peak(non_pulsar_data[i])\n",
    "    \n",
    "plt.figure(3)\n",
    "plt.plot(pulsar_data[7], 'r')\n",
    "plt.xlabel('Bin')\n",
    "plt.ylabel('Normalised Intensity')\n",
    "plt.title('Example Integrated Profile for a pulsar - Centred')\n",
    "plt.show()\n",
    "\n",
    "plt.figure(4)\n",
    "plt.plot(non_pulsar_data[0], 'b')\n",
    "plt.xlabel('Bin')\n",
    "plt.ylabel('Normalised Intensity')\n",
    "plt.title('Example Integrated Profile for a non-pulsar - Centred')\n",
    "plt.show()"
   ]
  },
  {
   "cell_type": "markdown",
   "metadata": {},
   "source": [
    "Now the data is correctly loaded and centred, we can move on. How about we compute some machine learning features from the data? We can use the features devised by Lyon et.al. 2016. The code provided below will allow us to extract these."
   ]
  },
  {
   "cell_type": "markdown",
   "metadata": {},
   "source": [
    "### Scaling\n",
    "Pulsar data is often scaled to some nuermical range, often 0 to 255. Here I provide a function that can perform the scaling."
   ]
  },
  {
   "cell_type": "code",
   "execution_count": 40,
   "metadata": {
    "collapsed": true,
    "jupyter": {
     "outputs_hidden": true
    }
   },
   "outputs": [],
   "source": [
    "def scale(data,new_min, new_max):\n",
    "    \"\"\"\n",
    "    Scales data to within the range [new_min,new_max].\n",
    "\n",
    "    Parameters\n",
    "    ----------\n",
    "    :param data: the data to scale.\n",
    "    :param new_min: the new minimum value for the data range.\n",
    "    :param new_max: the new maximum value for the data range.\n",
    "\n",
    "    Returns\n",
    "    ----------\n",
    "    :return: A new array with the data scaled to within the range [new_min,new_max].\n",
    "    \"\"\"\n",
    "    min_ = min(data)\n",
    "    max_ = max(data)\n",
    "\n",
    "    new_data = []\n",
    "\n",
    "    for n in range(len(data)):\n",
    "\n",
    "        value = data[n]\n",
    "        x = (new_min * (1-( (value-min_) /( max_- min_ )))) + (new_max * ( (value-min_) /( max_- min_ ) ))\n",
    "        new_data.append(x)\n",
    "\n",
    "    return new_data"
   ]
  },
  {
   "cell_type": "markdown",
   "metadata": {},
   "source": [
    "<br/>\n",
    "\n",
    "[Back to table of contents.](#Contents)\n",
    "\n",
    "---"
   ]
  },
  {
   "cell_type": "markdown",
   "metadata": {},
   "source": [
    "### <a id=\"featureextraction\"></a>4.6. Feature Extraction"
   ]
  },
  {
   "cell_type": "code",
   "execution_count": 37,
   "metadata": {
    "collapsed": true,
    "jupyter": {
     "outputs_hidden": true
    }
   },
   "outputs": [],
   "source": [
    "def compute_features(data):\n",
    "    \"\"\"\n",
    "    Computes machine learning feature values for the supplied data array.\n",
    "\n",
    "    Parameters\n",
    "    ----------\n",
    "    :param data: a data array.\n",
    "\n",
    "    Returns\n",
    "    ----------\n",
    "    :return: the computed machine learning features as a list [mean, stdev, shew, kurtosis].\n",
    "    \"\"\"\n",
    "    if data is not None:  # Check data is not empty\n",
    "\n",
    "        if len(data) > 0:\n",
    "\n",
    "            # Sums computed during calculation.\n",
    "            mean_sum = 0\n",
    "            mean_subtracted_sum_power_2 = 0\n",
    "            mean_subtracted_sum_power_3 = 0\n",
    "            mean_subtracted_sum_power_4 = 0\n",
    "\n",
    "            # The number of data points in the array.\n",
    "            n = len(data)\n",
    "\n",
    "            # Necessary first loop to calculate the sum, min and max\n",
    "            for d in data:\n",
    "                mean_sum += float(d)\n",
    "            \n",
    "            if mean_sum > 0 or mean_sum < 0:  # If the mean is less than or greater than zero (should be)\n",
    "                \n",
    "                # Update the mean value.\n",
    "                mean_value = mean_sum / float(n)\n",
    "\n",
    "                # Now try to compute the standard deviation, using\n",
    "                # the mean computed above... we also compute values in\n",
    "                # this loop required to compute the excess Kurtosis and\n",
    "                # standard deviation.\n",
    "\n",
    "                for d in data:\n",
    "                    \n",
    "                    mean_subtracted_sum_power_2 += np.power((float(d) - mean_value), 2.0)\n",
    "\n",
    "                    # Used to compute skew\n",
    "                    mean_subtracted_sum_power_3 += np.power((float(d) - mean_value), 3.0)\n",
    "\n",
    "                    # Used to compute Kurtosis\n",
    "                    mean_subtracted_sum_power_4 += np.power((float(d) - mean_value), 4.0)\n",
    "\n",
    "                # Update the standard deviation value.\n",
    "                stdev = np.sqrt(mean_subtracted_sum_power_2 / (n - 1.0))\n",
    "                # Next try to calculate the excess Kurtosis and skew using the\n",
    "                # information gathered above.\n",
    "\n",
    "                one_over_n = 1.0 / n  # Used multiple times...\n",
    "\n",
    "                kurt = ((one_over_n * mean_subtracted_sum_power_4) / np.power((one_over_n * mean_subtracted_sum_power_2), 2) ) - 3\n",
    "\n",
    "                skew = (one_over_n * mean_subtracted_sum_power_3) / np.power(np.sqrt(one_over_n * mean_subtracted_sum_power_2), 3)\n",
    "                    \n",
    "                return [mean_value, stdev, skew, kurt]\n",
    "                \n",
    "            else:  # Data sums to zero, i.e. no data!\n",
    "                return [0,0,0,0]\n",
    "            \n",
    "        else:  # Data empty for some reason...\n",
    "            return [0,0,0,0]"
   ]
  },
  {
   "cell_type": "markdown",
   "metadata": {},
   "source": [
    "### Feature Extraction Unit Test\n",
    "Now we want to test our feature extraction function works correctly. To do this, we write two important types of test.\n",
    "\n",
    "#### Test 1: Expected Outputs from Theory\n",
    "A Gaussian distribution with a mean of 0, and a standard deviation of 1, should have a skew of 0, and a kurtosis of 0. These values are derivable from theory, and are known to be correct. We can test our function works well, by comparing the values it computes for such a Gaussian distribution. However, I don't have the data points describing a perfect Gaussian distribution readily at hand. So to perform such a test, I use a simple trick. I instead use a Gaussian random number generator, to generate an approximately perfect distribution. I can then compare the outputs of my function computed over this distribution, to the expected values from theory. Whilst the results will not match exactly, it should give us an indication of how the function is performing.\n",
    "\n",
    "#### Test 2: Our output vs. Numpy\n",
    "We can also compare the values obtained by our function, to those produced by the in-built numpy functions. If our function produces outputs close to those expected from theory, and identical to those produced by numpy, we can have confidence that our function is correct.\n",
    "\n",
    "At this point, you may wonder why I bother with the comparison to the theoretical. Perhaps you're thinking, *\"Geez Rob, why not just compare to the numpy function?\"*. Well, sometimes numpy functions have bugs, and we need to be sure that we are robust against them.\n",
    "\n",
    "\n",
    "Ok, now we perform the first two test for a approximately perfect Gaussian distribution. Note that we use the sample standard deviation, and values are rounded to 12 decimal places."
   ]
  },
  {
   "cell_type": "code",
   "execution_count": 38,
   "metadata": {},
   "outputs": [
    {
     "name": "stdout",
     "output_type": "stream",
     "text": [
      "Test 1 for Gaussian Distribution: Our computed values vs. theoretical values\n",
      "\n",
      "\tGaussian data mean:  -0.001636820986 \t\texpected: 0.0\n",
      "\tGaussian data stdev: 1.000969581305 \t\texpected: 1.0\n",
      "\tGaussian data skew:  -0.010071590652 \t\texpected: 0.0\n",
      "\tGaussian data kurt:  0.006428201885 \t\texpected: 0.0\n",
      "\n",
      "\n",
      "Test 2 for Gaussian Distribution: Our computed values vs. numpy function values\n",
      "\n",
      "\tGaussian data mean:  -0.001636820986 \t\tnumpy:  -0.001636820986\n",
      "\tGaussian data stdev: 1.000969581305 \t\tnumpy:  1.000969581305\n",
      "\tGaussian data skew:  -0.010071590652 \t\tnumpy:  -0.010071590652\n",
      "\tGaussian data kurt:  0.006428201885 \t\tnumpy:  0.006428201885 \n",
      "\n",
      "\n"
     ]
    }
   ],
   "source": [
    "import random as rnd\n",
    "from scipy.stats import skew\n",
    "from scipy.stats import kurtosis\n",
    "\n",
    "# Now generate some random data, and test the extracted values.\n",
    "gaussian_data = []\n",
    "for i in range(0, 100000):\n",
    "    gaussian_data.append(rnd.gauss(0.0, 1.0))\n",
    "\n",
    "# Get the feature data\n",
    "[mean_,stdev_,skew_,kurt_] = compute_features(gaussian_data)\n",
    "\n",
    "# Check the results\n",
    "print ('Test 1 for Gaussian Distribution: Our computed values vs. theoretical values\\n')\n",
    "print ('\\tGaussian data mean: ' , str('%.12f' % mean_) , '\\t\\texpected: 0.0')\n",
    "print ('\\tGaussian data stdev:' , str('%.12f' % stdev_), '\\t\\texpected: 1.0')\n",
    "print ('\\tGaussian data skew: ' , str('%.12f' % skew_) , '\\t\\texpected: 0.0')\n",
    "print ('\\tGaussian data kurt: ' , str('%.12f' % kurt_) , '\\t\\texpected: 0.0\\n\\n')\n",
    "\n",
    "# Check the results\n",
    "print ('Test 2 for Gaussian Distribution: Our computed values vs. numpy function values\\n')\n",
    "print ('\\tGaussian data mean: ' , str('%.12f' % mean_) , '\\t\\tnumpy: ' , str('%.12f' % np.mean(gaussian_data)))\n",
    "print ('\\tGaussian data stdev:' , str('%.12f' % stdev_) , '\\t\\tnumpy: ' , str('%.12f' % np.std(gaussian_data,ddof=1)))\n",
    "print ('\\tGaussian data skew: ' , str('%.12f' % skew_) , '\\t\\tnumpy: ' , str('%.12f' % skew(gaussian_data)))\n",
    "print ('\\tGaussian data kurt: ' , str('%.12f' % kurt_) , '\\t\\tnumpy: ' , str('%.12f' % kurtosis(gaussian_data)), '\\n\\n')"
   ]
  },
  {
   "cell_type": "markdown",
   "metadata": {},
   "source": [
    "It's clear that the function is producing values very close to those expected from the theory. It is also clear that our function is giving the same answers to the numpy function. So it appears to be working well. Now for another test, this time on the uniform distribution."
   ]
  },
  {
   "cell_type": "code",
   "execution_count": 39,
   "metadata": {},
   "outputs": [
    {
     "name": "stdout",
     "output_type": "stream",
     "text": [
      "Test 1 for Uniform Distribution: Our computed values vs. theoretical values\n",
      "\n",
      "\tUniform data mean:  0.500053760973 \t\texpected: 0.5\n",
      "\tUniform data stdev: 0.287984271227 \t\texpected:  0.288675134595\n",
      "\tUniform data skew:  0.002904046338 \t\texpected:  0\n",
      "\tUniform data kurt:  -1.196982538612 \t\texpected:  -1.2 \n",
      "\n",
      "\n",
      "Test 2 for Uniform Distribution: Our computed values vs. numpy function values\n",
      "\n",
      "\tUniform data mean:  0.500053760973 \t\tnumpy:  0.500053760973\n",
      "\tUniform data stdev: 0.287984271227 \t\tnumpy:  0.287984271227\n",
      "\tUniform data skew:  0.002904046338 \t\tnumpy:  0.002904046338\n",
      "\tUniform data kurt:  -1.196982538612 \t\tnumpy:  -1.196982538612\n"
     ]
    }
   ],
   "source": [
    "# Now generate some random data, and test the extracted values.\n",
    "uniform_data = []\n",
    "for i in range(0, 100000):\n",
    "    uniform_data.append(rnd.uniform(0.0, 1.0))\n",
    "\n",
    "[mean_,stdev_,skew_,kurt_] = compute_features(uniform_data)\n",
    "        \n",
    "# Standard deviation of uniform distribution is given by:\n",
    "#\n",
    "# Sqrt((1/12) (b-a)^2)\n",
    "#\n",
    "# where a is the lower limit, and b the upper limit. So...\n",
    "expected_std = np.sqrt((1.0/12.0) * np.power((1.0-0.0), 2))\n",
    "\n",
    "# Kurtosis of uniform distribution is given by:\n",
    "#\n",
    "# -(6.0/5.0)\n",
    "expected_kurt = -(6.0/5.0)\n",
    "\n",
    "# Skew of uniform distribution is given by:\n",
    "#\n",
    "# 0\n",
    "expected_skew = 0\n",
    "\n",
    "# See this site for details on these computations:\n",
    "# http:#mathworld.wolfram.com/UniformDistribution.html\n",
    "\n",
    "# Check the results\n",
    "print ('Test 1 for Uniform Distribution: Our computed values vs. theoretical values\\n')\n",
    "print ('\\tUniform data mean: ' , str('%.12f' % mean_) , '\\t\\texpected: 0.5')\n",
    "print ('\\tUniform data stdev:' , str('%.12f' % stdev_), '\\t\\texpected: ' , str(expected_std))\n",
    "print ('\\tUniform data skew: ' , str('%.12f' % skew_) , '\\t\\texpected: ' , str(expected_skew))\n",
    "print ('\\tUniform data kurt: ' , str('%.12f' % kurt_) , '\\t\\texpected: ' , str(expected_kurt) , '\\n\\n')\n",
    "\n",
    "# Check the results\n",
    "print ('Test 2 for Uniform Distribution: Our computed values vs. numpy function values\\n')\n",
    "print ('\\tUniform data mean: ' , str('%.12f' % mean_) , '\\t\\tnumpy: ' , str('%.12f' % np.mean(uniform_data)))\n",
    "print ('\\tUniform data stdev:' , str('%.12f' % stdev_), '\\t\\tnumpy: ' , str('%.12f' % np.std(uniform_data,ddof=1)))\n",
    "print ('\\tUniform data skew: ' , str('%.12f' % skew_) , '\\t\\tnumpy: ' , str('%.12f' % skew(uniform_data)))\n",
    "print ('\\tUniform data kurt: ' , str('%.12f' % kurt_) , '\\t\\tnumpy: ' , str('%.12f' % kurtosis(uniform_data)))"
   ]
  },
  {
   "cell_type": "markdown",
   "metadata": {},
   "source": [
    "It's clear that the function is producing values very close to those expected from the theory. It is also clear that our function is giving the same answers to the numpy function. Based on these results, I trust that the function is correct.\n"
   ]
  },
  {
   "cell_type": "markdown",
   "metadata": {},
   "source": [
    "<br/>\n",
    "\n",
    "[Back to table of contents.](#Contents)\n",
    "\n",
    "---"
   ]
  },
  {
   "cell_type": "markdown",
   "metadata": {},
   "source": [
    "### <a id=\"buildingtrainandtest\"></a>4.7. Building Training & Test Sets"
   ]
  },
  {
   "cell_type": "markdown",
   "metadata": {},
   "source": [
    "## Pulsar Classification\n",
    "So far we've loaded the pulsar data, decided upon a scaling, and chosen our features. Now lets do some basic classification."
   ]
  },
  {
   "cell_type": "code",
   "execution_count": 41,
   "metadata": {
    "collapsed": true,
    "jupyter": {
     "outputs_hidden": true
    }
   },
   "outputs": [],
   "source": [
    "from sklearn.model_selection import train_test_split\n",
    "    \n",
    "X = [] # Stores the feature data.\n",
    "Y = [] # Stores the class labels.\n",
    "\n",
    "# Add pulsar examples.\n",
    "for i in range(0, len(pulsar_data)):\n",
    "    \n",
    "    # Now here we extract the features with the call\n",
    "    # to compute_features(). We also scale each profile\n",
    "    # so that its values fall in the range [0,1]. This is\n",
    "    # done via the call to scale(...).\n",
    "    X.append(compute_features(scale(pulsar_data[i],0.0,1.0)))\n",
    "    Y.append(1)\n",
    "\n",
    "# Add non-pulsar examples.\n",
    "for i in range(0, len(non_pulsar_data)):\n",
    "             \n",
    "    # Now here we extract the features with the call\n",
    "    # to compute_features(). We also scale each profile\n",
    "    # so that its values fall in the range [0,1]. This is\n",
    "    # done via the call to scale(...).\n",
    "    X.append(compute_features(scale(non_pulsar_data[i],0.0,1.0)))\n",
    "    Y.append(0)"
   ]
  },
  {
   "cell_type": "markdown",
   "metadata": {},
   "source": [
    "Now let's create a test/train data set split."
   ]
  },
  {
   "cell_type": "code",
   "execution_count": 42,
   "metadata": {},
   "outputs": [
    {
     "name": "stdout",
     "output_type": "stream",
     "text": [
      "\n",
      "Examples in training set:  10\n",
      "Examples in testing set:  10428\n",
      "Dimensions of training set:  (10, 4)\n",
      "Dimensions of testing set:  (10428, 4)\n"
     ]
    }
   ],
   "source": [
    "x_train, x_test, y_train, y_test = train_test_split(X, Y, test_size=0.999)\n",
    "\n",
    "print ('\\nExamples in training set: ' , str(len(x_train)))\n",
    "print ('Examples in testing set: ' , str(len(x_test)))\n",
    "             \n",
    "# There should be 4 features per example. Lets just check this is\n",
    "# the case.\n",
    "print ('Dimensions of training set: ' , str(np.asarray(x_train).shape))\n",
    "print ('Dimensions of testing set: ' , str(np.asarray(x_test).shape))    "
   ]
  },
  {
   "cell_type": "markdown",
   "metadata": {},
   "source": [
    "<br/>\n",
    "\n",
    "[Back to table of contents.](#Contents)\n",
    "\n",
    "---"
   ]
  },
  {
   "cell_type": "markdown",
   "metadata": {},
   "source": [
    "### <a id=\"builingclassifiers\"></a>4.8. Building Classifiers"
   ]
  },
  {
   "cell_type": "markdown",
   "metadata": {},
   "source": [
    "Now we build and test the classifier. We'll just use a basic calssfier here to keep things simple."
   ]
  },
  {
   "cell_type": "code",
   "execution_count": 43,
   "metadata": {},
   "outputs": [
    {
     "name": "stdout",
     "output_type": "stream",
     "text": [
      "Naive Bayes Classifier accuracy:  95.3778289221 %.\n"
     ]
    }
   ],
   "source": [
    "from sklearn.naive_bayes import GaussianNB\n",
    "\n",
    "classifier = GaussianNB()\n",
    "\n",
    "# First train the classifier with call to fit.\n",
    "classifier.fit(x_train, y_train)\n",
    "\n",
    "# Now obtain the classifiers 'score'\n",
    "accuracy = classifier.score(x_test, y_test)\n",
    "print (\"Naive Bayes Classifier accuracy: \", (100* accuracy), \"%.\")"
   ]
  },
  {
   "cell_type": "markdown",
   "metadata": {},
   "source": [
    "Here we've built a basic classifier on just the integrated pulse profile data of pulsar candidates. The results are quite good - however in the real world things aren't so easy. Stay tuned for more datasets that I'll be able to share - perhaps then you'll find out how tricky pulsar classification is."
   ]
  },
  {
   "cell_type": "markdown",
   "metadata": {},
   "source": [
    "<br/>\n",
    "\n",
    "[Back to table of contents.](#Contents)\n",
    "\n",
    "---"
   ]
  },
  {
   "cell_type": "markdown",
   "metadata": {},
   "source": [
    "### <a id=\"evaluatingclassifiers\"></a>4.9. Evaluating Classifiers"
   ]
  },
  {
   "cell_type": "markdown",
   "metadata": {},
   "source": [
    "<br/>\n",
    "\n",
    "[Back to table of contents.](#Contents)\n",
    "\n",
    "---"
   ]
  },
  {
   "cell_type": "markdown",
   "metadata": {},
   "source": [
    "# <a id=\"references\"></a>5. References\n",
    "\n",
    "[[1](https://www.theguardian.com/technology/2018/jul/25/ai-artificial-intelligence-social-media-bots-wrong)] Oscar Schwartz, \"'The discourse is unhinged': how the media gets AI alarmingly wrong\", The Guardian, 2018, URL: https://www.theguardian.com/technology/2018/jul/25/ai-artificial-intelligence-social-media-bots-wrong\n",
    "\n",
    "[[2](https://www.theverge.com/2019/1/28/18197520/ai-artificial-intelligence-machine-learning-computational-science)] James Vincent, \"The State of AI in 2019\", The Verge, 2019, URL: https://www.theverge.com/2019/1/28/18197520/ai-artificial-intelligence-machine-learning-computational-science\n",
    "\n",
    "[[3](https://www.forbes.com/sites/erikaandersen/2013/10/04/it-seemed-like-a-good-idea-at-the-time-7-of-the-worst-business-decisions-ever-made/)] Erika Anderson, \"It Seemed Like A Good Idea At The Time: 7 Of The Worst Business Decisions Ever Made\", Forbes, 2013, URL: https://www.forbes.com/sites/erikaandersen/2013/10/04/it-seemed-like-a-good-idea-at-the-time-7-of-the-worst-business-decisions-ever-made/\n",
    "\n",
    "[[4](https://www.cnbc.com/2018/12/05/sell-offs-could-be-down-to-machines-that-control-80percent-of-us-stocks-fund-manager-says.html)] Silvia Amaro, \"Sell-offs could be down to machines that control 80% of the US stock market, fund manager says\", CNBC, 2018, URL: https://www.cnbc.com/2018/12/05/sell-offs-could-be-down-to-machines-that-control-80percent-of-us-stocks-fund-manager-says.html \n",
    "\n",
    "[[5](http://news.mit.edu/2018/machine-learning-financial-credit-card-fraud-0920)] Rob Matheson, \"Reducing false positives in credit card fraud detection\" , MIT News Office, 2018, URL: http://news.mit.edu/2018/machine-learning-financial-credit-card-fraud-0920\n",
    "\n",
    "[[6](https://www.forbes.com/sites/nicolemartin1/2019/10/18/how-artifical-intelligence-is-advancing-precision-medicine/)] Nicole Martin, \"How Artifical Intelligence Is Advancing Precision Medicine\", Forbes, 2019, URL: https://www.forbes.com/sites/nicolemartin1/2019/10/18/how-artifical-intelligence-is-advancing-precision-medicine/\n",
    "\n",
    "[[7](https://artificialintelligence-news.com/2019/06/18/volvo-nvidia-assist-ai-self-driving-vehicles/)] Ryan Daws, \"Volvo picks up Nvidia to assist with AI for self-driving vehicles\", AI News, 2019, URL: https://artificialintelligence-news.com/2019/06/18/volvo-nvidia-assist-ai-self-driving-vehicles/\n",
    "\n",
    "[[8](http://www.sportspromedia.com/news/liverpool-fc-skillcorner-ai-data-analysis)] Tom Bassam, \"Liverpool partner with SkillCorner for AI-powered analysis\", SportsPRO, 2019, URL: http://www.sportspromedia.com/news/liverpool-fc-skillcorner-ai-data-analysis\n",
    "\n",
    "[[9](https://phys.org/news/2019-08-team-ai-fast-radio.html)] Katherine Moody, \"Team uses AI to detect fast radio bursts\", Phys.org , 2019, URL: https://phys.org/news/2019-08-team-ai-fast-radio.html\n"
   ]
  }
 ],
 "metadata": {
  "kernelspec": {
   "display_name": "Python 3",
   "language": "python",
   "name": "python3"
  },
  "language_info": {
   "codemirror_mode": {
    "name": "ipython",
    "version": 3
   },
   "file_extension": ".py",
   "mimetype": "text/x-python",
   "name": "python",
   "nbconvert_exporter": "python",
   "pygments_lexer": "ipython3",
   "version": "3.6.9"
  }
 },
 "nbformat": 4,
 "nbformat_minor": 4
}
